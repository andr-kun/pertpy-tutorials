{
 "cells": [
  {
   "cell_type": "markdown",
   "metadata": {},
   "source": [
    "# Enrichment"
   ]
  },
  {
   "cell_type": "markdown",
   "metadata": {},
   "source": [
    "\n",
    "Gene set enrichment analysis allows for the determination of gene sets that are significantly upregulated or downregulated in one population compared to another, providing insights into cellular functions and disease mechanisms.\n",
    "It is typically performed by aggregating differential expression results across cells, then using statistical methods to determine if specific sets of genes are disproportionately represented among the differentially expressed genes.\n",
    "\n",
    "Although commonly done for pathways, any gene set can be tested for enrichment.\n",
    "Pertpy offers rich access to metadata which we can leverage for this purpose.\n",
    "Here, we'll reproduce [drug2cell](https://github.com/Teichlab/drug2cell) where we'll enrich cells using the [chEMBL database](https://www.ebi.ac.uk/chembl/) which contains bioactive molecules with drug-like properties and their corresponding gene sets."
   ]
  },
  {
   "cell_type": "markdown",
   "metadata": {},
   "source": [
    "## Setup"
   ]
  },
  {
   "cell_type": "markdown",
   "metadata": {},
   "source": [
    "We'll be using the standard processed pbmc3k dataset from scanpy."
   ]
  },
  {
   "cell_type": "code",
   "execution_count": 127,
   "metadata": {},
   "outputs": [],
   "source": [
    "import pertpy as pt\n",
    "import scanpy as sc\n",
    "import matplotlib.pyplot as plt\n",
    "\n",
    "adata = sc.datasets.pbmc3k_processed()"
   ]
  },
  {
   "cell_type": "code",
   "execution_count": 128,
   "metadata": {},
   "outputs": [
    {
     "data": {
      "text/plain": [
       "AnnData object with n_obs × n_vars = 2638 × 1838\n",
       "    obs: 'n_genes', 'percent_mito', 'n_counts', 'louvain'\n",
       "    var: 'n_cells'\n",
       "    uns: 'draw_graph', 'louvain', 'louvain_colors', 'neighbors', 'pca', 'rank_genes_groups'\n",
       "    obsm: 'X_pca', 'X_tsne', 'X_umap', 'X_draw_graph_fr'\n",
       "    varm: 'PCs'\n",
       "    obsp: 'distances', 'connectivities'"
      ]
     },
     "execution_count": 128,
     "metadata": {},
     "output_type": "execute_result"
    }
   ],
   "source": [
    "adata"
   ]
  },
  {
   "cell_type": "markdown",
   "metadata": {},
   "source": [
    "## Fetching chEMBL metadata"
   ]
  },
  {
   "cell_type": "markdown",
   "metadata": {},
   "source": [
    "As a (currently optional!) step we will fetch the chEMBL metadata and examine it:"
   ]
  },
  {
   "cell_type": "code",
   "execution_count": 129,
   "metadata": {},
   "outputs": [],
   "source": [
    "pt_chembl = pt.md.Drug()"
   ]
  },
  {
   "cell_type": "code",
   "execution_count": 130,
   "metadata": {},
   "outputs": [
    {
     "data": {
      "text/plain": [
       "AnnData object with n_obs × n_vars = 2638 × 1838\n",
       "    obs: 'n_genes', 'percent_mito', 'n_counts', 'louvain'\n",
       "    var: 'n_cells', 'compounds'\n",
       "    uns: 'draw_graph', 'louvain', 'louvain_colors', 'neighbors', 'pca', 'rank_genes_groups'\n",
       "    obsm: 'X_pca', 'X_tsne', 'X_umap', 'X_draw_graph_fr'\n",
       "    varm: 'PCs'\n",
       "    obsp: 'distances', 'connectivities'"
      ]
     },
     "execution_count": 130,
     "metadata": {},
     "output_type": "execute_result"
    }
   ],
   "source": [
    "pt_chembl.annotate(adata)"
   ]
  },
  {
   "cell_type": "code",
   "execution_count": 131,
   "metadata": {},
   "outputs": [
    {
     "data": {
      "text/plain": [
       "index\n",
       "CDA                                CHEMBL3237547|CEDAZURIDINE\n",
       "HDAC1       CHEMBL343448|ROMIDEPSIN|CHEMBL3545368|PANOBINO...\n",
       "FAAH                                  CHEMBL112|ACETAMINOPHEN\n",
       "PKN2        CHEMBL1421|DASATINIB|CHEMBL1983268|ENTRECTINIB...\n",
       "CD2                                   CHEMBL1201571|ALEFACEPT\n",
       "                                  ...                        \n",
       "C5AR1                                  CHEMBL3989871|AVACOPAN\n",
       "FPR1        CHEMBL101|PHENYLBUTAZONE|CHEMBL1223|PENICILLIN...\n",
       "APOBEC3A                               CHEMBL474579|CEFOTETAN\n",
       "APOBEC3G                               CHEMBL474579|CEFOTETAN\n",
       "TYMP                      CHEMBL65375|TIPIRACIL HYDROCHLORIDE\n",
       "Name: compounds, Length: 94, dtype: object"
      ]
     },
     "execution_count": 131,
     "metadata": {},
     "output_type": "execute_result"
    }
   ],
   "source": [
    "non_empty_compounds = adata.var[\"compounds\"][adata.var[\"compounds\"] != \"\"]\n",
    "non_empty_compounds"
   ]
  },
  {
   "cell_type": "markdown",
   "metadata": {},
   "source": [
    "94 of the genes are included in one or several (divided by the '|' character) gene sets of the chEMBL database.\n",
    "\n",
    "But are any of these associations statistically significant? Let's test this with a hypergeometric test.\n",
    "As a first step, we'll score the genes which computes the mean gene expression of each gene group per cell."
   ]
  },
  {
   "cell_type": "markdown",
   "metadata": {},
   "source": [
    "## Scoring gene sets"
   ]
  },
  {
   "cell_type": "code",
   "execution_count": 132,
   "metadata": {},
   "outputs": [],
   "source": [
    "pt_enricher = pt.tl.Enrichment()\n",
    "pt_enricher.score(adata)"
   ]
  },
  {
   "cell_type": "markdown",
   "metadata": {},
   "source": [
    "This added several new keys in `uns` such as the `pertpy_enrichment_score`:"
   ]
  },
  {
   "cell_type": "code",
   "execution_count": 133,
   "metadata": {},
   "outputs": [
    {
     "data": {
      "text/plain": [
       "array([[-0.23824894, -0.17137621, -0.17137621, ..., -0.24132079,\n",
       "        -0.12806633, -0.17137621],\n",
       "       [-0.30187321, -0.22021136, -0.22021136, ..., -0.05865689,\n",
       "        -0.21009679, -0.22021136],\n",
       "       [-0.3140685 , -0.21615721, -0.21615721, ..., -0.10235345,\n",
       "        -0.09656522, -0.21615721],\n",
       "       ...,\n",
       "       [-0.23376985, -0.16457197, -0.16457197, ..., -0.27393138,\n",
       "        -0.0898563 , -0.16457197],\n",
       "       [-0.21525031, -0.15072401, -0.15072401, ..., -0.32494837,\n",
       "        -0.06951345, -0.15072401],\n",
       "       [-0.2774846 , -0.18967144, -0.18967144, ..., -0.19803014,\n",
       "        -0.0647603 , -0.18967144]])"
      ]
     },
     "execution_count": 133,
     "metadata": {},
     "output_type": "execute_result"
    }
   ],
   "source": [
    "adata.uns[\"pertpy_enrichment_score\"]"
   ]
  },
  {
   "cell_type": "markdown",
   "metadata": {},
   "source": [
    "Let's calculate the differentially expressed genes using a simple Wilcoxon test:"
   ]
  },
  {
   "cell_type": "code",
   "execution_count": 134,
   "metadata": {},
   "outputs": [
    {
     "name": "stderr",
     "output_type": "stream",
     "text": [
      "/home/zeth/miniconda3/envs/pertpy/lib/python3.11/site-packages/numpy/core/fromnumeric.py:84: FutureWarning: The behavior of DataFrame.sum with axis=None is deprecated, in a future version this will reduce over both axes and return a scalar. To retain the old behavior, pass axis=0 (or do not pass axis)\n",
      "  return reduction(axis=axis, out=out, **passkwargs)\n"
     ]
    }
   ],
   "source": [
    "sc.tl.rank_genes_groups(adata, method=\"wilcoxon\", groupby=\"louvain\")"
   ]
  },
  {
   "cell_type": "markdown",
   "metadata": {},
   "source": [
    "It's possible to subset the drug space based on their ATC level 1 and 2 categories for more fine-grained plots:"
   ]
  },
  {
   "cell_type": "code",
   "execution_count": 135,
   "metadata": {},
   "outputs": [
    {
     "name": "stderr",
     "output_type": "stream",
     "text": [
      "/home/zeth/miniconda3/envs/pertpy/lib/python3.11/site-packages/scanpy/plotting/_dotplot.py:168: FutureWarning: The default of observed=False is deprecated and will be changed to True in a future version of pandas. Pass observed=False to retain current behavior or observed=True to adopt the future default and silence this warning.\n",
      "  obs_bool.groupby(level=0).sum() / obs_bool.groupby(level=0).count()\n",
      "/home/zeth/miniconda3/envs/pertpy/lib/python3.11/site-packages/scanpy/plotting/_dotplot.py:178: FutureWarning: The default of observed=False is deprecated and will be changed to True in a future version of pandas. Pass observed=False to retain current behavior or observed=True to adopt the future default and silence this warning.\n",
      "  dot_color_df = self.obs_tidy.groupby(level=0).mean()\n",
      "/home/zeth/miniconda3/envs/pertpy/lib/python3.11/site-packages/scanpy/plotting/_dotplot.py:747: UserWarning: No data for colormapping provided via 'c'. Parameters 'cmap', 'norm' will be ignored\n",
      "  dot_ax.scatter(x, y, **kwds)\n"
     ]
    }
   ],
   "source": [
    "pt_enricher.plot_dotplot(adata, categories=[\"B01\",\"B02\",\"B03\"], groupby=\"louvain\")"
   ]
  },
  {
   "cell_type": "markdown",
   "metadata": {},
   "source": [
    "## Hypergeometric test"
   ]
  },
  {
   "cell_type": "markdown",
   "metadata": {},
   "source": [
    "We can now apply pertpy's hypergeometric test to test for significance.\n",
    "By default, it uses the scoring output, but it can also be used with custom `targets` that can be passed.\n",
    "The output is a dictionary of DataFrames with the clusters used to compute the markers in the original expression space as the keys."
   ]
  },
  {
   "cell_type": "code",
   "execution_count": 136,
   "metadata": {},
   "outputs": [],
   "source": [
    "overrepresentation = pt_enricher.hypergeometric(adata)"
   ]
  },
  {
   "cell_type": "code",
   "execution_count": 137,
   "metadata": {},
   "outputs": [
    {
     "data": {
      "text/html": [
       "<div>\n",
       "<style scoped>\n",
       "    .dataframe tbody tr th:only-of-type {\n",
       "        vertical-align: middle;\n",
       "    }\n",
       "\n",
       "    .dataframe tbody tr th {\n",
       "        vertical-align: top;\n",
       "    }\n",
       "\n",
       "    .dataframe thead th {\n",
       "        text-align: right;\n",
       "    }\n",
       "</style>\n",
       "<table border=\"1\" class=\"dataframe\">\n",
       "  <thead>\n",
       "    <tr style=\"text-align: right;\">\n",
       "      <th></th>\n",
       "      <th>intersection</th>\n",
       "      <th>gene_group</th>\n",
       "      <th>markers</th>\n",
       "      <th>universe</th>\n",
       "      <th>pvals</th>\n",
       "      <th>pvals_adj</th>\n",
       "    </tr>\n",
       "  </thead>\n",
       "  <tbody>\n",
       "    <tr>\n",
       "      <th>CHEMBL1261|CITRIC ACID</th>\n",
       "      <td>0</td>\n",
       "      <td>1</td>\n",
       "      <td>695</td>\n",
       "      <td>1838</td>\n",
       "      <td>1.0</td>\n",
       "      <td>1.0</td>\n",
       "    </tr>\n",
       "    <tr>\n",
       "      <th>CHEMBL1021|NEPAFENAC</th>\n",
       "      <td>0</td>\n",
       "      <td>1</td>\n",
       "      <td>695</td>\n",
       "      <td>1838</td>\n",
       "      <td>1.0</td>\n",
       "      <td>1.0</td>\n",
       "    </tr>\n",
       "    <tr>\n",
       "      <th>CHEMBL19|METHAZOLAMIDE</th>\n",
       "      <td>0</td>\n",
       "      <td>2</td>\n",
       "      <td>695</td>\n",
       "      <td>1838</td>\n",
       "      <td>1.0</td>\n",
       "      <td>1.0</td>\n",
       "    </tr>\n",
       "    <tr>\n",
       "      <th>CHEMBL1200865|LOTEPREDNOL ETABONATE</th>\n",
       "      <td>0</td>\n",
       "      <td>1</td>\n",
       "      <td>695</td>\n",
       "      <td>1838</td>\n",
       "      <td>1.0</td>\n",
       "      <td>1.0</td>\n",
       "    </tr>\n",
       "    <tr>\n",
       "      <th>CHEMBL220491|BRINZOLAMIDE</th>\n",
       "      <td>0</td>\n",
       "      <td>1</td>\n",
       "      <td>695</td>\n",
       "      <td>1838</td>\n",
       "      <td>1.0</td>\n",
       "      <td>1.0</td>\n",
       "    </tr>\n",
       "    <tr>\n",
       "      <th>...</th>\n",
       "      <td>...</td>\n",
       "      <td>...</td>\n",
       "      <td>...</td>\n",
       "      <td>...</td>\n",
       "      <td>...</td>\n",
       "      <td>...</td>\n",
       "    </tr>\n",
       "    <tr>\n",
       "      <th>CHEMBL956|SUPROFEN</th>\n",
       "      <td>0</td>\n",
       "      <td>1</td>\n",
       "      <td>695</td>\n",
       "      <td>1838</td>\n",
       "      <td>1.0</td>\n",
       "      <td>1.0</td>\n",
       "    </tr>\n",
       "    <tr>\n",
       "      <th>CHEMBL118|CELECOXIB</th>\n",
       "      <td>0</td>\n",
       "      <td>2</td>\n",
       "      <td>695</td>\n",
       "      <td>1838</td>\n",
       "      <td>1.0</td>\n",
       "      <td>1.0</td>\n",
       "    </tr>\n",
       "    <tr>\n",
       "      <th>CHEMBL340978|BENOXAPROFEN</th>\n",
       "      <td>0</td>\n",
       "      <td>1</td>\n",
       "      <td>695</td>\n",
       "      <td>1838</td>\n",
       "      <td>1.0</td>\n",
       "      <td>1.0</td>\n",
       "    </tr>\n",
       "    <tr>\n",
       "      <th>CHEMBL1565476|APAZONE</th>\n",
       "      <td>0</td>\n",
       "      <td>2</td>\n",
       "      <td>695</td>\n",
       "      <td>1838</td>\n",
       "      <td>1.0</td>\n",
       "      <td>1.0</td>\n",
       "    </tr>\n",
       "    <tr>\n",
       "      <th>CHEMBL1200467|HYDROXYZINE PAMOATE</th>\n",
       "      <td>0</td>\n",
       "      <td>1</td>\n",
       "      <td>695</td>\n",
       "      <td>1838</td>\n",
       "      <td>1.0</td>\n",
       "      <td>1.0</td>\n",
       "    </tr>\n",
       "  </tbody>\n",
       "</table>\n",
       "<p>601 rows × 6 columns</p>\n",
       "</div>"
      ],
      "text/plain": [
       "                                     intersection  gene_group  markers  \\\n",
       "CHEMBL1261|CITRIC ACID                          0           1      695   \n",
       "CHEMBL1021|NEPAFENAC                            0           1      695   \n",
       "CHEMBL19|METHAZOLAMIDE                          0           2      695   \n",
       "CHEMBL1200865|LOTEPREDNOL ETABONATE             0           1      695   \n",
       "CHEMBL220491|BRINZOLAMIDE                       0           1      695   \n",
       "...                                           ...         ...      ...   \n",
       "CHEMBL956|SUPROFEN                              0           1      695   \n",
       "CHEMBL118|CELECOXIB                             0           2      695   \n",
       "CHEMBL340978|BENOXAPROFEN                       0           1      695   \n",
       "CHEMBL1565476|APAZONE                           0           2      695   \n",
       "CHEMBL1200467|HYDROXYZINE PAMOATE               0           1      695   \n",
       "\n",
       "                                     universe  pvals  pvals_adj  \n",
       "CHEMBL1261|CITRIC ACID                   1838    1.0        1.0  \n",
       "CHEMBL1021|NEPAFENAC                     1838    1.0        1.0  \n",
       "CHEMBL19|METHAZOLAMIDE                   1838    1.0        1.0  \n",
       "CHEMBL1200865|LOTEPREDNOL ETABONATE      1838    1.0        1.0  \n",
       "CHEMBL220491|BRINZOLAMIDE                1838    1.0        1.0  \n",
       "...                                       ...    ...        ...  \n",
       "CHEMBL956|SUPROFEN                       1838    1.0        1.0  \n",
       "CHEMBL118|CELECOXIB                      1838    1.0        1.0  \n",
       "CHEMBL340978|BENOXAPROFEN                1838    1.0        1.0  \n",
       "CHEMBL1565476|APAZONE                    1838    1.0        1.0  \n",
       "CHEMBL1200467|HYDROXYZINE PAMOATE        1838    1.0        1.0  \n",
       "\n",
       "[601 rows x 6 columns]"
      ]
     },
     "execution_count": 137,
     "metadata": {},
     "output_type": "execute_result"
    }
   ],
   "source": [
    "overrepresentation[\"B cells\"]"
   ]
  },
  {
   "cell_type": "markdown",
   "metadata": {},
   "source": [
    "Pertpy provides a GSEA (gene set enrichment analysis) wrapper, executed through blitzgsea.\n",
    "Unlike standard overrepresentation testing, GSEA evaluates gene sets based on their marker scores and assesses the distribution of the gene group members."
   ]
  },
  {
   "cell_type": "code",
   "execution_count": 138,
   "metadata": {},
   "outputs": [],
   "source": [
    "enrichment = pt_enricher.gsea(adata)"
   ]
  },
  {
   "cell_type": "code",
   "execution_count": 139,
   "metadata": {},
   "outputs": [],
   "source": [
    "import matplotlib\n",
    "matplotlib.use('TkAgg')  # Use interactive plotting backend\n",
    "pt_enricher.plot_gsea(adata, enrichment)  # interactive plots will not be rendered in the documentation"
   ]
  },
  {
   "cell_type": "markdown",
   "metadata": {},
   "source": [
    "## Using custom gene sets"
   ]
  },
  {
   "cell_type": "markdown",
   "metadata": {},
   "source": [
    "By default, the `score` function uses the chEMBL dataset, but other it is possible to score any gene sets of choice.\n",
    "The input takes the form of a dictionary with group names as keys and corresponding gene sets as values."
   ]
  },
  {
   "cell_type": "code",
   "execution_count": 140,
   "metadata": {},
   "outputs": [
    {
     "data": {
      "text/plain": [
       "['HLA-DPA1',\n",
       " 'HLA-DQB1',\n",
       " 'HLA-DRA',\n",
       " 'HLA-DOB',\n",
       " 'HLA-DRB3',\n",
       " 'HLA-DQA2',\n",
       " 'HLA-DOA',\n",
       " 'HLA-DQA1',\n",
       " 'HLA-DQB2',\n",
       " 'HLA-DRB1']"
      ]
     },
     "execution_count": 140,
     "metadata": {},
     "output_type": "execute_result"
    }
   ],
   "source": [
    "import blitzgsea as blitz\n",
    "\n",
    "targets = blitz.enrichr.get_library(\"GO_Molecular_Function_2021\")\n",
    "targets[\"MHC class II receptor activity (GO:0032395)\"]"
   ]
  },
  {
   "cell_type": "markdown",
   "metadata": {},
   "source": [
    "We can pass these gene sets to the `score` function's `targets` parameter:"
   ]
  },
  {
   "cell_type": "code",
   "execution_count": 141,
   "metadata": {},
   "outputs": [],
   "source": [
    "pt_enricher.score(adata, targets=targets)"
   ]
  },
  {
   "cell_type": "code",
   "execution_count": 142,
   "metadata": {},
   "outputs": [],
   "source": [
    "enrichment = pt_enricher.gsea(adata, targets=targets)"
   ]
  },
  {
   "cell_type": "code",
   "execution_count": 144,
   "metadata": {},
   "outputs": [],
   "source": [
    "# Another interactive plot\n",
    "fig = blitz.plot.running_sum(\n",
    "    signature = adata.uns[\"pertpy_enrichment_gsea\"]['scores']['B cells'],\n",
    "    library = adata.uns[\"pertpy_enrichment_gsea\"]['targets'],\n",
    "    result = enrichment['B cells'],\n",
    "    geneset = \"MHC class II receptor activity (GO:0032395)\"\n",
    ")\n",
    "fig.show()"
   ]
  }
 ],
 "metadata": {
  "kernelspec": {
   "display_name": "pertpy",
   "language": "python",
   "name": "python3"
  },
  "language_info": {
   "codemirror_mode": {
    "name": "ipython",
    "version": 3
   },
   "file_extension": ".py",
   "mimetype": "text/x-python",
   "name": "python",
   "nbconvert_exporter": "python",
   "pygments_lexer": "ipython3",
   "version": "3.11.4"
  }
 },
 "nbformat": 4,
 "nbformat_minor": 2
}
