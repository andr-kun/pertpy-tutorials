{
 "cells": [
  {
   "cell_type": "markdown",
   "metadata": {},
   "source": [
    "# Augur - cell type prioritization prediction\n",
    "\n",
    "This is a short tutorial demonstrating Augur, a Python implementation of the [Augur R package](https://github.com/neurorestore/Augur).\n",
    "\n",
    "Augur aims to rank or prioritize cell types according to their response to experimental perturbations.\n",
    "The fundamental idea is that in the space of molecular measurements cells reacting heavily to induced perturbations are more easily separated into perturbed and unperturbed than cell types with little or no response.\n",
    "This separability is quantified by measuring how well experimental labels (e.g. treatment and control) can be predicted within each cell type.\n",
    "Augur trains a machine learning model predicting experimental labels for each cell type in multiple cross validation runs and then prioritizes cell type response according to metric scores measuring the accuracy of the model.\n",
    "For categorical data Augur uses the area under the curve and for numerical data it uses concordance correlation coefficient.\n",
    "\n",
    "The following tutorial runs through a simple analysis with Augur using a simulated dataset."
   ]
  },
  {
   "cell_type": "markdown",
   "metadata": {},
   "source": [
    "## Setup"
   ]
  },
  {
   "cell_type": "code",
   "execution_count": 1,
   "metadata": {},
   "outputs": [],
   "source": [
    "import warnings\n",
    "\n",
    "warnings.filterwarnings(\"ignore\")"
   ]
  },
  {
   "cell_type": "code",
   "execution_count": 2,
   "metadata": {},
   "outputs": [
    {
     "data": {
      "text/html": [
       "<pre style=\"white-space:pre;overflow-x:auto;line-height:normal;font-family:Menlo,'DejaVu Sans Mono',consolas,'Courier New',monospace\"><span style=\"color: #808000; text-decoration-color: #808000; font-weight: bold\">ryp2 is not installed. Install with </span><span style=\"color: #008000; text-decoration-color: #008000; font-weight: bold\">pip install rpy2 </span><span style=\"color: #808000; text-decoration-color: #808000; font-weight: bold\">to run tools with R support.</span>\n",
       "</pre>\n"
      ],
      "text/plain": [
       "\u001b[1;33mryp2 is not installed. Install with \u001b[0m\u001b[1;32mpip install rpy2 \u001b[0m\u001b[1;33mto run tools with R support.\u001b[0m\n"
      ]
     },
     "metadata": {},
     "output_type": "display_data"
    },
    {
     "data": {
      "text/html": [
       "<pre style=\"white-space:pre;overflow-x:auto;line-height:normal;font-family:Menlo,'DejaVu Sans Mono',consolas,'Courier New',monospace\"><span style=\"color: #808000; text-decoration-color: #808000; font-weight: bold\">To use sccoda or tasccoda please install ete3 with </span><span style=\"color: #008000; text-decoration-color: #008000; font-weight: bold\">pip install ete3</span>\n",
       "</pre>\n"
      ],
      "text/plain": [
       "\u001b[1;33mTo use sccoda or tasccoda please install ete3 with \u001b[0m\u001b[1;32mpip install ete3\u001b[0m\n"
      ]
     },
     "metadata": {},
     "output_type": "display_data"
    }
   ],
   "source": [
    "import pertpy as pt\n",
    "import scanpy as sc"
   ]
  },
  {
   "cell_type": "markdown",
   "metadata": {},
   "source": [
    "As a first step, we load the dataset.\n",
    "This can either be an AnnData object, a DataFrame containing cell type labels as well as conditions for each cell or data contained in a DataFrame that contains the corresponding metadata.\n",
    "\n",
    "Afterwards, we create an Augur object specifying our estimator of interest to measure how predictable the perturbation labels for each cell type in the dataset are. Choose `random_forest_classifier` or `logistic_regression_classifier` for categorical data and `random_forest_regressor` for numerical data.\n",
    "Additional parameters can be added through the `Params` class.\n",
    "\n",
    "Next, load this data into an AnnData object adding dummy variables of labels and renaming cell type and label observation columns to `cell_type` and `label`.\n",
    "\n",
    "The dataset that we'll use consists of 600 cells, distributed evenly between three populations (cell types A, B, and C).\n",
    "Each of these cell types has approximately half of its cells in one of two conditions, treatment and control.\n",
    "The cell types also have different numbers of differentially expressed genes (DEG) in response to treatment.\n",
    "Cell type A has approximately 5% of DEG in response to the treatment, while cell type B has 25% DEGs and cell type C has 50%. "
   ]
  },
  {
   "cell_type": "code",
   "execution_count": 3,
   "metadata": {},
   "outputs": [],
   "source": [
    "adata = pt.dt.sc_sim_augur()\n",
    "\n",
    "ag_rfc = pt.tl.Augur(\"random_forest_classifier\")\n",
    "loaded_data = ag_rfc.load(adata)"
   ]
  },
  {
   "cell_type": "code",
   "execution_count": 4,
   "metadata": {},
   "outputs": [
    {
     "data": {
      "text/plain": [
       "AnnData object with n_obs × n_vars = 600 × 15697\n",
       "    obs: 'label', 'cell_type', 'y_'\n",
       "    var: 'name'"
      ]
     },
     "execution_count": 4,
     "metadata": {},
     "output_type": "execute_result"
    }
   ],
   "source": [
    "loaded_data"
   ]
  },
  {
   "cell_type": "markdown",
   "metadata": {},
   "source": [
    "## Augur prediction"
   ]
  },
  {
   "cell_type": "markdown",
   "metadata": {},
   "source": [
    "Now we run Augur with the function `predict` and look at the results:"
   ]
  },
  {
   "cell_type": "markdown",
   "metadata": {},
   "source": [
    "The default way to select features is based on `select_variance`, which is an implementation that is very close to the original R Augur implementation. In addition, it is possible to select features with `scanpy.pp.highly_variable_genes`, by setting `select_variance_features=False`"
   ]
  },
  {
   "cell_type": "code",
   "execution_count": 5,
   "metadata": {},
   "outputs": [
    {
     "data": {
      "text/html": [
       "<pre style=\"white-space:pre;overflow-x:auto;line-height:normal;font-family:Menlo,'DejaVu Sans Mono',consolas,'Courier New',monospace\"><span style=\"color: #808000; text-decoration-color: #808000; font-weight: bold\">Set smaller span value in the case of a `segmentation fault` error.</span>\n",
       "</pre>\n"
      ],
      "text/plain": [
       "\u001b[1;33mSet smaller span value in the case of a `segmentation fault` error.\u001b[0m\n"
      ]
     },
     "metadata": {},
     "output_type": "display_data"
    },
    {
     "data": {
      "text/html": [
       "<pre style=\"white-space:pre;overflow-x:auto;line-height:normal;font-family:Menlo,'DejaVu Sans Mono',consolas,'Courier New',monospace\"><span style=\"color: #808000; text-decoration-color: #808000; font-weight: bold\">Set larger span in case of svddc or other near singularities error.</span>\n",
       "</pre>\n"
      ],
      "text/plain": [
       "\u001b[1;33mSet larger span in case of svddc or other near singularities error.\u001b[0m\n"
      ]
     },
     "metadata": {},
     "output_type": "display_data"
    },
    {
     "data": {
      "application/vnd.jupyter.widget-view+json": {
       "model_id": "699af593ca3d406d97e26f7f5bc183ee",
       "version_major": 2,
       "version_minor": 0
      },
      "text/plain": [
       "Output()"
      ]
     },
     "metadata": {},
     "output_type": "display_data"
    },
    {
     "name": "stdout",
     "output_type": "stream",
     "text": [
      "\u001b[1;33mryp2 is not installed. Install with \u001b[0m\u001b[1;32mpip install rpy2 \u001b[0m\u001b[1;33mto run tools with R \u001b[0m\n",
      "\u001b[1;33msupport.\u001b[0m\n",
      "\u001b[1;33mryp2 is not installed. Install with \u001b[0m\u001b[1;32mpip install rpy2 \u001b[0m\u001b[1;33mto run tools with R \u001b[0m\n",
      "\u001b[1;33msupport.\u001b[0m\n",
      "\u001b[1;33mryp2 is not installed. Install with \u001b[0m\u001b[1;32mpip install rpy2 \u001b[0m\u001b[1;33mto run tools with R \u001b[0m\n",
      "\u001b[1;33msupport.\u001b[0m\n",
      "\u001b[1;33mryp2 is not installed. Install with \u001b[0m\u001b[1;32mpip install rpy2 \u001b[0m\u001b[1;33mto run tools with R \u001b[0m\n",
      "\u001b[1;33msupport.\u001b[0m\n",
      "\u001b[1;33mTo use sccoda or tasccoda please install ete3 with \u001b[0m\u001b[1;32mpip install ete3\u001b[0m\n",
      "\u001b[1;33mTo use sccoda or tasccoda please install ete3 with \u001b[0m\u001b[1;32mpip install ete3\u001b[0m\n",
      "\u001b[1;33mTo use sccoda or tasccoda please install ete3 with \u001b[0m\u001b[1;32mpip install ete3\u001b[0m\n",
      "\u001b[1;33mTo use sccoda or tasccoda please install ete3 with \u001b[0m\u001b[1;32mpip install ete3\u001b[0m\n"
     ]
    },
    {
     "data": {
      "text/html": [
       "<pre style=\"white-space:pre;overflow-x:auto;line-height:normal;font-family:Menlo,'DejaVu Sans Mono',consolas,'Courier New',monospace\"></pre>\n"
      ],
      "text/plain": []
     },
     "metadata": {},
     "output_type": "display_data"
    },
    {
     "data": {
      "text/html": [
       "<pre style=\"white-space:pre;overflow-x:auto;line-height:normal;font-family:Menlo,'DejaVu Sans Mono',consolas,'Courier New',monospace\">\n",
       "</pre>\n"
      ],
      "text/plain": [
       "\n"
      ]
     },
     "metadata": {},
     "output_type": "display_data"
    },
    {
     "data": {
      "image/png": "[encoded data removed]",
      "text/plain": [
       "<Figure size 640x480 with 1 Axes>"
      ]
     },
     "metadata": {},
     "output_type": "display_data"
    }
   ],
   "source": [
    "v_adata, v_results = ag_rfc.predict(loaded_data, subsample_size=20, select_variance_features=True, n_threads=4)\n",
    "\n",
    "# to visualize the results\n",
    "lollipop = pt.pl.ag.lollipop(v_results)"
   ]
  },
  {
   "cell_type": "code",
   "execution_count": 6,
   "metadata": {},
   "outputs": [
    {
     "data": {
      "application/vnd.jupyter.widget-view+json": {
       "model_id": "aa7267b48aed477c9d3cf66103d10c13",
       "version_major": 2,
       "version_minor": 0
      },
      "text/plain": [
       "Output()"
      ]
     },
     "metadata": {},
     "output_type": "display_data"
    },
    {
     "name": "stdout",
     "output_type": "stream",
     "text": [
      "\u001b[1;33mryp2 is not installed. Install with \u001b[0m\u001b[1;32mpip install rpy2 \u001b[0m\u001b[1;33mto run tools with R \u001b[0m\n",
      "\u001b[1;33msupport.\u001b[0m\n",
      "\u001b[1;33mTo use sccoda or tasccoda please install ete3 with \u001b[0m\u001b[1;32mpip install ete3\u001b[0m\n",
      "\u001b[1;33mryp2 is not installed. Install with \u001b[0m\u001b[1;32mpip install rpy2 \u001b[0m\u001b[1;33mto run tools with R \u001b[0m\n",
      "\u001b[1;33msupport.\u001b[0m\n",
      "\u001b[1;33mTo use sccoda or tasccoda please install ete3 with \u001b[0m\u001b[1;32mpip install ete3\u001b[0m\n",
      "\u001b[1;33mryp2 is not installed. Install with \u001b[0m\u001b[1;32mpip install rpy2 \u001b[0m\u001b[1;33mto run tools with R \u001b[0m\n",
      "\u001b[1;33msupport.\u001b[0m\n",
      "\u001b[1;33mTo use sccoda or tasccoda please install ete3 with \u001b[0m\u001b[1;32mpip install ete3\u001b[0m\n"
     ]
    },
    {
     "data": {
      "text/html": [
       "<pre style=\"white-space:pre;overflow-x:auto;line-height:normal;font-family:Menlo,'DejaVu Sans Mono',consolas,'Courier New',monospace\"></pre>\n"
      ],
      "text/plain": []
     },
     "metadata": {},
     "output_type": "display_data"
    },
    {
     "data": {
      "text/html": [
       "<pre style=\"white-space:pre;overflow-x:auto;line-height:normal;font-family:Menlo,'DejaVu Sans Mono',consolas,'Courier New',monospace\">\n",
       "</pre>\n"
      ],
      "text/plain": [
       "\n"
      ]
     },
     "metadata": {},
     "output_type": "display_data"
    },
    {
     "name": "stdout",
     "output_type": "stream",
     "text": [
      "                  CellTypeA  CellTypeB  CellTypeC\n",
      "mean_augur_score   0.598299   0.867948   0.918435\n",
      "mean_auc           0.598299   0.867948   0.918435\n",
      "mean_accuracy      0.542674   0.735971   0.783040\n",
      "mean_precision     0.539211   0.782898   0.790340\n",
      "mean_f1            0.419785   0.697024   0.795674\n",
      "mean_recall        0.418889   0.704921   0.855873\n"
     ]
    }
   ],
   "source": [
    "h_adata, h_results = ag_rfc.predict(loaded_data, subsample_size=20, select_variance_features=False, n_threads=4)\n",
    "\n",
    "print(h_results[\"summary_metrics\"])"
   ]
  },
  {
   "cell_type": "markdown",
   "metadata": {},
   "source": [
    "Here we visualize the cell ranking and the corresponding augur scores using `select variance` feature selection in a lollipop plot.\n",
    "In this case the ranking it the same but the values themselves differ between the two methods. "
   ]
  },
  {
   "cell_type": "markdown",
   "metadata": {},
   "source": [
    "To compare the two feature selection methods they can be plotted together in a scatterplot. Here you can see that CellTypeB has slightly higher values when using the method `select_highly_variable` compared to `select_variance`, where as CellTypeC has the same augur score."
   ]
  },
  {
   "cell_type": "code",
   "execution_count": 7,
   "metadata": {},
   "outputs": [
    {
     "data": {
      "image/png": "[encoded data removed]",
      "text/plain": [
       "<Figure size 640x480 with 1 Axes>"
      ]
     },
     "metadata": {},
     "output_type": "display_data"
    }
   ],
   "source": [
    "scatter = pt.pl.ag.scatterplot(v_results, h_results)"
   ]
  },
  {
   "cell_type": "markdown",
   "metadata": {},
   "source": [
    "The corresponding `mean_augur_score` is also saved in `result_adata.obs`."
   ]
  },
  {
   "cell_type": "code",
   "execution_count": 8,
   "metadata": {},
   "outputs": [
    {
     "data": {
      "image/png": "[encoded data removed]",
      "text/plain": [
       "<Figure size 640x480 with 2 Axes>"
      ]
     },
     "metadata": {},
     "output_type": "display_data"
    }
   ],
   "source": [
    "sc.pp.neighbors(adata, use_rep=\"X\")\n",
    "sc.tl.umap(adata)\n",
    "sc.pl.umap(adata=v_adata, color=\"augur_score\")"
   ]
  },
  {
   "cell_type": "markdown",
   "metadata": {},
   "source": [
    "### Feature Importances"
   ]
  },
  {
   "cell_type": "markdown",
   "metadata": {},
   "source": [
    "The results object also returns feature importances.\n",
    "In the case of a random forest estimator the feature importances built into sci-kit learn were used to calculate feature importances.\n",
    "For the logistic regression the [agresti method](https://think-lab.github.io/d/205/) is used where the mean gets subtracted from the coefficient values and then divided by the standard deviation."
   ]
  },
  {
   "cell_type": "code",
   "execution_count": 9,
   "metadata": {},
   "outputs": [
    {
     "data": {
      "image/png": "[encoded data removed]",
      "text/plain": [
       "<Figure size 432x288 with 1 Axes>"
      ]
     },
     "metadata": {
      "needs_background": "light"
     },
     "output_type": "display_data"
    }
   ],
   "source": [
    "important_features = pt.pl.ag.important_features(v_results)"
   ]
  },
  {
   "cell_type": "markdown",
   "metadata": {},
   "source": [
    "### Differential Prioritization\n",
    "\n",
    "Augur is also able to perform differential prioritization and executes a permutation test to identify cell types with statistically significant differences in AUC between two different rounds of cell type prioritization (e.g. response to drugs A and B, compared to untreated control). \n",
    "\n",
    "In the following part, single-cell prefrontal cortex data from adult mice under cocaine self-administration from [Bhattacherjee 2019](https://doi.org/10.1038/s41467-019-12054-3) will be used.\n",
    "Adult mice were subject to cocaine self-administration, samples were collected after three time points: Maintenance, 48h after cocaine withdrawal and 15 days after cocaine withdrawal.\n",
    "\n",
    "We compare `withdraw_15d_Cocaine` and `withdraw_48h_Cocaine` with respect to the difference to `Maintenance_Cocaine`.\n",
    "Each variation is run once in default mode and once in permute mode."
   ]
  },
  {
   "cell_type": "code",
   "execution_count": 10,
   "metadata": {
    "scrolled": true
   },
   "outputs": [],
   "source": [
    "bhattacherjee_adata = pt.dt.bhattacherjee()\n",
    "ag_rfc = pt.tl.Augur(\"random_forest_classifier\")"
   ]
  },
  {
   "cell_type": "markdown",
   "metadata": {},
   "source": [
    "We first run Augur on `Maintenance_Cocaine` and `withdraw_15d_Cocaine` in `augur_mode`=`default`  and `augur_mode`=`permute` mode. "
   ]
  },
  {
   "cell_type": "code",
   "execution_count": 11,
   "metadata": {},
   "outputs": [
    {
     "data": {
      "text/html": [
       "<pre style=\"white-space:pre;overflow-x:auto;line-height:normal;font-family:Menlo,'DejaVu Sans Mono',consolas,'Courier New',monospace\">Filtering samples with Maintenance_Cocaine and withdraw_15d_Cocaine labels.\n",
       "</pre>\n"
      ],
      "text/plain": [
       "Filtering samples with Maintenance_Cocaine and withdraw_15d_Cocaine labels.\n"
      ]
     },
     "metadata": {},
     "output_type": "display_data"
    },
    {
     "data": {
      "application/vnd.jupyter.widget-view+json": {
       "model_id": "359a3c86a2054c60a0951e4ecc093949",
       "version_major": 2,
       "version_minor": 0
      },
      "text/plain": [
       "Output()"
      ]
     },
     "metadata": {},
     "output_type": "display_data"
    },
    {
     "data": {
      "text/html": [
       "<pre style=\"white-space:pre;overflow-x:auto;line-height:normal;font-family:Menlo,'DejaVu Sans Mono',consolas,'Courier New',monospace\"><span style=\"color: #808000; text-decoration-color: #808000; font-weight: bold\">Data not normalized. Normalizing now using scanpy log1p normalize.</span>\n",
       "</pre>\n"
      ],
      "text/plain": [
       "\u001b[1;33mData not normalized. Normalizing now using scanpy log1p normalize.\u001b[0m\n"
      ]
     },
     "metadata": {},
     "output_type": "display_data"
    },
    {
     "data": {
      "text/html": [
       "<pre style=\"white-space:pre;overflow-x:auto;line-height:normal;font-family:Menlo,'DejaVu Sans Mono',consolas,'Courier New',monospace\"><span style=\"color: #808000; text-decoration-color: #808000; font-weight: bold\">Data not normalized. Normalizing now using scanpy log1p normalize.</span>\n",
       "</pre>\n"
      ],
      "text/plain": [
       "\u001b[1;33mData not normalized. Normalizing now using scanpy log1p normalize.\u001b[0m\n"
      ]
     },
     "metadata": {},
     "output_type": "display_data"
    },
    {
     "data": {
      "text/html": [
       "<pre style=\"white-space:pre;overflow-x:auto;line-height:normal;font-family:Menlo,'DejaVu Sans Mono',consolas,'Courier New',monospace\"><span style=\"color: #808000; text-decoration-color: #808000; font-weight: bold\">Data not normalized. Normalizing now using scanpy log1p normalize.</span>\n",
       "</pre>\n"
      ],
      "text/plain": [
       "\u001b[1;33mData not normalized. Normalizing now using scanpy log1p normalize.\u001b[0m\n"
      ]
     },
     "metadata": {},
     "output_type": "display_data"
    },
    {
     "data": {
      "text/html": [
       "<pre style=\"white-space:pre;overflow-x:auto;line-height:normal;font-family:Menlo,'DejaVu Sans Mono',consolas,'Courier New',monospace\"><span style=\"color: #808000; text-decoration-color: #808000; font-weight: bold\">Data not normalized. Normalizing now using scanpy log1p normalize.</span>\n",
       "</pre>\n"
      ],
      "text/plain": [
       "\u001b[1;33mData not normalized. Normalizing now using scanpy log1p normalize.\u001b[0m\n"
      ]
     },
     "metadata": {},
     "output_type": "display_data"
    },
    {
     "data": {
      "text/html": [
       "<pre style=\"white-space:pre;overflow-x:auto;line-height:normal;font-family:Menlo,'DejaVu Sans Mono',consolas,'Courier New',monospace\"><span style=\"color: #808000; text-decoration-color: #808000; font-weight: bold\">Data not normalized. Normalizing now using scanpy log1p normalize.</span>\n",
       "</pre>\n"
      ],
      "text/plain": [
       "\u001b[1;33mData not normalized. Normalizing now using scanpy log1p normalize.\u001b[0m\n"
      ]
     },
     "metadata": {},
     "output_type": "display_data"
    },
    {
     "data": {
      "text/html": [
       "<pre style=\"white-space:pre;overflow-x:auto;line-height:normal;font-family:Menlo,'DejaVu Sans Mono',consolas,'Courier New',monospace\"><span style=\"color: #808000; text-decoration-color: #808000; font-weight: bold\">Data not normalized. Normalizing now using scanpy log1p normalize.</span>\n",
       "</pre>\n"
      ],
      "text/plain": [
       "\u001b[1;33mData not normalized. Normalizing now using scanpy log1p normalize.\u001b[0m\n"
      ]
     },
     "metadata": {},
     "output_type": "display_data"
    },
    {
     "data": {
      "text/html": [
       "<pre style=\"white-space:pre;overflow-x:auto;line-height:normal;font-family:Menlo,'DejaVu Sans Mono',consolas,'Courier New',monospace\"><span style=\"color: #808000; text-decoration-color: #808000; font-weight: bold\">Data not normalized. Normalizing now using scanpy log1p normalize.</span>\n",
       "</pre>\n"
      ],
      "text/plain": [
       "\u001b[1;33mData not normalized. Normalizing now using scanpy log1p normalize.\u001b[0m\n"
      ]
     },
     "metadata": {},
     "output_type": "display_data"
    },
    {
     "data": {
      "text/html": [
       "<pre style=\"white-space:pre;overflow-x:auto;line-height:normal;font-family:Menlo,'DejaVu Sans Mono',consolas,'Courier New',monospace\"><span style=\"color: #808000; text-decoration-color: #808000; font-weight: bold\">Data not normalized. Normalizing now using scanpy log1p normalize.</span>\n",
       "</pre>\n"
      ],
      "text/plain": [
       "\u001b[1;33mData not normalized. Normalizing now using scanpy log1p normalize.\u001b[0m\n"
      ]
     },
     "metadata": {},
     "output_type": "display_data"
    },
    {
     "data": {
      "text/html": [
       "<pre style=\"white-space:pre;overflow-x:auto;line-height:normal;font-family:Menlo,'DejaVu Sans Mono',consolas,'Courier New',monospace\"></pre>\n"
      ],
      "text/plain": []
     },
     "metadata": {},
     "output_type": "display_data"
    },
    {
     "data": {
      "text/html": [
       "<pre style=\"white-space:pre;overflow-x:auto;line-height:normal;font-family:Menlo,'DejaVu Sans Mono',consolas,'Courier New',monospace\">\n",
       "</pre>\n"
      ],
      "text/plain": [
       "\n"
      ]
     },
     "metadata": {},
     "output_type": "display_data"
    },
    {
     "name": "stdout",
     "output_type": "stream",
     "text": [
      "Oligo         0.916088\n",
      "Astro         0.912823\n",
      "Microglia     0.907143\n",
      "OPC           0.900397\n",
      "Endo          0.780590\n",
      "Excitatory    0.688617\n",
      "NF Oligo      0.678730\n",
      "Inhibitory    0.660023\n",
      "Name: mean_augur_score, dtype: float64\n"
     ]
    }
   ],
   "source": [
    "# default\n",
    "bhattacherjee_15 = ag_rfc.load(\n",
    "    bhattacherjee_adata,\n",
    "    condition_label=\"Maintenance_Cocaine\",\n",
    "    treatment_label=\"withdraw_15d_Cocaine\",\n",
    ")\n",
    "\n",
    "bhattacherjee_adata_15, bhattacherjee_results_15 = ag_rfc.predict(bhattacherjee_15, random_state=None, n_threads=4)\n",
    "\n",
    "print(bhattacherjee_results_15[\"summary_metrics\"].loc[\"mean_augur_score\"].sort_values(ascending=False))"
   ]
  },
  {
   "cell_type": "code",
   "execution_count": 12,
   "metadata": {},
   "outputs": [
    {
     "data": {
      "application/vnd.jupyter.widget-view+json": {
       "model_id": "c79eeb548cdf4f4bb73acc5241483c3d",
       "version_major": 2,
       "version_minor": 0
      },
      "text/plain": [
       "Output()"
      ]
     },
     "metadata": {},
     "output_type": "display_data"
    },
    {
     "data": {
      "text/html": [
       "<pre style=\"white-space:pre;overflow-x:auto;line-height:normal;font-family:Menlo,'DejaVu Sans Mono',consolas,'Courier New',monospace\"><span style=\"color: #808000; text-decoration-color: #808000; font-weight: bold\">Data not normalized. Normalizing now using scanpy log1p normalize.</span>\n",
       "</pre>\n"
      ],
      "text/plain": [
       "\u001b[1;33mData not normalized. Normalizing now using scanpy log1p normalize.\u001b[0m\n"
      ]
     },
     "metadata": {},
     "output_type": "display_data"
    },
    {
     "data": {
      "text/html": [
       "<pre style=\"white-space:pre;overflow-x:auto;line-height:normal;font-family:Menlo,'DejaVu Sans Mono',consolas,'Courier New',monospace\"><span style=\"color: #808000; text-decoration-color: #808000; font-weight: bold\">Data not normalized. Normalizing now using scanpy log1p normalize.</span>\n",
       "</pre>\n"
      ],
      "text/plain": [
       "\u001b[1;33mData not normalized. Normalizing now using scanpy log1p normalize.\u001b[0m\n"
      ]
     },
     "metadata": {},
     "output_type": "display_data"
    },
    {
     "data": {
      "text/html": [
       "<pre style=\"white-space:pre;overflow-x:auto;line-height:normal;font-family:Menlo,'DejaVu Sans Mono',consolas,'Courier New',monospace\"><span style=\"color: #808000; text-decoration-color: #808000; font-weight: bold\">Data not normalized. Normalizing now using scanpy log1p normalize.</span>\n",
       "</pre>\n"
      ],
      "text/plain": [
       "\u001b[1;33mData not normalized. Normalizing now using scanpy log1p normalize.\u001b[0m\n"
      ]
     },
     "metadata": {},
     "output_type": "display_data"
    },
    {
     "data": {
      "text/html": [
       "<pre style=\"white-space:pre;overflow-x:auto;line-height:normal;font-family:Menlo,'DejaVu Sans Mono',consolas,'Courier New',monospace\"><span style=\"color: #808000; text-decoration-color: #808000; font-weight: bold\">Data not normalized. Normalizing now using scanpy log1p normalize.</span>\n",
       "</pre>\n"
      ],
      "text/plain": [
       "\u001b[1;33mData not normalized. Normalizing now using scanpy log1p normalize.\u001b[0m\n"
      ]
     },
     "metadata": {},
     "output_type": "display_data"
    },
    {
     "data": {
      "text/html": [
       "<pre style=\"white-space:pre;overflow-x:auto;line-height:normal;font-family:Menlo,'DejaVu Sans Mono',consolas,'Courier New',monospace\"><span style=\"color: #808000; text-decoration-color: #808000; font-weight: bold\">Data not normalized. Normalizing now using scanpy log1p normalize.</span>\n",
       "</pre>\n"
      ],
      "text/plain": [
       "\u001b[1;33mData not normalized. Normalizing now using scanpy log1p normalize.\u001b[0m\n"
      ]
     },
     "metadata": {},
     "output_type": "display_data"
    },
    {
     "data": {
      "text/html": [
       "<pre style=\"white-space:pre;overflow-x:auto;line-height:normal;font-family:Menlo,'DejaVu Sans Mono',consolas,'Courier New',monospace\"><span style=\"color: #808000; text-decoration-color: #808000; font-weight: bold\">Data not normalized. Normalizing now using scanpy log1p normalize.</span>\n",
       "</pre>\n"
      ],
      "text/plain": [
       "\u001b[1;33mData not normalized. Normalizing now using scanpy log1p normalize.\u001b[0m\n"
      ]
     },
     "metadata": {},
     "output_type": "display_data"
    },
    {
     "data": {
      "text/html": [
       "<pre style=\"white-space:pre;overflow-x:auto;line-height:normal;font-family:Menlo,'DejaVu Sans Mono',consolas,'Courier New',monospace\"><span style=\"color: #808000; text-decoration-color: #808000; font-weight: bold\">Data not normalized. Normalizing now using scanpy log1p normalize.</span>\n",
       "</pre>\n"
      ],
      "text/plain": [
       "\u001b[1;33mData not normalized. Normalizing now using scanpy log1p normalize.\u001b[0m\n"
      ]
     },
     "metadata": {},
     "output_type": "display_data"
    },
    {
     "data": {
      "text/html": [
       "<pre style=\"white-space:pre;overflow-x:auto;line-height:normal;font-family:Menlo,'DejaVu Sans Mono',consolas,'Courier New',monospace\"><span style=\"color: #808000; text-decoration-color: #808000; font-weight: bold\">Data not normalized. Normalizing now using scanpy log1p normalize.</span>\n",
       "</pre>\n"
      ],
      "text/plain": [
       "\u001b[1;33mData not normalized. Normalizing now using scanpy log1p normalize.\u001b[0m\n"
      ]
     },
     "metadata": {},
     "output_type": "display_data"
    },
    {
     "data": {
      "text/html": [
       "<pre style=\"white-space:pre;overflow-x:auto;line-height:normal;font-family:Menlo,'DejaVu Sans Mono',consolas,'Courier New',monospace\"></pre>\n"
      ],
      "text/plain": []
     },
     "metadata": {},
     "output_type": "display_data"
    },
    {
     "data": {
      "text/html": [
       "<pre style=\"white-space:pre;overflow-x:auto;line-height:normal;font-family:Menlo,'DejaVu Sans Mono',consolas,'Courier New',monospace\">\n",
       "</pre>\n"
      ],
      "text/plain": [
       "\n"
      ]
     },
     "metadata": {},
     "output_type": "display_data"
    }
   ],
   "source": [
    "# permute\n",
    "bhattacherjee_adata_15_permute, bhattacherjee_results_15_permute = ag_rfc.predict(\n",
    "    bhattacherjee_15,\n",
    "    augur_mode=\"permute\",\n",
    "    n_subsamples=100,\n",
    "    random_state=None,\n",
    "    n_threads=4,\n",
    ")"
   ]
  },
  {
   "cell_type": "markdown",
   "metadata": {},
   "source": [
    "Now lets do the same looking at `Maintenance_Cocaine` and `withdraw_48h_Cocaine`."
   ]
  },
  {
   "cell_type": "code",
   "execution_count": 13,
   "metadata": {},
   "outputs": [
    {
     "data": {
      "text/html": [
       "<pre style=\"white-space:pre;overflow-x:auto;line-height:normal;font-family:Menlo,'DejaVu Sans Mono',consolas,'Courier New',monospace\">Filtering samples with Maintenance_Cocaine and withdraw_48h_Cocaine labels.\n",
       "</pre>\n"
      ],
      "text/plain": [
       "Filtering samples with Maintenance_Cocaine and withdraw_48h_Cocaine labels.\n"
      ]
     },
     "metadata": {},
     "output_type": "display_data"
    },
    {
     "data": {
      "application/vnd.jupyter.widget-view+json": {
       "model_id": "8604b7aa957f4b5493751fe0ba7e95f7",
       "version_major": 2,
       "version_minor": 0
      },
      "text/plain": [
       "Output()"
      ]
     },
     "metadata": {},
     "output_type": "display_data"
    },
    {
     "data": {
      "text/html": [
       "<pre style=\"white-space:pre;overflow-x:auto;line-height:normal;font-family:Menlo,'DejaVu Sans Mono',consolas,'Courier New',monospace\"><span style=\"color: #808000; text-decoration-color: #808000; font-weight: bold\">Data not normalized. Normalizing now using scanpy log1p normalize.</span>\n",
       "</pre>\n"
      ],
      "text/plain": [
       "\u001b[1;33mData not normalized. Normalizing now using scanpy log1p normalize.\u001b[0m\n"
      ]
     },
     "metadata": {},
     "output_type": "display_data"
    },
    {
     "data": {
      "text/html": [
       "<pre style=\"white-space:pre;overflow-x:auto;line-height:normal;font-family:Menlo,'DejaVu Sans Mono',consolas,'Courier New',monospace\"><span style=\"color: #808000; text-decoration-color: #808000; font-weight: bold\">Data not normalized. Normalizing now using scanpy log1p normalize.</span>\n",
       "</pre>\n"
      ],
      "text/plain": [
       "\u001b[1;33mData not normalized. Normalizing now using scanpy log1p normalize.\u001b[0m\n"
      ]
     },
     "metadata": {},
     "output_type": "display_data"
    },
    {
     "data": {
      "text/html": [
       "<pre style=\"white-space:pre;overflow-x:auto;line-height:normal;font-family:Menlo,'DejaVu Sans Mono',consolas,'Courier New',monospace\"><span style=\"color: #808000; text-decoration-color: #808000; font-weight: bold\">Data not normalized. Normalizing now using scanpy log1p normalize.</span>\n",
       "</pre>\n"
      ],
      "text/plain": [
       "\u001b[1;33mData not normalized. Normalizing now using scanpy log1p normalize.\u001b[0m\n"
      ]
     },
     "metadata": {},
     "output_type": "display_data"
    },
    {
     "data": {
      "text/html": [
       "<pre style=\"white-space:pre;overflow-x:auto;line-height:normal;font-family:Menlo,'DejaVu Sans Mono',consolas,'Courier New',monospace\"><span style=\"color: #808000; text-decoration-color: #808000; font-weight: bold\">Data not normalized. Normalizing now using scanpy log1p normalize.</span>\n",
       "</pre>\n"
      ],
      "text/plain": [
       "\u001b[1;33mData not normalized. Normalizing now using scanpy log1p normalize.\u001b[0m\n"
      ]
     },
     "metadata": {},
     "output_type": "display_data"
    },
    {
     "data": {
      "text/html": [
       "<pre style=\"white-space:pre;overflow-x:auto;line-height:normal;font-family:Menlo,'DejaVu Sans Mono',consolas,'Courier New',monospace\"><span style=\"color: #808000; text-decoration-color: #808000; font-weight: bold\">Data not normalized. Normalizing now using scanpy log1p normalize.</span>\n",
       "</pre>\n"
      ],
      "text/plain": [
       "\u001b[1;33mData not normalized. Normalizing now using scanpy log1p normalize.\u001b[0m\n"
      ]
     },
     "metadata": {},
     "output_type": "display_data"
    },
    {
     "data": {
      "text/html": [
       "<pre style=\"white-space:pre;overflow-x:auto;line-height:normal;font-family:Menlo,'DejaVu Sans Mono',consolas,'Courier New',monospace\"><span style=\"color: #808000; text-decoration-color: #808000; font-weight: bold\">Data not normalized. Normalizing now using scanpy log1p normalize.</span>\n",
       "</pre>\n"
      ],
      "text/plain": [
       "\u001b[1;33mData not normalized. Normalizing now using scanpy log1p normalize.\u001b[0m\n"
      ]
     },
     "metadata": {},
     "output_type": "display_data"
    },
    {
     "data": {
      "text/html": [
       "<pre style=\"white-space:pre;overflow-x:auto;line-height:normal;font-family:Menlo,'DejaVu Sans Mono',consolas,'Courier New',monospace\"><span style=\"color: #808000; text-decoration-color: #808000; font-weight: bold\">Data not normalized. Normalizing now using scanpy log1p normalize.</span>\n",
       "</pre>\n"
      ],
      "text/plain": [
       "\u001b[1;33mData not normalized. Normalizing now using scanpy log1p normalize.\u001b[0m\n"
      ]
     },
     "metadata": {},
     "output_type": "display_data"
    },
    {
     "data": {
      "text/html": [
       "<pre style=\"white-space:pre;overflow-x:auto;line-height:normal;font-family:Menlo,'DejaVu Sans Mono',consolas,'Courier New',monospace\"><span style=\"color: #808000; text-decoration-color: #808000; font-weight: bold\">Data not normalized. Normalizing now using scanpy log1p normalize.</span>\n",
       "</pre>\n"
      ],
      "text/plain": [
       "\u001b[1;33mData not normalized. Normalizing now using scanpy log1p normalize.\u001b[0m\n"
      ]
     },
     "metadata": {},
     "output_type": "display_data"
    },
    {
     "data": {
      "text/html": [
       "<pre style=\"white-space:pre;overflow-x:auto;line-height:normal;font-family:Menlo,'DejaVu Sans Mono',consolas,'Courier New',monospace\"></pre>\n"
      ],
      "text/plain": []
     },
     "metadata": {},
     "output_type": "display_data"
    },
    {
     "data": {
      "text/html": [
       "<pre style=\"white-space:pre;overflow-x:auto;line-height:normal;font-family:Menlo,'DejaVu Sans Mono',consolas,'Courier New',monospace\">\n",
       "</pre>\n"
      ],
      "text/plain": [
       "\n"
      ]
     },
     "metadata": {},
     "output_type": "display_data"
    },
    {
     "name": "stdout",
     "output_type": "stream",
     "text": [
      "Inhibitory    0.675272\n",
      "Astro         0.664728\n",
      "OPC           0.628141\n",
      "Microglia     0.614116\n",
      "Endo          0.603107\n",
      "Oligo         0.589728\n",
      "NF Oligo      0.587596\n",
      "Excitatory    0.559229\n",
      "Name: mean_augur_score, dtype: float64\n"
     ]
    }
   ],
   "source": [
    "# default\n",
    "bhattacherjee_48 = ag_rfc.load(\n",
    "    bhattacherjee_adata,\n",
    "    condition_label=\"Maintenance_Cocaine\",\n",
    "    treatment_label=\"withdraw_48h_Cocaine\",\n",
    ")\n",
    "\n",
    "bhattacherjee_adata_48, bhattacherjee_results_48 = ag_rfc.predict(bhattacherjee_48, random_state=None, n_threads=4)\n",
    "\n",
    "print(bhattacherjee_results_48[\"summary_metrics\"].loc[\"mean_augur_score\"].sort_values(ascending=False))"
   ]
  },
  {
   "cell_type": "code",
   "execution_count": 14,
   "metadata": {},
   "outputs": [
    {
     "data": {
      "application/vnd.jupyter.widget-view+json": {
       "model_id": "9590d7299d694aa5895e5163b3c4f3a1",
       "version_major": 2,
       "version_minor": 0
      },
      "text/plain": [
       "Output()"
      ]
     },
     "metadata": {},
     "output_type": "display_data"
    },
    {
     "data": {
      "text/html": [
       "<pre style=\"white-space:pre;overflow-x:auto;line-height:normal;font-family:Menlo,'DejaVu Sans Mono',consolas,'Courier New',monospace\"><span style=\"color: #808000; text-decoration-color: #808000; font-weight: bold\">Data not normalized. Normalizing now using scanpy log1p normalize.</span>\n",
       "</pre>\n"
      ],
      "text/plain": [
       "\u001b[1;33mData not normalized. Normalizing now using scanpy log1p normalize.\u001b[0m\n"
      ]
     },
     "metadata": {},
     "output_type": "display_data"
    },
    {
     "data": {
      "text/html": [
       "<pre style=\"white-space:pre;overflow-x:auto;line-height:normal;font-family:Menlo,'DejaVu Sans Mono',consolas,'Courier New',monospace\"><span style=\"color: #808000; text-decoration-color: #808000; font-weight: bold\">Data not normalized. Normalizing now using scanpy log1p normalize.</span>\n",
       "</pre>\n"
      ],
      "text/plain": [
       "\u001b[1;33mData not normalized. Normalizing now using scanpy log1p normalize.\u001b[0m\n"
      ]
     },
     "metadata": {},
     "output_type": "display_data"
    },
    {
     "data": {
      "text/html": [
       "<pre style=\"white-space:pre;overflow-x:auto;line-height:normal;font-family:Menlo,'DejaVu Sans Mono',consolas,'Courier New',monospace\"><span style=\"color: #808000; text-decoration-color: #808000; font-weight: bold\">Data not normalized. Normalizing now using scanpy log1p normalize.</span>\n",
       "</pre>\n"
      ],
      "text/plain": [
       "\u001b[1;33mData not normalized. Normalizing now using scanpy log1p normalize.\u001b[0m\n"
      ]
     },
     "metadata": {},
     "output_type": "display_data"
    },
    {
     "data": {
      "text/html": [
       "<pre style=\"white-space:pre;overflow-x:auto;line-height:normal;font-family:Menlo,'DejaVu Sans Mono',consolas,'Courier New',monospace\"><span style=\"color: #808000; text-decoration-color: #808000; font-weight: bold\">Data not normalized. Normalizing now using scanpy log1p normalize.</span>\n",
       "</pre>\n"
      ],
      "text/plain": [
       "\u001b[1;33mData not normalized. Normalizing now using scanpy log1p normalize.\u001b[0m\n"
      ]
     },
     "metadata": {},
     "output_type": "display_data"
    },
    {
     "data": {
      "text/html": [
       "<pre style=\"white-space:pre;overflow-x:auto;line-height:normal;font-family:Menlo,'DejaVu Sans Mono',consolas,'Courier New',monospace\"><span style=\"color: #808000; text-decoration-color: #808000; font-weight: bold\">Data not normalized. Normalizing now using scanpy log1p normalize.</span>\n",
       "</pre>\n"
      ],
      "text/plain": [
       "\u001b[1;33mData not normalized. Normalizing now using scanpy log1p normalize.\u001b[0m\n"
      ]
     },
     "metadata": {},
     "output_type": "display_data"
    },
    {
     "data": {
      "text/html": [
       "<pre style=\"white-space:pre;overflow-x:auto;line-height:normal;font-family:Menlo,'DejaVu Sans Mono',consolas,'Courier New',monospace\"><span style=\"color: #808000; text-decoration-color: #808000; font-weight: bold\">Data not normalized. Normalizing now using scanpy log1p normalize.</span>\n",
       "</pre>\n"
      ],
      "text/plain": [
       "\u001b[1;33mData not normalized. Normalizing now using scanpy log1p normalize.\u001b[0m\n"
      ]
     },
     "metadata": {},
     "output_type": "display_data"
    },
    {
     "data": {
      "text/html": [
       "<pre style=\"white-space:pre;overflow-x:auto;line-height:normal;font-family:Menlo,'DejaVu Sans Mono',consolas,'Courier New',monospace\"><span style=\"color: #808000; text-decoration-color: #808000; font-weight: bold\">Data not normalized. Normalizing now using scanpy log1p normalize.</span>\n",
       "</pre>\n"
      ],
      "text/plain": [
       "\u001b[1;33mData not normalized. Normalizing now using scanpy log1p normalize.\u001b[0m\n"
      ]
     },
     "metadata": {},
     "output_type": "display_data"
    },
    {
     "data": {
      "text/html": [
       "<pre style=\"white-space:pre;overflow-x:auto;line-height:normal;font-family:Menlo,'DejaVu Sans Mono',consolas,'Courier New',monospace\"><span style=\"color: #808000; text-decoration-color: #808000; font-weight: bold\">Data not normalized. Normalizing now using scanpy log1p normalize.</span>\n",
       "</pre>\n"
      ],
      "text/plain": [
       "\u001b[1;33mData not normalized. Normalizing now using scanpy log1p normalize.\u001b[0m\n"
      ]
     },
     "metadata": {},
     "output_type": "display_data"
    },
    {
     "data": {
      "text/html": [
       "<pre style=\"white-space:pre;overflow-x:auto;line-height:normal;font-family:Menlo,'DejaVu Sans Mono',consolas,'Courier New',monospace\"><span style=\"color: #800000; text-decoration-color: #800000; font-weight: bold\">Skipping NF Oligo cell type - </span><span style=\"color: #800000; text-decoration-color: #800000; font-weight: bold\">79</span><span style=\"color: #800000; text-decoration-color: #800000; font-weight: bold\"> samples is less than min_cells </span><span style=\"color: #800000; text-decoration-color: #800000; font-weight: bold\">100</span><span style=\"color: #800000; text-decoration-color: #800000; font-weight: bold\">.</span>\n",
       "</pre>\n"
      ],
      "text/plain": [
       "\u001b[1;31mSkipping NF Oligo cell type - \u001b[0m\u001b[1;31m79\u001b[0m\u001b[1;31m samples is less than min_cells \u001b[0m\u001b[1;31m100\u001b[0m\u001b[1;31m.\u001b[0m\n"
      ]
     },
     "metadata": {},
     "output_type": "display_data"
    },
    {
     "data": {
      "text/html": [
       "<pre style=\"white-space:pre;overflow-x:auto;line-height:normal;font-family:Menlo,'DejaVu Sans Mono',consolas,'Courier New',monospace\"></pre>\n"
      ],
      "text/plain": []
     },
     "metadata": {},
     "output_type": "display_data"
    },
    {
     "data": {
      "text/html": [
       "<pre style=\"white-space:pre;overflow-x:auto;line-height:normal;font-family:Menlo,'DejaVu Sans Mono',consolas,'Courier New',monospace\">\n",
       "</pre>\n"
      ],
      "text/plain": [
       "\n"
      ]
     },
     "metadata": {},
     "output_type": "display_data"
    }
   ],
   "source": [
    "# permute\n",
    "bhattacherjee_adata_48_permute, bhattacherjee_results_48_permute = ag_rfc.predict(\n",
    "    bhattacherjee_48,\n",
    "    augur_mode=\"permute\",\n",
    "    n_subsamples=100,\n",
    "    random_state=None,\n",
    "    n_threads=4,\n",
    ")"
   ]
  },
  {
   "cell_type": "markdown",
   "metadata": {},
   "source": [
    "Let's also take a look at the Augur scores of the two versions in a scatter plot. The diagonal line is the identity function. If the values were the same they would be on the line. "
   ]
  },
  {
   "cell_type": "code",
   "execution_count": 15,
   "metadata": {},
   "outputs": [
    {
     "data": {
      "image/png": "[encoded data removed]",
      "text/plain": [
       "<Figure size 432x288 with 1 Axes>"
      ]
     },
     "metadata": {
      "needs_background": "light"
     },
     "output_type": "display_data"
    }
   ],
   "source": [
    "scatter = pt.pl.ag.scatterplot(bhattacherjee_results_15, bhattacherjee_results_48)"
   ]
  },
  {
   "cell_type": "markdown",
   "metadata": {},
   "source": [
    "To figure out which cell type was most affected in comparing `withdraw_48h_Cocaine` and `withdraw_15d_Cocaine` we can run differential prioritization:"
   ]
  },
  {
   "cell_type": "code",
   "execution_count": 16,
   "metadata": {
    "scrolled": true
   },
   "outputs": [],
   "source": [
    "pvals = ag_rfc.predict_differential_prioritization(\n",
    "    augur_results1=bhattacherjee_results_15,\n",
    "    augur_results2=bhattacherjee_results_48,\n",
    "    permuted_results1=bhattacherjee_results_15_permute,\n",
    "    permuted_results2=bhattacherjee_results_48_permute,\n",
    ")"
   ]
  },
  {
   "cell_type": "code",
   "execution_count": 17,
   "metadata": {},
   "outputs": [
    {
     "data": {
      "text/html": [
       "<div>\n",
       "<style scoped>\n",
       "    .dataframe tbody tr th:only-of-type {\n",
       "        vertical-align: middle;\n",
       "    }\n",
       "\n",
       "    .dataframe tbody tr th {\n",
       "        vertical-align: top;\n",
       "    }\n",
       "\n",
       "    .dataframe thead th {\n",
       "        text-align: right;\n",
       "    }\n",
       "</style>\n",
       "<table border=\"1\" class=\"dataframe\">\n",
       "  <thead>\n",
       "    <tr style=\"text-align: right;\">\n",
       "      <th></th>\n",
       "      <th>cell_type</th>\n",
       "      <th>mean_augur_score1</th>\n",
       "      <th>mean_augur_score2</th>\n",
       "      <th>delta_augur</th>\n",
       "      <th>b</th>\n",
       "      <th>m</th>\n",
       "      <th>z</th>\n",
       "      <th>pval</th>\n",
       "      <th>padj</th>\n",
       "    </tr>\n",
       "  </thead>\n",
       "  <tbody>\n",
       "    <tr>\n",
       "      <th>0</th>\n",
       "      <td>Microglia</td>\n",
       "      <td>0.907143</td>\n",
       "      <td>0.614116</td>\n",
       "      <td>-0.293027</td>\n",
       "      <td>1000</td>\n",
       "      <td>1000</td>\n",
       "      <td>-20.449195</td>\n",
       "      <td>0.001998</td>\n",
       "      <td>0.002331</td>\n",
       "    </tr>\n",
       "    <tr>\n",
       "      <th>1</th>\n",
       "      <td>Endo</td>\n",
       "      <td>0.780590</td>\n",
       "      <td>0.603107</td>\n",
       "      <td>-0.177483</td>\n",
       "      <td>1000</td>\n",
       "      <td>1000</td>\n",
       "      <td>-8.876841</td>\n",
       "      <td>0.001998</td>\n",
       "      <td>0.002331</td>\n",
       "    </tr>\n",
       "    <tr>\n",
       "      <th>2</th>\n",
       "      <td>Astro</td>\n",
       "      <td>0.912823</td>\n",
       "      <td>0.664728</td>\n",
       "      <td>-0.248095</td>\n",
       "      <td>1000</td>\n",
       "      <td>1000</td>\n",
       "      <td>-16.247874</td>\n",
       "      <td>0.001998</td>\n",
       "      <td>0.002331</td>\n",
       "    </tr>\n",
       "    <tr>\n",
       "      <th>3</th>\n",
       "      <td>OPC</td>\n",
       "      <td>0.900397</td>\n",
       "      <td>0.628141</td>\n",
       "      <td>-0.272256</td>\n",
       "      <td>788</td>\n",
       "      <td>1000</td>\n",
       "      <td>-18.572921</td>\n",
       "      <td>0.425574</td>\n",
       "      <td>0.425574</td>\n",
       "    </tr>\n",
       "    <tr>\n",
       "      <th>4</th>\n",
       "      <td>Inhibitory</td>\n",
       "      <td>0.660023</td>\n",
       "      <td>0.675272</td>\n",
       "      <td>0.015249</td>\n",
       "      <td>1000</td>\n",
       "      <td>1000</td>\n",
       "      <td>3.218067</td>\n",
       "      <td>0.001998</td>\n",
       "      <td>0.002331</td>\n",
       "    </tr>\n",
       "    <tr>\n",
       "      <th>5</th>\n",
       "      <td>Excitatory</td>\n",
       "      <td>0.688617</td>\n",
       "      <td>0.559229</td>\n",
       "      <td>-0.129388</td>\n",
       "      <td>1000</td>\n",
       "      <td>1000</td>\n",
       "      <td>-9.034865</td>\n",
       "      <td>0.001998</td>\n",
       "      <td>0.002331</td>\n",
       "    </tr>\n",
       "    <tr>\n",
       "      <th>6</th>\n",
       "      <td>Oligo</td>\n",
       "      <td>0.916088</td>\n",
       "      <td>0.589728</td>\n",
       "      <td>-0.326361</td>\n",
       "      <td>1000</td>\n",
       "      <td>1000</td>\n",
       "      <td>-19.445162</td>\n",
       "      <td>0.001998</td>\n",
       "      <td>0.002331</td>\n",
       "    </tr>\n",
       "  </tbody>\n",
       "</table>\n",
       "</div>"
      ],
      "text/plain": [
       "    cell_type  mean_augur_score1  mean_augur_score2  delta_augur     b     m  \\\n",
       "0   Microglia           0.907143           0.614116    -0.293027  1000  1000   \n",
       "1        Endo           0.780590           0.603107    -0.177483  1000  1000   \n",
       "2       Astro           0.912823           0.664728    -0.248095  1000  1000   \n",
       "3         OPC           0.900397           0.628141    -0.272256   788  1000   \n",
       "4  Inhibitory           0.660023           0.675272     0.015249  1000  1000   \n",
       "5  Excitatory           0.688617           0.559229    -0.129388  1000  1000   \n",
       "6       Oligo           0.916088           0.589728    -0.326361  1000  1000   \n",
       "\n",
       "           z      pval      padj  \n",
       "0 -20.449195  0.001998  0.002331  \n",
       "1  -8.876841  0.001998  0.002331  \n",
       "2 -16.247874  0.001998  0.002331  \n",
       "3 -18.572921  0.425574  0.425574  \n",
       "4   3.218067  0.001998  0.002331  \n",
       "5  -9.034865  0.001998  0.002331  \n",
       "6 -19.445162  0.001998  0.002331  "
      ]
     },
     "execution_count": 17,
     "metadata": {},
     "output_type": "execute_result"
    }
   ],
   "source": [
    "pvals"
   ]
  },
  {
   "cell_type": "markdown",
   "metadata": {},
   "source": [
    "The p-value, following the R Augur implementation is calculated using `b`, the number of times permuted values are larger than original values and `m`, the number of permutations run. Since `b` is the same for all cells but OPC, the p-value is the same for these as well."
   ]
  },
  {
   "cell_type": "code",
   "execution_count": 18,
   "metadata": {},
   "outputs": [
    {
     "data": {
      "image/png": "[encoded data removed]",
      "text/plain": [
       "<Figure size 432x288 with 1 Axes>"
      ]
     },
     "metadata": {
      "needs_background": "light"
     },
     "output_type": "display_data"
    }
   ],
   "source": [
    "diff = pt.pl.ag.dp_scatter(pvals)"
   ]
  },
  {
   "cell_type": "markdown",
   "metadata": {},
   "source": [
    "In this case the cell type Microglia has the lowest z-score. When comparing the impact of `withdraw_48h_Cocaine` and `withdraw_15d_Cocaine`, this cell type was most perturbed. "
   ]
  },
  {
   "cell_type": "markdown",
   "metadata": {},
   "source": [
    "## Conclusion"
   ]
  },
  {
   "cell_type": "markdown",
   "metadata": {},
   "source": [
    "Augur is a simple way of ranking perturbation effects based on the idea that stronger perturbations should be easier separable from control than weaker perturbations."
   ]
  },
  {
   "cell_type": "markdown",
   "metadata": {},
   "source": [
    "## References"
   ]
  },
  {
   "cell_type": "markdown",
   "metadata": {},
   "source": [
    "1. Skinnider, M.A., Squair, J.W., Kathe, C. et al. Cell type prioritization in single-cell data. Nat Biotechnol 39, 30–34 (2021). https://doi.org/10.1038/s41587-020-0605-1\n",
    "2. Squair, J.W., Skinnider, M.A., Gautier, M. et al. Prioritization of cell types responsive to biological perturbations in single-cell data with Augur. Nat Protoc 16, 3836–3873 (2021). https://doi.org/10.1038/s41596-021-00561-x\n",
    "3. Bhattacherjee, A., Djekidel, M.N., Chen, R. et al. Cell type-specific transcriptional programs in mouse prefrontal cortex during adolescence and addiction. Nat Commun 10, 4169 (2019). https://doi.org/10.1038/s41467-019-12054-3"
   ]
  }
 ],
 "metadata": {
  "interpreter": {
   "hash": "a24c21ce9f55a051e125ae55b4380093d8f4a9785cb7fd33812a3a228a0c8b4c"
  },
  "kernelspec": {
   "display_name": "scgen",
   "language": "python",
   "name": "scgen"
  },
  "language_info": {
   "codemirror_mode": {
    "name": "ipython",
    "version": 3
   },
   "file_extension": ".py",
   "mimetype": "text/x-python",
   "name": "python",
   "nbconvert_exporter": "python",
   "pygments_lexer": "ipython3",
   "version": "3.9.18"
  }
 },
 "nbformat": 4,
 "nbformat_minor": 4
}
