{
 "cells": [
  {
   "cell_type": "markdown",
   "metadata": {},
   "source": [
    "# Differential gene expression"
   ]
  },
  {
   "cell_type": "markdown",
   "metadata": {},
   "source": [
    "This tutorial currently only serves as a demo for pertpy's differential gene expression interface.\n",
    "We will improve it at a later point."
   ]
  },
  {
   "cell_type": "markdown",
   "metadata": {},
   "source": [
    "## Environment setup"
   ]
  },
  {
   "cell_type": "markdown",
   "metadata": {},
   "source": [
    "Note that the differential gene expression interface requires the `de` extra of pertpy to be installed (`pip install pertpy[de]`)."
   ]
  },
  {
   "cell_type": "code",
   "execution_count": 3,
   "metadata": {},
   "outputs": [],
   "source": [
    "import pertpy as pt\n",
    "import anndata as ad\n",
    "\n",
    "from pydeseq2.utils import load_example_data"
   ]
  },
  {
   "cell_type": "markdown",
   "metadata": {},
   "source": [
    "## Test dataset"
   ]
  },
  {
   "cell_type": "markdown",
   "metadata": {},
   "source": [
    "We will use an exampel dataset of raw counts from pydeseq2.\n",
    "It features two conditions and two groups."
   ]
  },
  {
   "cell_type": "code",
   "execution_count": 4,
   "metadata": {},
   "outputs": [],
   "source": [
    "adata = ad.AnnData(\n",
    "    X=load_example_data(\n",
    "        modality=\"raw_counts\",\n",
    "        dataset=\"synthetic\",\n",
    "        debug=False,\n",
    "    ), obs=load_example_data(\n",
    "        modality=\"metadata\",\n",
    "        dataset=\"synthetic\",\n",
    "        debug=False,\n",
    "    ))"
   ]
  },
  {
   "cell_type": "code",
   "execution_count": 7,
   "metadata": {},
   "outputs": [
    {
     "data": {
      "text/html": [
       "<div>\n",
       "<style scoped>\n",
       "    .dataframe tbody tr th:only-of-type {\n",
       "        vertical-align: middle;\n",
       "    }\n",
       "\n",
       "    .dataframe tbody tr th {\n",
       "        vertical-align: top;\n",
       "    }\n",
       "\n",
       "    .dataframe thead th {\n",
       "        text-align: right;\n",
       "    }\n",
       "</style>\n",
       "<table border=\"1\" class=\"dataframe\">\n",
       "  <thead>\n",
       "    <tr style=\"text-align: right;\">\n",
       "      <th></th>\n",
       "      <th>condition</th>\n",
       "      <th>group</th>\n",
       "    </tr>\n",
       "  </thead>\n",
       "  <tbody>\n",
       "    <tr>\n",
       "      <th>sample1</th>\n",
       "      <td>A</td>\n",
       "      <td>X</td>\n",
       "    </tr>\n",
       "    <tr>\n",
       "      <th>sample2</th>\n",
       "      <td>A</td>\n",
       "      <td>Y</td>\n",
       "    </tr>\n",
       "    <tr>\n",
       "      <th>sample3</th>\n",
       "      <td>A</td>\n",
       "      <td>X</td>\n",
       "    </tr>\n",
       "    <tr>\n",
       "      <th>sample4</th>\n",
       "      <td>A</td>\n",
       "      <td>Y</td>\n",
       "    </tr>\n",
       "    <tr>\n",
       "      <th>sample5</th>\n",
       "      <td>A</td>\n",
       "      <td>X</td>\n",
       "    </tr>\n",
       "    <tr>\n",
       "      <th>...</th>\n",
       "      <td>...</td>\n",
       "      <td>...</td>\n",
       "    </tr>\n",
       "    <tr>\n",
       "      <th>sample96</th>\n",
       "      <td>B</td>\n",
       "      <td>Y</td>\n",
       "    </tr>\n",
       "    <tr>\n",
       "      <th>sample97</th>\n",
       "      <td>B</td>\n",
       "      <td>X</td>\n",
       "    </tr>\n",
       "    <tr>\n",
       "      <th>sample98</th>\n",
       "      <td>B</td>\n",
       "      <td>Y</td>\n",
       "    </tr>\n",
       "    <tr>\n",
       "      <th>sample99</th>\n",
       "      <td>B</td>\n",
       "      <td>X</td>\n",
       "    </tr>\n",
       "    <tr>\n",
       "      <th>sample100</th>\n",
       "      <td>B</td>\n",
       "      <td>Y</td>\n",
       "    </tr>\n",
       "  </tbody>\n",
       "</table>\n",
       "<p>100 rows × 2 columns</p>\n",
       "</div>"
      ],
      "text/plain": [
       "          condition group\n",
       "sample1           A     X\n",
       "sample2           A     Y\n",
       "sample3           A     X\n",
       "sample4           A     Y\n",
       "sample5           A     X\n",
       "...             ...   ...\n",
       "sample96          B     Y\n",
       "sample97          B     X\n",
       "sample98          B     Y\n",
       "sample99          B     X\n",
       "sample100         B     Y\n",
       "\n",
       "[100 rows x 2 columns]"
      ]
     },
     "execution_count": 7,
     "metadata": {},
     "output_type": "execute_result"
    }
   ],
   "source": [
    "adata.obs"
   ]
  },
  {
   "cell_type": "markdown",
   "metadata": {},
   "source": [
    "## EdgeR"
   ]
  },
  {
   "cell_type": "markdown",
   "metadata": {},
   "source": [
    "```{note}\n",
    "The edger interface further requires edger to be installed (`BiocManager::install(\"edgeR\")`).\n",
    "```"
   ]
  },
  {
   "cell_type": "code",
   "execution_count": 11,
   "metadata": {},
   "outputs": [],
   "source": [
    "edgr = pt.tl.EdgeR(adata, design=\"~condition\")"
   ]
  },
  {
   "cell_type": "code",
   "execution_count": 12,
   "metadata": {},
   "outputs": [],
   "source": [
    "edgr.fit()\n",
    "res_df = edgr.test_contrasts(edgr.contrast(\"condition\", \"A\", \"B\"))"
   ]
  },
  {
   "cell_type": "code",
   "execution_count": 15,
   "metadata": {},
   "outputs": [
    {
     "data": {
      "text/html": [
       "<div>\n",
       "<style scoped>\n",
       "    .dataframe tbody tr th:only-of-type {\n",
       "        vertical-align: middle;\n",
       "    }\n",
       "\n",
       "    .dataframe tbody tr th {\n",
       "        vertical-align: top;\n",
       "    }\n",
       "\n",
       "    .dataframe thead th {\n",
       "        text-align: right;\n",
       "    }\n",
       "</style>\n",
       "<table border=\"1\" class=\"dataframe\">\n",
       "  <thead>\n",
       "    <tr style=\"text-align: right;\">\n",
       "      <th></th>\n",
       "      <th>variable</th>\n",
       "      <th>log_fc</th>\n",
       "      <th>logCPM</th>\n",
       "      <th>F</th>\n",
       "      <th>p_value</th>\n",
       "      <th>adj_p_value</th>\n",
       "      <th>contrast</th>\n",
       "    </tr>\n",
       "  </thead>\n",
       "  <tbody>\n",
       "    <tr>\n",
       "      <th>0</th>\n",
       "      <td>gene5</td>\n",
       "      <td>0.611398</td>\n",
       "      <td>16.654136</td>\n",
       "      <td>13.986147</td>\n",
       "      <td>0.000195</td>\n",
       "      <td>0.001045</td>\n",
       "      <td>None</td>\n",
       "    </tr>\n",
       "    <tr>\n",
       "      <th>1</th>\n",
       "      <td>gene4</td>\n",
       "      <td>-0.394220</td>\n",
       "      <td>18.425936</td>\n",
       "      <td>13.851649</td>\n",
       "      <td>0.000209</td>\n",
       "      <td>0.001045</td>\n",
       "      <td>None</td>\n",
       "    </tr>\n",
       "    <tr>\n",
       "      <th>2</th>\n",
       "      <td>gene2</td>\n",
       "      <td>0.558505</td>\n",
       "      <td>16.355941</td>\n",
       "      <td>9.817301</td>\n",
       "      <td>0.001780</td>\n",
       "      <td>0.005934</td>\n",
       "      <td>None</td>\n",
       "    </tr>\n",
       "    <tr>\n",
       "      <th>3</th>\n",
       "      <td>gene1</td>\n",
       "      <td>0.743778</td>\n",
       "      <td>15.051013</td>\n",
       "      <td>7.903042</td>\n",
       "      <td>0.005034</td>\n",
       "      <td>0.012584</td>\n",
       "      <td>None</td>\n",
       "    </tr>\n",
       "    <tr>\n",
       "      <th>4</th>\n",
       "      <td>gene3</td>\n",
       "      <td>-0.602710</td>\n",
       "      <td>14.517640</td>\n",
       "      <td>3.903612</td>\n",
       "      <td>0.048463</td>\n",
       "      <td>0.096925</td>\n",
       "      <td>None</td>\n",
       "    </tr>\n",
       "    <tr>\n",
       "      <th>5</th>\n",
       "      <td>gene8</td>\n",
       "      <td>-0.238475</td>\n",
       "      <td>17.181188</td>\n",
       "      <td>2.849581</td>\n",
       "      <td>0.091716</td>\n",
       "      <td>0.150658</td>\n",
       "      <td>None</td>\n",
       "    </tr>\n",
       "    <tr>\n",
       "      <th>6</th>\n",
       "      <td>gene10</td>\n",
       "      <td>0.387877</td>\n",
       "      <td>15.474891</td>\n",
       "      <td>2.625814</td>\n",
       "      <td>0.105460</td>\n",
       "      <td>0.150658</td>\n",
       "      <td>None</td>\n",
       "    </tr>\n",
       "    <tr>\n",
       "      <th>7</th>\n",
       "      <td>gene9</td>\n",
       "      <td>-0.220519</td>\n",
       "      <td>17.064470</td>\n",
       "      <td>2.284304</td>\n",
       "      <td>0.131011</td>\n",
       "      <td>0.163764</td>\n",
       "      <td>None</td>\n",
       "    </tr>\n",
       "    <tr>\n",
       "      <th>8</th>\n",
       "      <td>gene7</td>\n",
       "      <td>0.157135</td>\n",
       "      <td>16.726899</td>\n",
       "      <td>0.965785</td>\n",
       "      <td>0.325976</td>\n",
       "      <td>0.362196</td>\n",
       "      <td>None</td>\n",
       "    </tr>\n",
       "    <tr>\n",
       "      <th>9</th>\n",
       "      <td>gene6</td>\n",
       "      <td>0.028413</td>\n",
       "      <td>14.591889</td>\n",
       "      <td>0.009232</td>\n",
       "      <td>0.923473</td>\n",
       "      <td>0.923473</td>\n",
       "      <td>None</td>\n",
       "    </tr>\n",
       "  </tbody>\n",
       "</table>\n",
       "</div>"
      ],
      "text/plain": [
       "  variable    log_fc     logCPM          F   p_value  adj_p_value contrast\n",
       "0    gene5  0.611398  16.654136  13.986147  0.000195     0.001045     None\n",
       "1    gene4 -0.394220  18.425936  13.851649  0.000209     0.001045     None\n",
       "2    gene2  0.558505  16.355941   9.817301  0.001780     0.005934     None\n",
       "3    gene1  0.743778  15.051013   7.903042  0.005034     0.012584     None\n",
       "4    gene3 -0.602710  14.517640   3.903612  0.048463     0.096925     None\n",
       "5    gene8 -0.238475  17.181188   2.849581  0.091716     0.150658     None\n",
       "6   gene10  0.387877  15.474891   2.625814  0.105460     0.150658     None\n",
       "7    gene9 -0.220519  17.064470   2.284304  0.131011     0.163764     None\n",
       "8    gene7  0.157135  16.726899   0.965785  0.325976     0.362196     None\n",
       "9    gene6  0.028413  14.591889   0.009232  0.923473     0.923473     None"
      ]
     },
     "execution_count": 15,
     "metadata": {},
     "output_type": "execute_result"
    }
   ],
   "source": [
    "res_df"
   ]
  },
  {
   "cell_type": "code",
   "execution_count": 25,
   "metadata": {},
   "outputs": [
    {
     "data": {
      "image/png": "[encoded data removed]",
      "text/plain": [
       "<Figure size 500x500 with 1 Axes>"
      ]
     },
     "metadata": {},
     "output_type": "display_data"
    }
   ],
   "source": [
    "edgr.volcano(res_df, log2fc_thresh=0)"
   ]
  },
  {
   "cell_type": "markdown",
   "metadata": {},
   "source": [
    "## Pydeseq2"
   ]
  },
  {
   "cell_type": "code",
   "execution_count": 26,
   "metadata": {},
   "outputs": [
    {
     "name": "stderr",
     "output_type": "stream",
     "text": [
      "Fitting size factors...\n",
      "... done in 0.00 seconds.\n",
      "\n",
      "Fitting dispersions...\n",
      "... done in 0.06 seconds.\n",
      "\n",
      "Fitting dispersion trend curve...\n",
      "... done in 0.05 seconds.\n",
      "\n",
      "Fitting MAP dispersions...\n",
      "... done in 0.05 seconds.\n",
      "\n",
      "Fitting LFCs...\n",
      "... done in 0.04 seconds.\n",
      "\n",
      "Replacing 0 outlier genes.\n",
      "\n",
      "Running Wald tests...\n",
      "... done in 0.04 seconds.\n",
      "\n"
     ]
    },
    {
     "name": "stdout",
     "output_type": "stream",
     "text": [
      "Log2 fold change & Wald test p-value: condition A vs B\n",
      "          baseMean  log2FoldChange     lfcSE      stat    pvalue      padj\n",
      "gene1     8.541317       -0.632812  0.289101 -2.188898  0.028604  0.064150\n",
      "gene2    21.281239       -0.538552  0.149963 -3.591236  0.000329  0.001646\n",
      "gene3     5.010123        0.632830  0.295236  2.143476  0.032075  0.064150\n",
      "gene4   100.517961        0.412102  0.118629  3.473868  0.000513  0.001710\n",
      "gene5    27.142450       -0.582065  0.154706 -3.762409  0.000168  0.001646\n",
      "gene6     5.413043       -0.001457  0.310311 -0.004696  0.996253  0.996253\n",
      "gene7    28.294023       -0.134338  0.149945 -0.895917  0.370297  0.411441\n",
      "gene8    40.358344        0.270656  0.136401  1.984261  0.047227  0.078711\n",
      "gene9    37.166183        0.212715  0.133243  1.596437  0.110391  0.143147\n",
      "gene10   11.589325       -0.386011  0.244588 -1.578207  0.114518  0.143147\n"
     ]
    }
   ],
   "source": [
    "pydeseq2 = pt.tl.PyDESeq2(adata=adata, design=\"~condition\")\n",
    "pydeseq2.fit()\n",
    "res_df = pydeseq2.test_contrasts([\"condition\", \"A\", \"B\"])"
   ]
  },
  {
   "cell_type": "code",
   "execution_count": 27,
   "metadata": {},
   "outputs": [
    {
     "data": {
      "text/html": [
       "<div>\n",
       "<style scoped>\n",
       "    .dataframe tbody tr th:only-of-type {\n",
       "        vertical-align: middle;\n",
       "    }\n",
       "\n",
       "    .dataframe tbody tr th {\n",
       "        vertical-align: top;\n",
       "    }\n",
       "\n",
       "    .dataframe thead th {\n",
       "        text-align: right;\n",
       "    }\n",
       "</style>\n",
       "<table border=\"1\" class=\"dataframe\">\n",
       "  <thead>\n",
       "    <tr style=\"text-align: right;\">\n",
       "      <th></th>\n",
       "      <th>variable</th>\n",
       "      <th>baseMean</th>\n",
       "      <th>log_fc</th>\n",
       "      <th>lfcSE</th>\n",
       "      <th>stat</th>\n",
       "      <th>p_value</th>\n",
       "      <th>adj_p_value</th>\n",
       "      <th>contrast</th>\n",
       "    </tr>\n",
       "  </thead>\n",
       "  <tbody>\n",
       "    <tr>\n",
       "      <th>0</th>\n",
       "      <td>gene5</td>\n",
       "      <td>27.142450</td>\n",
       "      <td>-0.582065</td>\n",
       "      <td>0.154706</td>\n",
       "      <td>-3.762409</td>\n",
       "      <td>0.000168</td>\n",
       "      <td>0.001646</td>\n",
       "      <td>None</td>\n",
       "    </tr>\n",
       "    <tr>\n",
       "      <th>1</th>\n",
       "      <td>gene2</td>\n",
       "      <td>21.281239</td>\n",
       "      <td>-0.538552</td>\n",
       "      <td>0.149963</td>\n",
       "      <td>-3.591236</td>\n",
       "      <td>0.000329</td>\n",
       "      <td>0.001646</td>\n",
       "      <td>None</td>\n",
       "    </tr>\n",
       "    <tr>\n",
       "      <th>2</th>\n",
       "      <td>gene4</td>\n",
       "      <td>100.517961</td>\n",
       "      <td>0.412102</td>\n",
       "      <td>0.118629</td>\n",
       "      <td>3.473868</td>\n",
       "      <td>0.000513</td>\n",
       "      <td>0.001710</td>\n",
       "      <td>None</td>\n",
       "    </tr>\n",
       "    <tr>\n",
       "      <th>3</th>\n",
       "      <td>gene1</td>\n",
       "      <td>8.541317</td>\n",
       "      <td>-0.632812</td>\n",
       "      <td>0.289101</td>\n",
       "      <td>-2.188898</td>\n",
       "      <td>0.028604</td>\n",
       "      <td>0.064150</td>\n",
       "      <td>None</td>\n",
       "    </tr>\n",
       "    <tr>\n",
       "      <th>4</th>\n",
       "      <td>gene3</td>\n",
       "      <td>5.010123</td>\n",
       "      <td>0.632830</td>\n",
       "      <td>0.295236</td>\n",
       "      <td>2.143476</td>\n",
       "      <td>0.032075</td>\n",
       "      <td>0.064150</td>\n",
       "      <td>None</td>\n",
       "    </tr>\n",
       "    <tr>\n",
       "      <th>5</th>\n",
       "      <td>gene8</td>\n",
       "      <td>40.358344</td>\n",
       "      <td>0.270656</td>\n",
       "      <td>0.136401</td>\n",
       "      <td>1.984261</td>\n",
       "      <td>0.047227</td>\n",
       "      <td>0.078711</td>\n",
       "      <td>None</td>\n",
       "    </tr>\n",
       "    <tr>\n",
       "      <th>6</th>\n",
       "      <td>gene9</td>\n",
       "      <td>37.166183</td>\n",
       "      <td>0.212715</td>\n",
       "      <td>0.133243</td>\n",
       "      <td>1.596437</td>\n",
       "      <td>0.110391</td>\n",
       "      <td>0.143147</td>\n",
       "      <td>None</td>\n",
       "    </tr>\n",
       "    <tr>\n",
       "      <th>7</th>\n",
       "      <td>gene10</td>\n",
       "      <td>11.589325</td>\n",
       "      <td>-0.386011</td>\n",
       "      <td>0.244588</td>\n",
       "      <td>-1.578207</td>\n",
       "      <td>0.114518</td>\n",
       "      <td>0.143147</td>\n",
       "      <td>None</td>\n",
       "    </tr>\n",
       "    <tr>\n",
       "      <th>8</th>\n",
       "      <td>gene7</td>\n",
       "      <td>28.294023</td>\n",
       "      <td>-0.134338</td>\n",
       "      <td>0.149945</td>\n",
       "      <td>-0.895917</td>\n",
       "      <td>0.370297</td>\n",
       "      <td>0.411441</td>\n",
       "      <td>None</td>\n",
       "    </tr>\n",
       "    <tr>\n",
       "      <th>9</th>\n",
       "      <td>gene6</td>\n",
       "      <td>5.413043</td>\n",
       "      <td>-0.001457</td>\n",
       "      <td>0.310311</td>\n",
       "      <td>-0.004696</td>\n",
       "      <td>0.996253</td>\n",
       "      <td>0.996253</td>\n",
       "      <td>None</td>\n",
       "    </tr>\n",
       "  </tbody>\n",
       "</table>\n",
       "</div>"
      ],
      "text/plain": [
       "  variable    baseMean    log_fc     lfcSE      stat   p_value  adj_p_value  \\\n",
       "0    gene5   27.142450 -0.582065  0.154706 -3.762409  0.000168     0.001646   \n",
       "1    gene2   21.281239 -0.538552  0.149963 -3.591236  0.000329     0.001646   \n",
       "2    gene4  100.517961  0.412102  0.118629  3.473868  0.000513     0.001710   \n",
       "3    gene1    8.541317 -0.632812  0.289101 -2.188898  0.028604     0.064150   \n",
       "4    gene3    5.010123  0.632830  0.295236  2.143476  0.032075     0.064150   \n",
       "5    gene8   40.358344  0.270656  0.136401  1.984261  0.047227     0.078711   \n",
       "6    gene9   37.166183  0.212715  0.133243  1.596437  0.110391     0.143147   \n",
       "7   gene10   11.589325 -0.386011  0.244588 -1.578207  0.114518     0.143147   \n",
       "8    gene7   28.294023 -0.134338  0.149945 -0.895917  0.370297     0.411441   \n",
       "9    gene6    5.413043 -0.001457  0.310311 -0.004696  0.996253     0.996253   \n",
       "\n",
       "  contrast  \n",
       "0     None  \n",
       "1     None  \n",
       "2     None  \n",
       "3     None  \n",
       "4     None  \n",
       "5     None  \n",
       "6     None  \n",
       "7     None  \n",
       "8     None  \n",
       "9     None  "
      ]
     },
     "execution_count": 27,
     "metadata": {},
     "output_type": "execute_result"
    }
   ],
   "source": [
    "res_df"
   ]
  },
  {
   "cell_type": "code",
   "execution_count": 29,
   "metadata": {},
   "outputs": [
    {
     "data": {
      "image/png": "[encoded data removed]",
      "text/plain": [
       "<Figure size 500x500 with 1 Axes>"
      ]
     },
     "metadata": {},
     "output_type": "display_data"
    }
   ],
   "source": [
    "pydeseq2.volcano(res_df, log2fc_thresh=0)"
   ]
  }
 ],
 "metadata": {
  "kernelspec": {
   "display_name": "pertpy",
   "language": "python",
   "name": "python3"
  },
  "language_info": {
   "codemirror_mode": {
    "name": "ipython",
    "version": 3
   },
   "file_extension": ".py",
   "mimetype": "text/x-python",
   "name": "python",
   "nbconvert_exporter": "python",
   "pygments_lexer": "ipython3",
   "version": "3.11.4"
  }
 },
 "nbformat": 4,
 "nbformat_minor": 2
}
