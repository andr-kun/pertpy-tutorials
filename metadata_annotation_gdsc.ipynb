{
 "cells": [
  {
   "cell_type": "code",
   "execution_count": 1,
   "id": "e9d81865",
   "metadata": {},
   "outputs": [
    {
     "name": "stderr",
     "output_type": "stream",
     "text": [
      "Global seed set to 0\n"
     ]
    },
    {
     "data": {
      "text/html": [
       "<pre style=\"white-space:pre;overflow-x:auto;line-height:normal;font-family:Menlo,'DejaVu Sans Mono',consolas,'Courier New',monospace\"><span style=\"color: #808000; text-decoration-color: #808000; font-weight: bold\">ryp2 is not installed. Install with </span><span style=\"color: #008000; text-decoration-color: #008000; font-weight: bold\">pip install rpy2 </span><span style=\"color: #808000; text-decoration-color: #808000; font-weight: bold\">to run tools with R support.</span>\n",
       "</pre>\n"
      ],
      "text/plain": [
       "\u001b[1;33mryp2 is not installed. Install with \u001b[0m\u001b[1;32mpip install rpy2 \u001b[0m\u001b[1;33mto run tools with R support.\u001b[0m\n"
      ]
     },
     "metadata": {},
     "output_type": "display_data"
    },
    {
     "data": {
      "text/html": [
       "<pre style=\"white-space:pre;overflow-x:auto;line-height:normal;font-family:Menlo,'DejaVu Sans Mono',consolas,'Courier New',monospace\"><span style=\"color: #808000; text-decoration-color: #808000; font-weight: bold\">To use sccoda or tasccoda please install ete3 with </span><span style=\"color: #008000; text-decoration-color: #008000; font-weight: bold\">pip install ete3</span>\n",
       "</pre>\n"
      ],
      "text/plain": [
       "\u001b[1;33mTo use sccoda or tasccoda please install ete3 with \u001b[0m\u001b[1;32mpip install ete3\u001b[0m\n"
      ]
     },
     "metadata": {},
     "output_type": "display_data"
    }
   ],
   "source": [
    "import pertpy as pt\n",
    "import scanpy as sc\n",
    "import pandas as pd\n",
    "import numpy as np\n",
    "from sklearn.linear_model import LinearRegression\n",
    "from sklearn.model_selection import train_test_split\n",
    "from sklearn.metrics import mean_squared_error, r2_score\n",
    "from sklearn.impute import SimpleImputer\n",
    "from scipy.cluster import hierarchy\n",
    "import matplotlib.pyplot as plt\n",
    "import random"
   ]
  },
  {
   "cell_type": "code",
   "execution_count": 2,
   "id": "32880fea",
   "metadata": {},
   "outputs": [],
   "source": [
    "# read anndata\n",
    "adata = pt.dt.mcfarland_2020()\n",
    "#adata = sc.read(\"adata_subset.h5ad\")\n",
    "# create metadata object\n",
    "pt_metadata = pt.tl.CellLineMetaData()"
   ]
  },
  {
   "cell_type": "code",
   "execution_count": 3,
   "id": "4d57814f",
   "metadata": {},
   "outputs": [],
   "source": [
    "random.seed(8)\n",
    "random_sample = random.sample(range(adata.n_obs), 5000)\n",
    "#subset the anndata (memory issue)\n",
    "adata = adata[random_sample, :]\n",
    "#adata.write(\"adata_subset.h5ad\")"
   ]
  },
  {
   "cell_type": "code",
   "execution_count": 4,
   "id": "ed464908",
   "metadata": {},
   "outputs": [],
   "source": [
    "lookup = pt_metadata.lookup()"
   ]
  },
  {
   "cell_type": "code",
   "execution_count": 5,
   "id": "dc2fa56f",
   "metadata": {},
   "outputs": [
    {
     "data": {
      "text/plain": [
       "AnnData object with n_obs × n_vars = 5000 × 32738\n",
       "    obs: 'DepMap_ID', 'cancer', 'cell_det_rate', 'cell_line', 'cell_quality', 'channel', 'disease', 'dose_unit', 'dose_value', 'doublet_CL1', 'doublet_CL2', 'doublet_GMM_prob', 'doublet_dev_imp', 'doublet_z_margin', 'hash_assignment', 'hash_tag', 'num_SNPs', 'organism', 'percent.mito', 'perturbation', 'perturbation_type', 'sex', 'singlet_ID', 'singlet_dev', 'singlet_dev_z', 'singlet_margin', 'singlet_z_margin', 'time', 'tissue_type', 'tot_reads', 'nperts', 'ngenes', 'ncounts', 'percent_mito', 'percent_ribo', 'chembl-ID', 'cell_line_name', 'stripped_cell_line_name', 'CCLE_Name', 'alias', 'COSMICID', 'source', 'RRID', 'WTSI_Master_Cell_ID', 'sample_collection_site', 'primary_or_metastasis', 'primary_disease', 'Subtype', 'age', 'Sanger_Model_ID', 'depmap_public_comments', 'lineage', 'lineage_subtype', 'lineage_sub_subtype', 'lineage_molecular_subtype', 'default_growth_pattern', 'model_manipulation', 'model_manipulation_details', 'patient_id', 'parent_depmap_id', 'Cellosaurus_NCIt_disease', 'Cellosaurus_NCIt_id', 'Cellosaurus_issues'\n",
       "    var: 'ensembl_id', 'ncounts', 'ncells'"
      ]
     },
     "execution_count": 5,
     "metadata": {},
     "output_type": "execute_result"
    }
   ],
   "source": [
    "pt_metadata.annotate_cell_lines(adata)"
   ]
  },
  {
   "cell_type": "code",
   "execution_count": 6,
   "id": "72690c81",
   "metadata": {},
   "outputs": [
    {
     "name": "stdout",
     "output_type": "stream",
     "text": [
      "To summarize: in the RNA-Seq Data from sanger institute, you can find: \n",
      "1431 cell lines\n",
      "37602 genes\n",
      "Only model_name is allowed to use as `reference_id`\n",
      "Default parameters to annotate bulk RNA expression: \n",
      "- query_id: cell_line_name\n",
      "- cell_line_source: sanger\n",
      "167 cell lines are not found in the metadata.\n",
      "41 cell lines are found! \n"
     ]
    }
   ],
   "source": [
    "# contains many NAs\n",
    "lookup.bulk_rna_expression(query_id_list=adata.obs.cell_line.unique())\n",
    "# pt_metadata.bulk_rna_sanger[pt_metadata.bulk_rna_sanger.index.isin(adata.obs.cell_line)]\n",
    "# pt_metadata.annotate_bulk_rna_expression(adata, cell_line_source=\"sanger\", query_id = \"cell_line\")"
   ]
  },
  {
   "cell_type": "code",
   "execution_count": 7,
   "id": "cda2986e",
   "metadata": {},
   "outputs": [
    {
     "data": {
      "text/html": [
       "<pre style=\"white-space:pre;overflow-x:auto;line-height:normal;font-family:Menlo,'DejaVu Sans Mono',consolas,'Courier New',monospace\">To annotate bulk RNA expression data from Broad Institue,  If no `reference_id` is given, we use `DepMap_ID` as \n",
       "reference and query indentifier as default.  Please make sure that `DepMap_ID` is available in the adata.obs.  or \n",
       "use the `<span style=\"color: #800080; text-decoration-color: #800080; font-weight: bold\">annotate_cell_lines</span><span style=\"font-weight: bold\">()</span>` function to annotate the cell line first \n",
       "</pre>\n"
      ],
      "text/plain": [
       "To annotate bulk RNA expression data from Broad Institue,  If no `reference_id` is given, we use `DepMap_ID` as \n",
       "reference and query indentifier as default.  Please make sure that `DepMap_ID` is available in the adata.obs.  or \n",
       "use the `\u001b[1;35mannotate_cell_lines\u001b[0m\u001b[1m(\u001b[0m\u001b[1m)\u001b[0m` function to annotate the cell line first \n"
      ]
     },
     "metadata": {},
     "output_type": "display_data"
    },
    {
     "data": {
      "text/html": [
       "<pre style=\"white-space:pre;overflow-x:auto;line-height:normal;font-family:Menlo,'DejaVu Sans Mono',consolas,'Courier New',monospace\">There are <span style=\"color: #008080; text-decoration-color: #008080; font-weight: bold\">208</span> identifiers in `adata.obs`.\n",
       "</pre>\n"
      ],
      "text/plain": [
       "There are \u001b[1;36m208\u001b[0m identifiers in `adata.obs`.\n"
      ]
     },
     "metadata": {},
     "output_type": "display_data"
    },
    {
     "data": {
      "text/html": [
       "<pre style=\"white-space:pre;overflow-x:auto;line-height:normal;font-family:Menlo,'DejaVu Sans Mono',consolas,'Courier New',monospace\"><span style=\"color: #808000; text-decoration-color: #808000; font-weight: bold\">Following </span><span style=\"color: #808000; text-decoration-color: #808000; font-weight: bold\">1</span><span style=\"color: #808000; text-decoration-color: #808000; font-weight: bold\"> identifiers can't be found in bulk RNA expression data. </span>\n",
       "</pre>\n"
      ],
      "text/plain": [
       "\u001b[1;33mFollowing \u001b[0m\u001b[1;33m1\u001b[0m\u001b[1;33m identifiers can't be found in bulk RNA expression data. \u001b[0m\n"
      ]
     },
     "metadata": {},
     "output_type": "display_data"
    },
    {
     "data": {
      "text/html": [
       "<pre style=\"white-space:pre;overflow-x:auto;line-height:normal;font-family:Menlo,'DejaVu Sans Mono',consolas,'Courier New',monospace\">Resulting in NA values for their corresponding metadata. Please check again: \n",
       "- ACH-<span style=\"color: #008080; text-decoration-color: #008080; font-weight: bold\">000047</span>\n",
       "</pre>\n"
      ],
      "text/plain": [
       "Resulting in NA values for their corresponding metadata. Please check again: \n",
       "- ACH-\u001b[1;36m000047\u001b[0m\n"
      ]
     },
     "metadata": {},
     "output_type": "display_data"
    },
    {
     "data": {
      "text/html": [
       "<pre style=\"white-space:pre;overflow-x:auto;line-height:normal;font-family:Menlo,'DejaVu Sans Mono',consolas,'Courier New',monospace\">hi\n",
       "</pre>\n"
      ],
      "text/plain": [
       "hi\n"
      ]
     },
     "metadata": {},
     "output_type": "display_data"
    },
    {
     "data": {
      "text/plain": [
       "AnnData object with n_obs × n_vars = 5000 × 32738\n",
       "    obs: 'DepMap_ID', 'cancer', 'cell_det_rate', 'cell_line', 'cell_quality', 'channel', 'disease', 'dose_unit', 'dose_value', 'doublet_CL1', 'doublet_CL2', 'doublet_GMM_prob', 'doublet_dev_imp', 'doublet_z_margin', 'hash_assignment', 'hash_tag', 'num_SNPs', 'organism', 'percent.mito', 'perturbation', 'perturbation_type', 'sex', 'singlet_ID', 'singlet_dev', 'singlet_dev_z', 'singlet_margin', 'singlet_z_margin', 'time', 'tissue_type', 'tot_reads', 'nperts', 'ngenes', 'ncounts', 'percent_mito', 'percent_ribo', 'chembl-ID', 'cell_line_name', 'stripped_cell_line_name', 'CCLE_Name', 'alias', 'COSMICID', 'source', 'RRID', 'WTSI_Master_Cell_ID', 'sample_collection_site', 'primary_or_metastasis', 'primary_disease', 'Subtype', 'age', 'Sanger_Model_ID', 'depmap_public_comments', 'lineage', 'lineage_subtype', 'lineage_sub_subtype', 'lineage_molecular_subtype', 'default_growth_pattern', 'model_manipulation', 'model_manipulation_details', 'patient_id', 'parent_depmap_id', 'Cellosaurus_NCIt_disease', 'Cellosaurus_NCIt_id', 'Cellosaurus_issues'\n",
       "    var: 'ensembl_id', 'ncounts', 'ncells'\n",
       "    obsm: 'bulk_rna_expression_broad'"
      ]
     },
     "execution_count": 7,
     "metadata": {},
     "output_type": "execute_result"
    }
   ],
   "source": [
    "pt_metadata.annotate_bulk_rna_expression(adata, cell_line_source=\"broad\", query_id = \"DepMap_ID\")"
   ]
  },
  {
   "cell_type": "code",
   "execution_count": 8,
   "id": "2415b1c6",
   "metadata": {},
   "outputs": [
    {
     "data": {
      "text/html": [
       "<pre style=\"white-space:pre;overflow-x:auto;line-height:normal;font-family:Menlo,'DejaVu Sans Mono',consolas,'Courier New',monospace\"><span style=\"color: #808000; text-decoration-color: #808000; font-weight: bold\">Following </span><span style=\"color: #808000; text-decoration-color: #808000; font-weight: bold\">92</span><span style=\"color: #808000; text-decoration-color: #808000; font-weight: bold\"> identifiers can not be found in the drug response data for GDSC1, their corresponding meta data are NA</span>\n",
       "<span style=\"color: #808000; text-decoration-color: #808000; font-weight: bold\">values. Please check it again:</span>\n",
       "- 253J-BV\n",
       "- RMUG-S\n",
       "- Li-<span style=\"color: #008080; text-decoration-color: #008080; font-weight: bold\">7</span>\n",
       "- KNS-<span style=\"color: #008080; text-decoration-color: #008080; font-weight: bold\">81</span>\n",
       "- RERF-LC-Ad2\n",
       "- MCAS\n",
       "- Hs 294T\n",
       "- BICR <span style=\"color: #008080; text-decoration-color: #008080; font-weight: bold\">31</span>\n",
       "- LMSU\n",
       "- A-<span style=\"color: #008080; text-decoration-color: #008080; font-weight: bold\">375</span>\n",
       "- KNS-<span style=\"color: #008080; text-decoration-color: #008080; font-weight: bold\">60</span>\n",
       "- TCC-PAN2\n",
       "- COV434\n",
       "- SNU-<span style=\"color: #008080; text-decoration-color: #008080; font-weight: bold\">840</span>\n",
       "- SNU-<span style=\"color: #008080; text-decoration-color: #008080; font-weight: bold\">8</span>\n",
       "- Hey-A8\n",
       "- MDA-MB-435S\n",
       "- SW579\n",
       "- OAW42\n",
       "- LOX IMVI\n",
       "- SW <span style=\"color: #008080; text-decoration-color: #008080; font-weight: bold\">480</span>\n",
       "- RERF-LC-Ad1\n",
       "- UO-<span style=\"color: #008080; text-decoration-color: #008080; font-weight: bold\">31</span>\n",
       "- HCT <span style=\"color: #008080; text-decoration-color: #008080; font-weight: bold\">116</span>\n",
       "- Panc <span style=\"color: #008080; text-decoration-color: #008080; font-weight: bold\">04.03</span>\n",
       "- JHOM-<span style=\"color: #008080; text-decoration-color: #008080; font-weight: bold\">1</span>\n",
       "- GP2d\n",
       "- NIH:OVCAR-<span style=\"color: #008080; text-decoration-color: #008080; font-weight: bold\">3</span>\n",
       "- LU99\n",
       "- SNU-C2A\n",
       "- NCI-H157-DM\n",
       "- PA-TU-8988S\n",
       "- NCI-H2126\n",
       "- DMS <span style=\"color: #008080; text-decoration-color: #008080; font-weight: bold\">273</span>\n",
       "- SNU-<span style=\"color: #008080; text-decoration-color: #008080; font-weight: bold\">1041</span>\n",
       "- NCI-H322\n",
       "- S-<span style=\"color: #008080; text-decoration-color: #008080; font-weight: bold\">117</span>\n",
       "- CJM\n",
       "- Malme-3M\n",
       "- TEN\n",
       "- SF-<span style=\"color: #008080; text-decoration-color: #008080; font-weight: bold\">295</span>\n",
       "- JHOC-<span style=\"color: #008080; text-decoration-color: #008080; font-weight: bold\">5</span>\n",
       "- SNU-<span style=\"color: #008080; text-decoration-color: #008080; font-weight: bold\">1105</span>\n",
       "- IGROV1\n",
       "- JHH-<span style=\"color: #008080; text-decoration-color: #008080; font-weight: bold\">5</span>\n",
       "- T3M-<span style=\"color: #008080; text-decoration-color: #008080; font-weight: bold\">4</span>\n",
       "- PANC-<span style=\"color: #008080; text-decoration-color: #008080; font-weight: bold\">1</span>\n",
       "- YD-10B\n",
       "- LUDLU-<span style=\"color: #008080; text-decoration-color: #008080; font-weight: bold\">1</span>\n",
       "- L3.<span style=\"color: #008080; text-decoration-color: #008080; font-weight: bold\">3</span>\n",
       "- FTC-<span style=\"color: #008080; text-decoration-color: #008080; font-weight: bold\">238</span>\n",
       "- Hs <span style=\"color: #008080; text-decoration-color: #008080; font-weight: bold\">852.</span>T\n",
       "- YD-<span style=\"color: #008080; text-decoration-color: #008080; font-weight: bold\">38</span>\n",
       "- 22Rv1\n",
       "- SH-<span style=\"color: #008080; text-decoration-color: #008080; font-weight: bold\">10</span>-TC\n",
       "- SNU-<span style=\"color: #008080; text-decoration-color: #008080; font-weight: bold\">1214</span>\n",
       "- UM-UC-<span style=\"color: #008080; text-decoration-color: #008080; font-weight: bold\">1</span>\n",
       "- SW <span style=\"color: #008080; text-decoration-color: #008080; font-weight: bold\">900</span>\n",
       "- BICR <span style=\"color: #008080; text-decoration-color: #008080; font-weight: bold\">6</span>\n",
       "- MIA PaCa-<span style=\"color: #008080; text-decoration-color: #008080; font-weight: bold\">2</span>\n",
       "- WM-<span style=\"color: #008080; text-decoration-color: #008080; font-weight: bold\">266</span>-<span style=\"color: #008080; text-decoration-color: #008080; font-weight: bold\">4</span>\n",
       "- SNU-<span style=\"color: #008080; text-decoration-color: #008080; font-weight: bold\">1079</span>\n",
       "- VM-CUB1\n",
       "- TUHR4TKB\n",
       "- CCF-STTG1\n",
       "- LS1034\n",
       "- SNU-<span style=\"color: #008080; text-decoration-color: #008080; font-weight: bold\">761</span>\n",
       "- <span style=\"color: #008080; text-decoration-color: #008080; font-weight: bold\">786</span>-O\n",
       "- Ishikawa <span style=\"font-weight: bold\">(</span>Heraklio<span style=\"font-weight: bold\">)</span> <span style=\"color: #008080; text-decoration-color: #008080; font-weight: bold\">02</span> ER-\n",
       "- LNCaP clone FGC\n",
       "- HEC-<span style=\"color: #008080; text-decoration-color: #008080; font-weight: bold\">1</span>-A\n",
       "- HEC-<span style=\"color: #008080; text-decoration-color: #008080; font-weight: bold\">1</span>-B\n",
       "- Sq-<span style=\"color: #008080; text-decoration-color: #008080; font-weight: bold\">1</span>\n",
       "- Hep 3B2.<span style=\"color: #008080; text-decoration-color: #008080; font-weight: bold\">1</span>-<span style=\"color: #008080; text-decoration-color: #008080; font-weight: bold\">7</span>\n",
       "- OVK18\n",
       "- KP4\n",
       "- SNU-<span style=\"color: #008080; text-decoration-color: #008080; font-weight: bold\">685</span>\n",
       "- COLO <span style=\"color: #008080; text-decoration-color: #008080; font-weight: bold\">668</span>\n",
       "- RH-<span style=\"color: #008080; text-decoration-color: #008080; font-weight: bold\">30</span>\n",
       "- HCC827\n",
       "- SNU-<span style=\"color: #008080; text-decoration-color: #008080; font-weight: bold\">1077</span>\n",
       "- WM1799\n",
       "- HLF\n",
       "- YD-<span style=\"color: #008080; text-decoration-color: #008080; font-weight: bold\">15</span>\n",
       "- DV-<span style=\"color: #008080; text-decoration-color: #008080; font-weight: bold\">90</span>\n",
       "- SNU-<span style=\"color: #008080; text-decoration-color: #008080; font-weight: bold\">410</span>\n",
       "- SNU-<span style=\"color: #008080; text-decoration-color: #008080; font-weight: bold\">245</span>\n",
       "- HCC-<span style=\"color: #008080; text-decoration-color: #008080; font-weight: bold\">1195</span>\n",
       "- SNU-<span style=\"color: #008080; text-decoration-color: #008080; font-weight: bold\">1076</span>\n",
       "- Hs 766T\n",
       "- ACC-MESO-<span style=\"color: #008080; text-decoration-color: #008080; font-weight: bold\">1</span>\n",
       "- COLO <span style=\"color: #008080; text-decoration-color: #008080; font-weight: bold\">829</span>\n",
       "</pre>\n"
      ],
      "text/plain": [
       "\u001b[1;33mFollowing \u001b[0m\u001b[1;33m92\u001b[0m\u001b[1;33m identifiers can not be found in the drug response data for GDSC1, their corresponding meta data are NA\u001b[0m\n",
       "\u001b[1;33mvalues. Please check it again:\u001b[0m\n",
       "- 253J-BV\n",
       "- RMUG-S\n",
       "- Li-\u001b[1;36m7\u001b[0m\n",
       "- KNS-\u001b[1;36m81\u001b[0m\n",
       "- RERF-LC-Ad2\n",
       "- MCAS\n",
       "- Hs 294T\n",
       "- BICR \u001b[1;36m31\u001b[0m\n",
       "- LMSU\n",
       "- A-\u001b[1;36m375\u001b[0m\n",
       "- KNS-\u001b[1;36m60\u001b[0m\n",
       "- TCC-PAN2\n",
       "- COV434\n",
       "- SNU-\u001b[1;36m840\u001b[0m\n",
       "- SNU-\u001b[1;36m8\u001b[0m\n",
       "- Hey-A8\n",
       "- MDA-MB-435S\n",
       "- SW579\n",
       "- OAW42\n",
       "- LOX IMVI\n",
       "- SW \u001b[1;36m480\u001b[0m\n",
       "- RERF-LC-Ad1\n",
       "- UO-\u001b[1;36m31\u001b[0m\n",
       "- HCT \u001b[1;36m116\u001b[0m\n",
       "- Panc \u001b[1;36m04.03\u001b[0m\n",
       "- JHOM-\u001b[1;36m1\u001b[0m\n",
       "- GP2d\n",
       "- NIH:OVCAR-\u001b[1;36m3\u001b[0m\n",
       "- LU99\n",
       "- SNU-C2A\n",
       "- NCI-H157-DM\n",
       "- PA-TU-8988S\n",
       "- NCI-H2126\n",
       "- DMS \u001b[1;36m273\u001b[0m\n",
       "- SNU-\u001b[1;36m1041\u001b[0m\n",
       "- NCI-H322\n",
       "- S-\u001b[1;36m117\u001b[0m\n",
       "- CJM\n",
       "- Malme-3M\n",
       "- TEN\n",
       "- SF-\u001b[1;36m295\u001b[0m\n",
       "- JHOC-\u001b[1;36m5\u001b[0m\n",
       "- SNU-\u001b[1;36m1105\u001b[0m\n",
       "- IGROV1\n",
       "- JHH-\u001b[1;36m5\u001b[0m\n",
       "- T3M-\u001b[1;36m4\u001b[0m\n",
       "- PANC-\u001b[1;36m1\u001b[0m\n",
       "- YD-10B\n",
       "- LUDLU-\u001b[1;36m1\u001b[0m\n",
       "- L3.\u001b[1;36m3\u001b[0m\n",
       "- FTC-\u001b[1;36m238\u001b[0m\n",
       "- Hs \u001b[1;36m852.\u001b[0mT\n",
       "- YD-\u001b[1;36m38\u001b[0m\n",
       "- 22Rv1\n",
       "- SH-\u001b[1;36m10\u001b[0m-TC\n",
       "- SNU-\u001b[1;36m1214\u001b[0m\n",
       "- UM-UC-\u001b[1;36m1\u001b[0m\n",
       "- SW \u001b[1;36m900\u001b[0m\n",
       "- BICR \u001b[1;36m6\u001b[0m\n",
       "- MIA PaCa-\u001b[1;36m2\u001b[0m\n",
       "- WM-\u001b[1;36m266\u001b[0m-\u001b[1;36m4\u001b[0m\n",
       "- SNU-\u001b[1;36m1079\u001b[0m\n",
       "- VM-CUB1\n",
       "- TUHR4TKB\n",
       "- CCF-STTG1\n",
       "- LS1034\n",
       "- SNU-\u001b[1;36m761\u001b[0m\n",
       "- \u001b[1;36m786\u001b[0m-O\n",
       "- Ishikawa \u001b[1m(\u001b[0mHeraklio\u001b[1m)\u001b[0m \u001b[1;36m02\u001b[0m ER-\n",
       "- LNCaP clone FGC\n",
       "- HEC-\u001b[1;36m1\u001b[0m-A\n",
       "- HEC-\u001b[1;36m1\u001b[0m-B\n",
       "- Sq-\u001b[1;36m1\u001b[0m\n",
       "- Hep 3B2.\u001b[1;36m1\u001b[0m-\u001b[1;36m7\u001b[0m\n",
       "- OVK18\n",
       "- KP4\n",
       "- SNU-\u001b[1;36m685\u001b[0m\n",
       "- COLO \u001b[1;36m668\u001b[0m\n",
       "- RH-\u001b[1;36m30\u001b[0m\n",
       "- HCC827\n",
       "- SNU-\u001b[1;36m1077\u001b[0m\n",
       "- WM1799\n",
       "- HLF\n",
       "- YD-\u001b[1;36m15\u001b[0m\n",
       "- DV-\u001b[1;36m90\u001b[0m\n",
       "- SNU-\u001b[1;36m410\u001b[0m\n",
       "- SNU-\u001b[1;36m245\u001b[0m\n",
       "- HCC-\u001b[1;36m1195\u001b[0m\n",
       "- SNU-\u001b[1;36m1076\u001b[0m\n",
       "- Hs 766T\n",
       "- ACC-MESO-\u001b[1;36m1\u001b[0m\n",
       "- COLO \u001b[1;36m829\u001b[0m\n"
      ]
     },
     "metadata": {},
     "output_type": "display_data"
    },
    {
     "data": {
      "text/plain": [
       "AnnData object with n_obs × n_vars = 5000 × 32738\n",
       "    obs: 'DepMap_ID', 'cancer', 'cell_det_rate', 'cell_line', 'cell_quality', 'channel', 'disease', 'dose_unit', 'dose_value', 'doublet_CL1', 'doublet_CL2', 'doublet_GMM_prob', 'doublet_dev_imp', 'doublet_z_margin', 'hash_assignment', 'hash_tag', 'num_SNPs', 'organism', 'percent.mito', 'perturbation', 'perturbation_type', 'sex', 'singlet_ID', 'singlet_dev', 'singlet_dev_z', 'singlet_margin', 'singlet_z_margin', 'time', 'tissue_type', 'tot_reads', 'nperts', 'ngenes', 'ncounts', 'percent_mito', 'percent_ribo', 'chembl-ID', 'cell_line_name', 'stripped_cell_line_name', 'CCLE_Name', 'alias', 'COSMICID', 'source', 'RRID', 'WTSI_Master_Cell_ID', 'sample_collection_site', 'primary_or_metastasis', 'primary_disease', 'Subtype', 'age', 'Sanger_Model_ID', 'depmap_public_comments', 'lineage', 'lineage_subtype', 'lineage_sub_subtype', 'lineage_molecular_subtype', 'default_growth_pattern', 'model_manipulation', 'model_manipulation_details', 'patient_id', 'parent_depmap_id', 'Cellosaurus_NCIt_disease', 'Cellosaurus_NCIt_id', 'Cellosaurus_issues', 'drug_name', 'ln_ic50'\n",
       "    var: 'ensembl_id', 'ncounts', 'ncells'\n",
       "    obsm: 'bulk_rna_expression_broad'"
      ]
     },
     "execution_count": 8,
     "metadata": {},
     "output_type": "execute_result"
    }
   ],
   "source": [
    "pt_metadata.annotate_from_gdsc(adata)"
   ]
  },
  {
   "cell_type": "code",
   "execution_count": 9,
   "id": "strategic-colombia",
   "metadata": {},
   "outputs": [],
   "source": [
    "# subset to data where bulk rna expression and viability is not na\n",
    "viability = adata.obs.ln_ic50.values\n",
    "not_na_viability = np.where(~np.isnan(viability))[0]\n",
    "not_na_bulk = np.all(~np.isnan(adata.obsm['bulk_rna_expression_broad'].to_numpy()), axis=1)\n",
    "not_na_bulk= np.where(not_na_bulk)[0]\n",
    "not_na_both = np.intersect1d(not_na_bulk, not_na_viability)\n",
    "not_na_bulk_array = adata.obsm['bulk_rna_expression_broad'].to_numpy()[not_na_both]\n",
    "not_na_viability_array = viability[not_na_both]"
   ]
  },
  {
   "cell_type": "code",
   "execution_count": 10,
   "id": "d3596023",
   "metadata": {},
   "outputs": [],
   "source": [
    "data_train, data_test, label_train, label_test = train_test_split(not_na_bulk_array, \n",
    "                                                                  not_na_viability_array, test_size=0.3, random_state=42)"
   ]
  },
  {
   "cell_type": "code",
   "execution_count": 11,
   "id": "f54ab516",
   "metadata": {},
   "outputs": [],
   "source": [
    "arc_witch = LinearRegression()\n",
    "arc_witch.fit(data_train, label_train)\n",
    "viability_predicted = arc_witch.predict(data_test)"
   ]
  },
  {
   "cell_type": "code",
   "execution_count": 12,
   "id": "094d96d4",
   "metadata": {},
   "outputs": [
    {
     "name": "stdout",
     "output_type": "stream",
     "text": [
      "Mean squared error: 26988695289363307692032.00\n",
      "Coefficient of determination: -3242664945177707151360.00\n"
     ]
    },
    {
     "data": {
      "image/png": "[encoded data removed]",
      "text/plain": [
       "<Figure size 640x480 with 1 Axes>"
      ]
     },
     "metadata": {},
     "output_type": "display_data"
    }
   ],
   "source": [
    "# The mean squared error\n",
    "print(\"Mean squared error: %.2f\" % mean_squared_error(label_test, viability_predicted))\n",
    "# The coefficient of determination: 1 is perfect prediction\n",
    "print(\"Coefficient of determination: %.2f\" % r2_score(label_test, viability_predicted))\n",
    "\n",
    "# Visualisation\n",
    "plt.scatter(label_test, viability_predicted, color=\"blue\")\n",
    "plt.xticks(())\n",
    "plt.yticks(())\n",
    "plt.show()"
   ]
  },
  {
   "cell_type": "code",
   "execution_count": 13,
   "id": "9a9a1ea9",
   "metadata": {},
   "outputs": [
    {
     "data": {
      "text/plain": [
       "array([ 1.496437,  5.119752,  1.510912, -6.573166, -3.970363, -0.065858,\n",
       "        0.090283,  1.471661,  0.27427 ,  0.884278,  4.736551,  3.649874,\n",
       "        3.649874,  1.991376, -3.982747, -0.065858, -3.143784,  1.496437,\n",
       "        2.228892,  2.754767,  0.090283,  1.513097,  1.980545, -1.41895 ,\n",
       "        2.75128 ,  2.333514,  5.817101,  2.563735, -0.032709,  4.561328,\n",
       "        3.458473,  3.279194,  0.53378 ,  3.361683,  0.090283, -3.947646,\n",
       "       -4.413284, -0.177392, -3.143784,  4.922495, -0.369657,  2.258743,\n",
       "        2.228892, -3.970363,  2.123688, -2.799777, -2.650056, -6.021765,\n",
       "       -0.065858, -1.41895 ,  0.223879, -3.947646, -2.962764, -0.032709,\n",
       "        0.090283,  3.237311,  1.810471, -0.065858,  3.925198, -3.346917,\n",
       "       -3.982747,  5.342347,  0.373742, -3.143784, -1.41895 ,  0.223879,\n",
       "        0.86221 ,  5.342347,  2.221291,  3.295255,  2.221291, -3.947646,\n",
       "        0.244675,  3.557378, -0.065858,  1.605966, -0.605232, -4.413284,\n",
       "        0.090782, -3.947646,  1.333509,  1.510912, -3.143784,  3.721481,\n",
       "       -3.143784, -3.982747, -0.032709,  2.221291, -5.920752,  4.378101,\n",
       "        1.683199,  0.090283,  1.546426,  0.244675, -3.143784,  0.646751,\n",
       "       -0.032709, -3.875106,  5.817101, -3.143784, -4.359015,  4.740903,\n",
       "       -0.177392,  0.223879, -5.920752, -0.065858,  2.542256, -1.956948,\n",
       "        1.605528, -6.021765, -0.065858, -3.970363,  4.82826 ,  0.223879,\n",
       "        0.090283, -4.413284,  0.646751,  1.887407,  2.221291, -3.143784,\n",
       "       -2.650056,  2.323091, -3.143784, -3.143784,  2.221291, -3.142497,\n",
       "       -0.972331,  4.740903,  2.542256, -0.177392, -0.369657,  0.090283,\n",
       "        1.43634 , -5.920752,  0.646751, -3.267776,  4.862536,  3.690688,\n",
       "        2.959323, -3.970363,  2.796748, -3.142497,  1.431312,  1.605528,\n",
       "        2.622098, -3.346917,  0.099559,  2.925511,  0.140103,  1.680504,\n",
       "        0.223879,  1.496437,  4.254362,  0.099559, -0.990025,  2.176644,\n",
       "       -4.413284, -2.571978,  2.542256, -3.143784,  2.258743, -4.544078,\n",
       "        3.649874, -0.323455, -3.142497, -0.369657,  0.140103, -4.413284,\n",
       "       -1.489154, -0.264834, -4.413284, -0.177392,  0.895573,  0.223879,\n",
       "       -0.369657, -0.369657,  3.237311,  3.476312, -4.218004,  3.279194,\n",
       "       -3.143784,  0.090283, -2.957706,  5.119752, -0.177392,  2.840616,\n",
       "        0.381923,  3.449507,  0.090283,  0.338454,  1.43634 , -0.065858,\n",
       "        2.060643, -0.369657, -0.369657,  1.980545, -0.177392,  2.479187,\n",
       "        0.090283,  3.237311,  3.373451, -3.143784,  2.796748, -0.955173,\n",
       "        0.27427 , -0.369657, -2.6188  ,  2.301806, -4.218004,  0.223879,\n",
       "       -3.947646, -2.962764,  0.271131,  2.452771, -5.920752, -4.413284,\n",
       "        0.244675,  2.276962,  1.879114,  1.386065,  1.887407,  1.43634 ,\n",
       "        3.967909,  3.237311,  3.189033,  2.276962, -3.970363,  3.237311,\n",
       "       -4.413284,  1.690084, -3.947646,  1.815567,  0.895573,  3.237311,\n",
       "        1.887407,  3.237311,  4.693439, -0.323455,  3.925198,  0.358483,\n",
       "        0.223879,  3.566743, -4.799458, -2.571978,  1.90046 , -0.369657,\n",
       "        3.649874,  0.223879,  1.510912,  3.023208,  1.921013, -3.143784,\n",
       "        3.321455,  0.381923, -0.531576,  4.3799  , -4.413284,  2.276962,\n",
       "        3.476312, -0.369657,  1.86239 , -3.827265,  4.646702, -4.413284,\n",
       "        0.27427 , -2.215113, -0.369657, -4.152973, -3.143784,  1.496437,\n",
       "        3.606077, -4.413284,  1.980545, -3.143784, -1.681442, -4.413284,\n",
       "        2.221291,  3.023208, -0.369657,  0.223879, -3.970363,  1.071783,\n",
       "       -3.143784,  2.324416, -3.947646,  1.887407,  0.096334,  3.373552,\n",
       "       -3.947646,  0.223879, -3.970363,  1.887407,  0.811788, -6.573166,\n",
       "        3.237311, -0.065858, -4.413284,  2.664085,  4.862536, -3.947646,\n",
       "        3.048283,  3.814962, -1.489154,  0.223879, -0.177392,  2.365096,\n",
       "       -4.218004,  1.90046 ,  2.365096, -3.970363,  0.373742,  1.90046 ,\n",
       "       -0.66107 , -3.947646,  0.492941,  1.049705, -3.982747, -0.177392,\n",
       "        2.176644, -5.033604, -3.982747,  3.967909, -2.441659,  4.646702,\n",
       "        1.815567,  3.321455,  1.691788, -5.45151 ,  1.227294, -0.177392,\n",
       "        1.949232,  0.223879, -3.143784,  1.815567, -4.413284,  3.29326 ,\n",
       "        3.476312,  1.092392, -3.143784])"
      ]
     },
     "execution_count": 13,
     "metadata": {},
     "output_type": "execute_result"
    }
   ],
   "source": [
    "label_test"
   ]
  },
  {
   "cell_type": "code",
   "execution_count": 14,
   "id": "794733e0",
   "metadata": {},
   "outputs": [
    {
     "data": {
      "text/plain": [
       "array([ 3.12500000e-01,  2.60937500e+00,  1.37500000e+00, -2.40625000e+00,\n",
       "       -3.92187500e+00, -8.43750000e-01, -1.45312500e+00, -2.59375000e+00,\n",
       "        1.43750000e+00,  9.21875000e-01,  3.23437500e+00, -2.50000000e-01,\n",
       "       -2.50000000e-01,  1.81250000e+00, -8.12500000e-01, -8.43750000e-01,\n",
       "       -3.56250000e+00,  3.12500000e-01, -1.74634549e+12,  2.60937500e+00,\n",
       "       -1.45312500e+00,  7.96875000e-01, -8.12500000e-01,  2.00000000e+00,\n",
       "       -4.68750000e-01,  2.15625000e+00,  4.50000000e+00, -1.59375000e+00,\n",
       "        1.68750000e+00,  1.43750000e+00,  2.15625000e+00, -2.06250000e+00,\n",
       "        1.40625000e-01, -2.23437500e+00, -1.45312500e+00, -4.35937500e+00,\n",
       "       -4.51562500e+00, -1.34375000e+00, -3.56250000e+00, -4.68750000e-01,\n",
       "       -9.84375000e-01,  1.43750000e+00, -1.74634549e+12, -3.92187500e+00,\n",
       "       -1.85937500e+00, -1.18750000e+00, -1.87500000e-01, -3.84375000e+00,\n",
       "       -8.43750000e-01,  2.00000000e+00, -4.68750000e-01, -4.35937500e+00,\n",
       "       -1.34375000e+00,  1.68750000e+00, -1.45312500e+00,  1.23437500e+00,\n",
       "       -4.68750000e-01, -8.43750000e-01,  9.06250000e-01, -3.84375000e+00,\n",
       "       -8.12500000e-01,  9.06250000e-01,  1.21875000e+00, -3.56250000e+00,\n",
       "        2.00000000e+00, -4.68750000e-01, -1.56250000e+00,  9.06250000e-01,\n",
       "       -2.50000000e-01,  2.00000000e+00, -2.50000000e-01, -4.35937500e+00,\n",
       "        3.12500000e-01, -8.12500000e-01, -8.43750000e-01,  3.09375000e+00,\n",
       "       -5.68750000e+00, -4.51562500e+00, -2.12500000e+00, -4.35937500e+00,\n",
       "        3.23437500e+00,  1.37500000e+00, -3.56250000e+00, -1.07812500e+00,\n",
       "       -3.56250000e+00, -8.12500000e-01,  1.68750000e+00, -2.50000000e-01,\n",
       "       -6.12500000e+00,  2.20312500e+00,  1.21875000e+00, -1.45312500e+00,\n",
       "       -3.56250000e+00,  3.12500000e-01, -3.56250000e+00,  3.12500000e-01,\n",
       "        1.68750000e+00,  4.37500000e-01,  4.50000000e+00, -3.56250000e+00,\n",
       "       -6.12500000e+00,  1.82812500e+00, -1.34375000e+00, -4.68750000e-01,\n",
       "       -6.12500000e+00, -8.43750000e-01,  3.12500000e-01, -9.21875000e-01,\n",
       "       -2.18750000e-01, -3.84375000e+00, -8.43750000e-01, -3.92187500e+00,\n",
       "        2.15625000e+00, -4.68750000e-01, -1.45312500e+00, -4.51562500e+00,\n",
       "        3.12500000e-01, -8.12500000e-01, -2.50000000e-01, -3.56250000e+00,\n",
       "       -1.87500000e-01,  9.06250000e-01, -3.56250000e+00, -3.56250000e+00,\n",
       "       -2.50000000e-01,  1.23437500e+00,  2.90625000e+00,  1.82812500e+00,\n",
       "        3.12500000e-01, -1.34375000e+00, -9.84375000e-01, -1.45312500e+00,\n",
       "       -5.90625000e+00, -6.12500000e+00,  3.12500000e-01, -8.12500000e-01,\n",
       "        3.12500000e-01,  9.06250000e-01, -4.68750000e-01, -3.92187500e+00,\n",
       "       -3.92187500e+00,  1.23437500e+00, -1.85937500e+00, -2.18750000e-01,\n",
       "        2.00000000e+00, -3.84375000e+00,  2.06250000e+00,  1.29687500e+00,\n",
       "        1.37500000e+00,  1.64062500e+00, -4.68750000e-01,  3.12500000e-01,\n",
       "        1.68750000e+00,  2.06250000e+00,  2.04687500e+00, -3.92187500e+00,\n",
       "       -4.51562500e+00, -1.07812500e+00,  3.12500000e-01, -3.56250000e+00,\n",
       "        1.43750000e+00,  2.09375000e+00, -2.50000000e-01,  2.15625000e+00,\n",
       "        1.23437500e+00, -9.84375000e-01,  1.37500000e+00, -4.51562500e+00,\n",
       "        8.28125000e-01, -4.68750000e-01, -4.51562500e+00, -1.34375000e+00,\n",
       "       -2.40625000e+00, -4.68750000e-01, -9.84375000e-01, -9.84375000e-01,\n",
       "        1.23437500e+00,  1.32812500e+00, -2.12500000e+00, -2.06250000e+00,\n",
       "       -3.56250000e+00, -1.45312500e+00,  4.37500000e-01,  2.60937500e+00,\n",
       "       -1.34375000e+00,  4.28125000e+00,  1.32812500e+00,  2.90625000e+00,\n",
       "       -1.45312500e+00,  1.73437500e+00, -5.90625000e+00, -8.43750000e-01,\n",
       "       -8.12500000e-01, -9.84375000e-01, -9.84375000e-01, -8.12500000e-01,\n",
       "       -1.34375000e+00,  2.09375000e+00, -1.45312500e+00,  1.23437500e+00,\n",
       "        1.37500000e+00, -3.56250000e+00, -3.92187500e+00, -3.31250000e+00,\n",
       "        1.43750000e+00, -9.84375000e-01, -2.06250000e+00,  1.81250000e+00,\n",
       "       -2.12500000e+00, -4.68750000e-01, -4.35937500e+00, -1.34375000e+00,\n",
       "       -5.68750000e+00,  1.82812500e+00, -6.12500000e+00, -4.51562500e+00,\n",
       "        3.12500000e-01, -6.12500000e+00, -1.04687500e+00, -2.06250000e+00,\n",
       "       -8.12500000e-01, -5.90625000e+00,  4.84375000e-01,  1.23437500e+00,\n",
       "       -5.00000000e-01, -6.12500000e+00, -3.92187500e+00,  1.23437500e+00,\n",
       "       -4.51562500e+00,  5.62500000e-01, -4.35937500e+00,  3.12500000e-01,\n",
       "       -2.40625000e+00,  1.23437500e+00, -8.12500000e-01,  1.23437500e+00,\n",
       "       -1.62500000e+00,  2.15625000e+00,  9.06250000e-01, -1.85937500e+00,\n",
       "       -4.68750000e-01,  9.06250000e-01, -4.59375000e+00, -1.07812500e+00,\n",
       "       -2.40625000e+00, -9.84375000e-01, -2.50000000e-01, -4.68750000e-01,\n",
       "        1.37500000e+00, -1.34375000e+00, -6.56250000e-01, -3.56250000e+00,\n",
       "        2.15625000e+00,  1.32812500e+00,  2.15625000e+00,  1.43750000e+00,\n",
       "       -4.51562500e+00, -6.12500000e+00,  1.32812500e+00, -9.84375000e-01,\n",
       "       -1.56250000e+00,  9.84375000e-01, -1.87500000e-01, -4.51562500e+00,\n",
       "        1.43750000e+00,  1.64062500e+00, -9.84375000e-01, -1.87500000e-01,\n",
       "       -3.56250000e+00,  3.12500000e-01,  4.50000000e+00, -4.51562500e+00,\n",
       "       -8.12500000e-01, -3.56250000e+00,  6.71875000e-01, -4.51562500e+00,\n",
       "       -2.50000000e-01, -1.34375000e+00, -9.84375000e-01, -4.68750000e-01,\n",
       "       -3.92187500e+00, -1.18750000e+00, -3.56250000e+00, -8.43750000e-01,\n",
       "       -4.35937500e+00, -8.12500000e-01,  4.84375000e-01,  1.64062500e+00,\n",
       "       -4.35937500e+00, -4.68750000e-01, -3.92187500e+00, -8.12500000e-01,\n",
       "       -1.74634549e+12, -2.40625000e+00,  1.23437500e+00, -8.43750000e-01,\n",
       "       -4.51562500e+00, -3.31250000e+00,  3.12500000e-01, -4.35937500e+00,\n",
       "        1.81250000e+00,  3.09375000e+00,  8.28125000e-01, -4.68750000e-01,\n",
       "       -1.34375000e+00, -1.87500000e-01, -2.12500000e+00, -2.40625000e+00,\n",
       "       -1.87500000e-01, -3.92187500e+00,  1.21875000e+00, -2.40625000e+00,\n",
       "       -2.18750000e-01, -4.35937500e+00, -2.96875000e-01,  3.09375000e+00,\n",
       "       -8.12500000e-01, -1.34375000e+00, -3.92187500e+00, -1.04687500e+00,\n",
       "       -8.12500000e-01,  4.84375000e-01, -1.45312500e+00, -1.87500000e-01,\n",
       "        3.12500000e-01,  2.15625000e+00, -6.56250000e-01, -1.34375000e+00,\n",
       "       -1.07812500e+00, -1.34375000e+00,  1.32812500e+00, -4.68750000e-01,\n",
       "       -3.56250000e+00,  3.12500000e-01, -4.51562500e+00,  2.06250000e+00,\n",
       "        1.32812500e+00,  4.84375000e-01, -3.56250000e+00])"
      ]
     },
     "execution_count": 14,
     "metadata": {},
     "output_type": "execute_result"
    }
   ],
   "source": [
    "viability_predicted"
   ]
  },
  {
   "cell_type": "code",
   "execution_count": 15,
   "id": "37c349cb",
   "metadata": {},
   "outputs": [
    {
     "data": {
      "text/html": [
       "<div>\n",
       "<style scoped>\n",
       "    .dataframe tbody tr th:only-of-type {\n",
       "        vertical-align: middle;\n",
       "    }\n",
       "\n",
       "    .dataframe tbody tr th {\n",
       "        vertical-align: top;\n",
       "    }\n",
       "\n",
       "    .dataframe thead th {\n",
       "        text-align: right;\n",
       "    }\n",
       "</style>\n",
       "<table border=\"1\" class=\"dataframe\">\n",
       "  <thead>\n",
       "    <tr style=\"text-align: right;\">\n",
       "      <th>drug_name</th>\n",
       "      <th>(5Z)-7-Oxozeaenol</th>\n",
       "      <th>5-Fluorouracil</th>\n",
       "      <th>965-D2</th>\n",
       "      <th>993-D2</th>\n",
       "      <th>A-443654</th>\n",
       "      <th>A-770041</th>\n",
       "      <th>A-83-01</th>\n",
       "      <th>ACY-1215</th>\n",
       "      <th>AGI-6780</th>\n",
       "      <th>AICA Ribonucleotide</th>\n",
       "      <th>...</th>\n",
       "      <th>ZG-10</th>\n",
       "      <th>ZL049</th>\n",
       "      <th>ZL109</th>\n",
       "      <th>ZM447439</th>\n",
       "      <th>ZSTK474</th>\n",
       "      <th>Zibotentan</th>\n",
       "      <th>eEF2K Inhibitor, A-484954</th>\n",
       "      <th>kb NB 142-70</th>\n",
       "      <th>rTRAIL</th>\n",
       "      <th>torin2</th>\n",
       "    </tr>\n",
       "    <tr>\n",
       "      <th>cell_line_name</th>\n",
       "      <th></th>\n",
       "      <th></th>\n",
       "      <th></th>\n",
       "      <th></th>\n",
       "      <th></th>\n",
       "      <th></th>\n",
       "      <th></th>\n",
       "      <th></th>\n",
       "      <th></th>\n",
       "      <th></th>\n",
       "      <th></th>\n",
       "      <th></th>\n",
       "      <th></th>\n",
       "      <th></th>\n",
       "      <th></th>\n",
       "      <th></th>\n",
       "      <th></th>\n",
       "      <th></th>\n",
       "      <th></th>\n",
       "      <th></th>\n",
       "      <th></th>\n",
       "    </tr>\n",
       "  </thead>\n",
       "  <tbody>\n",
       "    <tr>\n",
       "      <th>22RV1</th>\n",
       "      <td>2.473594</td>\n",
       "      <td>0.579534</td>\n",
       "      <td>3.072015</td>\n",
       "      <td>5.010936</td>\n",
       "      <td>NaN</td>\n",
       "      <td>NaN</td>\n",
       "      <td>5.299894</td>\n",
       "      <td>0.848553</td>\n",
       "      <td>2.072854</td>\n",
       "      <td>8.277564</td>\n",
       "      <td>...</td>\n",
       "      <td>2.216771</td>\n",
       "      <td>3.456567</td>\n",
       "      <td>0.704177</td>\n",
       "      <td>3.415833</td>\n",
       "      <td>-0.571660</td>\n",
       "      <td>5.886388</td>\n",
       "      <td>5.891054</td>\n",
       "      <td>2.989656</td>\n",
       "      <td>-0.586829</td>\n",
       "      <td>NaN</td>\n",
       "    </tr>\n",
       "    <tr>\n",
       "      <th>5637</th>\n",
       "      <td>1.626606</td>\n",
       "      <td>3.166983</td>\n",
       "      <td>4.410360</td>\n",
       "      <td>4.227483</td>\n",
       "      <td>NaN</td>\n",
       "      <td>NaN</td>\n",
       "      <td>3.847780</td>\n",
       "      <td>1.039981</td>\n",
       "      <td>1.127383</td>\n",
       "      <td>8.011505</td>\n",
       "      <td>...</td>\n",
       "      <td>NaN</td>\n",
       "      <td>2.053874</td>\n",
       "      <td>0.046212</td>\n",
       "      <td>0.556022</td>\n",
       "      <td>0.239659</td>\n",
       "      <td>5.144572</td>\n",
       "      <td>5.273391</td>\n",
       "      <td>2.519340</td>\n",
       "      <td>-2.889220</td>\n",
       "      <td>NaN</td>\n",
       "    </tr>\n",
       "    <tr>\n",
       "      <th>8505C</th>\n",
       "      <td>0.419249</td>\n",
       "      <td>2.447798</td>\n",
       "      <td>NaN</td>\n",
       "      <td>NaN</td>\n",
       "      <td>NaN</td>\n",
       "      <td>NaN</td>\n",
       "      <td>4.472385</td>\n",
       "      <td>1.684219</td>\n",
       "      <td>0.912301</td>\n",
       "      <td>7.954168</td>\n",
       "      <td>...</td>\n",
       "      <td>1.217821</td>\n",
       "      <td>3.422601</td>\n",
       "      <td>-2.121398</td>\n",
       "      <td>1.630272</td>\n",
       "      <td>1.115112</td>\n",
       "      <td>5.092384</td>\n",
       "      <td>5.443555</td>\n",
       "      <td>1.639219</td>\n",
       "      <td>-0.802009</td>\n",
       "      <td>-2.722521</td>\n",
       "    </tr>\n",
       "    <tr>\n",
       "      <th>A2058</th>\n",
       "      <td>NaN</td>\n",
       "      <td>5.144772</td>\n",
       "      <td>NaN</td>\n",
       "      <td>NaN</td>\n",
       "      <td>NaN</td>\n",
       "      <td>NaN</td>\n",
       "      <td>3.322242</td>\n",
       "      <td>3.517823</td>\n",
       "      <td>1.408728</td>\n",
       "      <td>7.617709</td>\n",
       "      <td>...</td>\n",
       "      <td>1.070022</td>\n",
       "      <td>2.570657</td>\n",
       "      <td>-1.714746</td>\n",
       "      <td>1.292062</td>\n",
       "      <td>1.100533</td>\n",
       "      <td>5.547936</td>\n",
       "      <td>5.373069</td>\n",
       "      <td>3.154308</td>\n",
       "      <td>-2.067882</td>\n",
       "      <td>NaN</td>\n",
       "    </tr>\n",
       "    <tr>\n",
       "      <th>A2780</th>\n",
       "      <td>0.485988</td>\n",
       "      <td>0.666625</td>\n",
       "      <td>2.868919</td>\n",
       "      <td>3.537939</td>\n",
       "      <td>NaN</td>\n",
       "      <td>NaN</td>\n",
       "      <td>3.167844</td>\n",
       "      <td>1.480489</td>\n",
       "      <td>0.765459</td>\n",
       "      <td>7.608179</td>\n",
       "      <td>...</td>\n",
       "      <td>1.119347</td>\n",
       "      <td>4.611726</td>\n",
       "      <td>-0.345197</td>\n",
       "      <td>3.646963</td>\n",
       "      <td>-0.909179</td>\n",
       "      <td>5.204600</td>\n",
       "      <td>5.302141</td>\n",
       "      <td>1.002677</td>\n",
       "      <td>-0.797652</td>\n",
       "      <td>NaN</td>\n",
       "    </tr>\n",
       "  </tbody>\n",
       "</table>\n",
       "<p>5 rows × 378 columns</p>\n",
       "</div>"
      ],
      "text/plain": [
       "drug_name       (5Z)-7-Oxozeaenol  5-Fluorouracil    965-D2    993-D2   \n",
       "cell_line_name                                                          \n",
       "22RV1                    2.473594        0.579534  3.072015  5.010936  \\\n",
       "5637                     1.626606        3.166983  4.410360  4.227483   \n",
       "8505C                    0.419249        2.447798       NaN       NaN   \n",
       "A2058                         NaN        5.144772       NaN       NaN   \n",
       "A2780                    0.485988        0.666625  2.868919  3.537939   \n",
       "\n",
       "drug_name       A-443654  A-770041   A-83-01  ACY-1215  AGI-6780   \n",
       "cell_line_name                                                     \n",
       "22RV1                NaN       NaN  5.299894  0.848553  2.072854  \\\n",
       "5637                 NaN       NaN  3.847780  1.039981  1.127383   \n",
       "8505C                NaN       NaN  4.472385  1.684219  0.912301   \n",
       "A2058                NaN       NaN  3.322242  3.517823  1.408728   \n",
       "A2780                NaN       NaN  3.167844  1.480489  0.765459   \n",
       "\n",
       "drug_name       AICA Ribonucleotide  ...     ZG-10     ZL049     ZL109   \n",
       "cell_line_name                       ...                                 \n",
       "22RV1                      8.277564  ...  2.216771  3.456567  0.704177  \\\n",
       "5637                       8.011505  ...       NaN  2.053874  0.046212   \n",
       "8505C                      7.954168  ...  1.217821  3.422601 -2.121398   \n",
       "A2058                      7.617709  ...  1.070022  2.570657 -1.714746   \n",
       "A2780                      7.608179  ...  1.119347  4.611726 -0.345197   \n",
       "\n",
       "drug_name       ZM447439   ZSTK474  Zibotentan  eEF2K Inhibitor, A-484954   \n",
       "cell_line_name                                                              \n",
       "22RV1           3.415833 -0.571660    5.886388                   5.891054  \\\n",
       "5637            0.556022  0.239659    5.144572                   5.273391   \n",
       "8505C           1.630272  1.115112    5.092384                   5.443555   \n",
       "A2058           1.292062  1.100533    5.547936                   5.373069   \n",
       "A2780           3.646963 -0.909179    5.204600                   5.302141   \n",
       "\n",
       "drug_name       kb NB 142-70    rTRAIL    torin2  \n",
       "cell_line_name                                    \n",
       "22RV1               2.989656 -0.586829       NaN  \n",
       "5637                2.519340 -2.889220       NaN  \n",
       "8505C               1.639219 -0.802009 -2.722521  \n",
       "A2058               3.154308 -2.067882       NaN  \n",
       "A2780               1.002677 -0.797652       NaN  \n",
       "\n",
       "[5 rows x 378 columns]"
      ]
     },
     "execution_count": 15,
     "metadata": {},
     "output_type": "execute_result"
    }
   ],
   "source": [
    "drug_response = pt_metadata.drug_response_gdsc1[pt_metadata.drug_response_gdsc1['cell_line_name'].isin(adata.obs.cell_line)]\n",
    "drug_response = drug_response.pivot(index='cell_line_name', columns='drug_name', values='ln_ic50')\n",
    "drug_response.head()"
   ]
  },
  {
   "cell_type": "code",
   "execution_count": 16,
   "id": "944e46e4",
   "metadata": {},
   "outputs": [
    {
     "data": {
      "text/plain": [
       "array([[ 2.473594  ,  0.579534  ,  3.072015  , ...,  2.989656  ,\n",
       "        -0.586829  , -2.62029729],\n",
       "       [ 1.626606  ,  3.166983  ,  4.41036   , ...,  2.51934   ,\n",
       "        -2.88922   , -2.62029729],\n",
       "       [ 0.419249  ,  2.447798  ,  3.65231126, ...,  1.639219  ,\n",
       "        -0.802009  , -2.722521  ],\n",
       "       ...,\n",
       "       [ 0.138006  ,  2.525089  ,  3.65231126, ...,  4.173171  ,\n",
       "        -2.278326  , -2.493473  ],\n",
       "       [ 2.100859  ,  2.097828  ,  3.65231126, ...,  6.357068  ,\n",
       "        -3.193179  ,  2.188268  ],\n",
       "       [ 0.428113  ,  3.185486  ,  3.930901  , ...,  2.697499  ,\n",
       "         0.17049   , -2.62029729]])"
      ]
     },
     "execution_count": 16,
     "metadata": {},
     "output_type": "execute_result"
    }
   ],
   "source": [
    "# contains NA values, need imputation\n",
    "imputer = SimpleImputer(strategy='mean')\n",
    "drug_response_imputed = imputer.fit_transform(drug_response.values)\n",
    "drug_response_imputed"
   ]
  },
  {
   "cell_type": "code",
   "execution_count": 17,
   "id": "35452e11",
   "metadata": {},
   "outputs": [
    {
     "data": {
      "image/png": "[encoded data removed]",
      "text/plain": [
       "<Figure size 800x600 with 1 Axes>"
      ]
     },
     "metadata": {},
     "output_type": "display_data"
    }
   ],
   "source": [
    "# Perform hierarchical clustering\n",
    "hierach = hierarchy.linkage(drug_response_imputed, method='complete', metric='euclidean')\n",
    "# Plot the dendrogram\n",
    "plt.figure(figsize=(8, 6))\n",
    "dendrogram = hierarchy.dendrogram(hierach, labels=drug_response.index.values)\n",
    "plt.title('Hierarchical Clustering Dendrogram')\n",
    "plt.xlabel('Cell Lines')\n",
    "plt.ylabel('Distance')\n",
    "plt.show()"
   ]
  },
  {
   "cell_type": "code",
   "execution_count": 18,
   "id": "4f10d10a",
   "metadata": {},
   "outputs": [],
   "source": [
    "cell_line_drug_response = pd.DataFrame()\n",
    "cell_line_drug_response[\"cell_line_name\"] = drug_response.index.values\n",
    "cell_line_drug_response[\"cell_line_cluster\"] = hierarchy.cut_tree(hierach, n_clusters=3).flatten()\n",
    "cell_line_drug_response[\"cell_line_cluster\"] = cell_line_drug_response[\"cell_line_cluster\"].astype(str)"
   ]
  },
  {
   "cell_type": "code",
   "execution_count": 19,
   "id": "43123fce",
   "metadata": {},
   "outputs": [],
   "source": [
    "adata.obs = adata.obs.merge(cell_line_drug_response, how = \"left\")\n",
    "adata.obs.cell_line_cluster = adata.obs.cell_line_cluster.fillna(\"3\")\n",
    "adata.obs['cell_line_cluster'] = \"cell line cluster\" + adata.obs['cell_line_cluster']\n",
    "adata.obs.cell_line_cluster = adata.obs.cell_line_cluster.astype('category')"
   ]
  },
  {
   "cell_type": "code",
   "execution_count": 20,
   "id": "1ca478cd",
   "metadata": {},
   "outputs": [],
   "source": [
    "ccle_exp_gene_names = [gene_name.split(' (')[0] for gene_name in adata.obsm['bulk_rna_expression_broad'].columns.values]\n",
    "ccle_exp_gene_names = np.array(ccle_exp_gene_names)\n",
    "overlap_genes = np.intersect1d(ccle_exp_gene_names, adata.var.index.values)\n",
    "overlap_gene_indices = np.where(np.isin(ccle_exp_gene_names, overlap_genes))[0]"
   ]
  },
  {
   "cell_type": "code",
   "execution_count": 21,
   "id": "2d9f9983",
   "metadata": {},
   "outputs": [
    {
     "data": {
      "text/html": [
       "<div>\n",
       "<style scoped>\n",
       "    .dataframe tbody tr th:only-of-type {\n",
       "        vertical-align: middle;\n",
       "    }\n",
       "\n",
       "    .dataframe tbody tr th {\n",
       "        vertical-align: top;\n",
       "    }\n",
       "\n",
       "    .dataframe thead th {\n",
       "        text-align: right;\n",
       "    }\n",
       "</style>\n",
       "<table border=\"1\" class=\"dataframe\">\n",
       "  <thead>\n",
       "    <tr style=\"text-align: right;\">\n",
       "      <th></th>\n",
       "      <th>coefficients</th>\n",
       "      <th>genes</th>\n",
       "    </tr>\n",
       "  </thead>\n",
       "  <tbody>\n",
       "    <tr>\n",
       "      <th>0</th>\n",
       "      <td>-1.043384e+13</td>\n",
       "      <td>TENM1</td>\n",
       "    </tr>\n",
       "    <tr>\n",
       "      <th>1</th>\n",
       "      <td>-1.018486e+13</td>\n",
       "      <td>MASP2</td>\n",
       "    </tr>\n",
       "    <tr>\n",
       "      <th>2</th>\n",
       "      <td>7.727102e+12</td>\n",
       "      <td>CREBBP</td>\n",
       "    </tr>\n",
       "    <tr>\n",
       "      <th>3</th>\n",
       "      <td>6.080640e+12</td>\n",
       "      <td>NFYA</td>\n",
       "    </tr>\n",
       "    <tr>\n",
       "      <th>4</th>\n",
       "      <td>-5.909414e+12</td>\n",
       "      <td>PAX6</td>\n",
       "    </tr>\n",
       "    <tr>\n",
       "      <th>...</th>\n",
       "      <td>...</td>\n",
       "      <td>...</td>\n",
       "    </tr>\n",
       "    <tr>\n",
       "      <th>17841</th>\n",
       "      <td>0.000000e+00</td>\n",
       "      <td>TAS2R16</td>\n",
       "    </tr>\n",
       "    <tr>\n",
       "      <th>17842</th>\n",
       "      <td>0.000000e+00</td>\n",
       "      <td>LCE3C</td>\n",
       "    </tr>\n",
       "    <tr>\n",
       "      <th>17843</th>\n",
       "      <td>0.000000e+00</td>\n",
       "      <td>DEFB110</td>\n",
       "    </tr>\n",
       "    <tr>\n",
       "      <th>17844</th>\n",
       "      <td>0.000000e+00</td>\n",
       "      <td>KRTAP20-1</td>\n",
       "    </tr>\n",
       "    <tr>\n",
       "      <th>17845</th>\n",
       "      <td>0.000000e+00</td>\n",
       "      <td>OR4D9</td>\n",
       "    </tr>\n",
       "  </tbody>\n",
       "</table>\n",
       "<p>17846 rows × 2 columns</p>\n",
       "</div>"
      ],
      "text/plain": [
       "       coefficients      genes\n",
       "0     -1.043384e+13      TENM1\n",
       "1     -1.018486e+13      MASP2\n",
       "2      7.727102e+12     CREBBP\n",
       "3      6.080640e+12       NFYA\n",
       "4     -5.909414e+12       PAX6\n",
       "...             ...        ...\n",
       "17841  0.000000e+00    TAS2R16\n",
       "17842  0.000000e+00      LCE3C\n",
       "17843  0.000000e+00    DEFB110\n",
       "17844  0.000000e+00  KRTAP20-1\n",
       "17845  0.000000e+00      OR4D9\n",
       "\n",
       "[17846 rows x 2 columns]"
      ]
     },
     "execution_count": 21,
     "metadata": {},
     "output_type": "execute_result"
    }
   ],
   "source": [
    "# sorted coefficients of the overlapping genes in the dataset\n",
    "coeffcient = {'coefficients': arc_witch.coef_[overlap_gene_indices], 'genes': ccle_exp_gene_names[overlap_gene_indices]}\n",
    "coeffcient = pd.DataFrame(coeffcient)\n",
    "coeffcient_sorted = coeffcient.reindex(coeffcient['coefficients'].abs().sort_values(ascending=False).index)\n",
    "coeffcient_sorted = coeffcient_sorted.reset_index(drop=True)\n",
    "coeffcient_sorted"
   ]
  },
  {
   "cell_type": "code",
   "execution_count": 22,
   "id": "8ec533ee",
   "metadata": {},
   "outputs": [
    {
     "data": {
      "image/png": "[encoded data removed]",
      "text/plain": [
       "<Figure size 890x250 with 4 Axes>"
      ]
     },
     "metadata": {},
     "output_type": "display_data"
    }
   ],
   "source": [
    "sc.pl.dotplot(adata, var_names = coeffcient_sorted.genes.values[0:20], groupby = 'cell_line_cluster')"
   ]
  },
  {
   "cell_type": "code",
   "execution_count": 23,
   "id": "0b36d541",
   "metadata": {},
   "outputs": [
    {
     "data": {
      "image/png": "[encoded data removed]",
      "text/plain": [
       "<Figure size 890x250 with 4 Axes>"
      ]
     },
     "metadata": {},
     "output_type": "display_data"
    }
   ],
   "source": [
    "sc.pl.dotplot(adata, var_names = coeffcient_sorted.genes.values[0:20], groupby = 'cell_line_cluster', standard_scale='var')"
   ]
  },
  {
   "cell_type": "code",
   "execution_count": 24,
   "id": "0455a733",
   "metadata": {},
   "outputs": [],
   "source": [
    "#second plot"
   ]
  },
  {
   "cell_type": "code",
   "execution_count": 25,
   "id": "12c131a2",
   "metadata": {},
   "outputs": [],
   "source": [
    "sc.pp.normalize_total(adata)\n",
    "sc.pp.log1p(adata)"
   ]
  },
  {
   "cell_type": "code",
   "execution_count": 26,
   "id": "74c5ff6c",
   "metadata": {},
   "outputs": [],
   "source": [
    "adata.obs['DepMap_ID'] = adata.obs['DepMap_ID'].astype('category')\n",
    "adata_control = adata[adata.obs.perturbation == 'control']\n",
    "adata_control.obs.reset_index(drop=True, inplace=True)"
   ]
  },
  {
   "cell_type": "code",
   "execution_count": 27,
   "id": "911ca91a",
   "metadata": {},
   "outputs": [
    {
     "data": {
      "text/html": [
       "<div>\n",
       "<style scoped>\n",
       "    .dataframe tbody tr th:only-of-type {\n",
       "        vertical-align: middle;\n",
       "    }\n",
       "\n",
       "    .dataframe tbody tr th {\n",
       "        vertical-align: top;\n",
       "    }\n",
       "\n",
       "    .dataframe thead th {\n",
       "        text-align: right;\n",
       "    }\n",
       "</style>\n",
       "<table border=\"1\" class=\"dataframe\">\n",
       "  <thead>\n",
       "    <tr style=\"text-align: right;\">\n",
       "      <th></th>\n",
       "      <th>Cell line</th>\n",
       "      <th>Gene</th>\n",
       "      <th>base</th>\n",
       "    </tr>\n",
       "  </thead>\n",
       "  <tbody>\n",
       "    <tr>\n",
       "      <th>0</th>\n",
       "      <td>ACH-000001</td>\n",
       "      <td>MIR1302-10</td>\n",
       "      <td>0.0</td>\n",
       "    </tr>\n",
       "    <tr>\n",
       "      <th>1</th>\n",
       "      <td>ACH-000012</td>\n",
       "      <td>MIR1302-10</td>\n",
       "      <td>0.0</td>\n",
       "    </tr>\n",
       "    <tr>\n",
       "      <th>2</th>\n",
       "      <td>ACH-000015</td>\n",
       "      <td>MIR1302-10</td>\n",
       "      <td>0.0</td>\n",
       "    </tr>\n",
       "    <tr>\n",
       "      <th>3</th>\n",
       "      <td>ACH-000021</td>\n",
       "      <td>MIR1302-10</td>\n",
       "      <td>0.0</td>\n",
       "    </tr>\n",
       "    <tr>\n",
       "      <th>4</th>\n",
       "      <td>ACH-000022</td>\n",
       "      <td>MIR1302-10</td>\n",
       "      <td>0.0</td>\n",
       "    </tr>\n",
       "  </tbody>\n",
       "</table>\n",
       "</div>"
      ],
      "text/plain": [
       "    Cell line        Gene base\n",
       "0  ACH-000001  MIR1302-10  0.0\n",
       "1  ACH-000012  MIR1302-10  0.0\n",
       "2  ACH-000015  MIR1302-10  0.0\n",
       "3  ACH-000021  MIR1302-10  0.0\n",
       "4  ACH-000022  MIR1302-10  0.0"
      ]
     },
     "execution_count": 27,
     "metadata": {},
     "output_type": "execute_result"
    }
   ],
   "source": [
    "base_line_expression = pd.DataFrame(columns=adata_control.var_names, index=adata_control.obs['DepMap_ID'].cat.categories)                                                                                                 \n",
    "for cl in adata_control.obs.DepMap_ID.cat.categories: \n",
    "    base_line_expression.loc[cl] = adata_control[adata_control.obs['DepMap_ID'] == cl].X.mean(0)\n",
    "base_line_expression.reset_index(inplace=True)\n",
    "base_line_expression = pd.melt(base_line_expression, id_vars='index', var_name='Gene', value_name='Value')\n",
    "base_line_expression.columns = ['Cell line', 'Gene', 'base']\n",
    "base_line_expression.head()"
   ]
  },
  {
   "cell_type": "code",
   "execution_count": 28,
   "id": "008db0c4",
   "metadata": {},
   "outputs": [
    {
     "data": {
      "text/html": [
       "<div>\n",
       "<style scoped>\n",
       "    .dataframe tbody tr th:only-of-type {\n",
       "        vertical-align: middle;\n",
       "    }\n",
       "\n",
       "    .dataframe tbody tr th {\n",
       "        vertical-align: top;\n",
       "    }\n",
       "\n",
       "    .dataframe thead th {\n",
       "        text-align: right;\n",
       "    }\n",
       "</style>\n",
       "<table border=\"1\" class=\"dataframe\">\n",
       "  <thead>\n",
       "    <tr style=\"text-align: right;\">\n",
       "      <th></th>\n",
       "      <th>Cell line</th>\n",
       "      <th>Gene</th>\n",
       "      <th>base</th>\n",
       "      <th>broad</th>\n",
       "    </tr>\n",
       "  </thead>\n",
       "  <tbody>\n",
       "    <tr>\n",
       "      <th>0</th>\n",
       "      <td>ACH-000001</td>\n",
       "      <td>OR4F5</td>\n",
       "      <td>0.0</td>\n",
       "      <td>0.0</td>\n",
       "    </tr>\n",
       "    <tr>\n",
       "      <th>1</th>\n",
       "      <td>ACH-000012</td>\n",
       "      <td>OR4F5</td>\n",
       "      <td>0.0</td>\n",
       "      <td>0.0</td>\n",
       "    </tr>\n",
       "    <tr>\n",
       "      <th>2</th>\n",
       "      <td>ACH-000015</td>\n",
       "      <td>OR4F5</td>\n",
       "      <td>0.0</td>\n",
       "      <td>0.0</td>\n",
       "    </tr>\n",
       "    <tr>\n",
       "      <th>3</th>\n",
       "      <td>ACH-000021</td>\n",
       "      <td>OR4F5</td>\n",
       "      <td>0.0</td>\n",
       "      <td>0.0</td>\n",
       "    </tr>\n",
       "    <tr>\n",
       "      <th>4</th>\n",
       "      <td>ACH-000022</td>\n",
       "      <td>OR4F5</td>\n",
       "      <td>0.0</td>\n",
       "      <td>0.0</td>\n",
       "    </tr>\n",
       "  </tbody>\n",
       "</table>\n",
       "</div>"
      ],
      "text/plain": [
       "    Cell line   Gene base  broad\n",
       "0  ACH-000001  OR4F5  0.0    0.0\n",
       "1  ACH-000012  OR4F5  0.0    0.0\n",
       "2  ACH-000015  OR4F5  0.0    0.0\n",
       "3  ACH-000021  OR4F5  0.0    0.0\n",
       "4  ACH-000022  OR4F5  0.0    0.0"
      ]
     },
     "execution_count": 28,
     "metadata": {},
     "output_type": "execute_result"
    }
   ],
   "source": [
    "ccle_exp_gene = pt_metadata.bulk_rna_broad\n",
    "ccle_exp_gene.columns = [gene_name.split(' (')[0] for gene_name in ccle_exp_gene.columns.values]\n",
    "ccle_exp_gene = ccle_exp_gene.reset_index()\n",
    "ccle_exp_gene = pd.melt(ccle_exp_gene, id_vars='index', var_name='Gene', value_name='Value')\n",
    "ccle_exp_gene.columns = ['Cell line', 'Gene', 'broad']\n",
    "compare_cl_expr = base_line_expression.merge(ccle_exp_gene, how = \"inner\")\n",
    "compare_cl_expr.head()"
   ]
  },
  {
   "cell_type": "code",
   "execution_count": 29,
   "id": "58e8f3ac",
   "metadata": {},
   "outputs": [
    {
     "data": {
      "image/png": "[encoded data removed]",
      "text/plain": [
       "<Figure size 640x480 with 1 Axes>"
      ]
     },
     "metadata": {},
     "output_type": "display_data"
    }
   ],
   "source": [
    "# Create scatter plot\n",
    "plt.scatter(compare_cl_expr.base, compare_cl_expr.broad)\n",
    "\n",
    "# Set labels and title\n",
    "plt.xlabel('Base')\n",
    "plt.ylabel('Broad')\n",
    "plt.title('Scatter Plot')\n",
    "\n",
    "# Display the plot\n",
    "plt.show()"
   ]
  }
 ],
 "metadata": {
  "kernelspec": {
   "display_name": "Python 3 (ipykernel)",
   "language": "python",
   "name": "python3"
  },
  "language_info": {
   "codemirror_mode": {
    "name": "ipython",
    "version": 3
   },
   "file_extension": ".py",
   "mimetype": "text/x-python",
   "name": "python",
   "nbconvert_exporter": "python",
   "pygments_lexer": "ipython3",
   "version": "3.9.15"
  }
 },
 "nbformat": 4,
 "nbformat_minor": 5
}
