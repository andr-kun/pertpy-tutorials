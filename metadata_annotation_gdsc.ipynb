{
 "cells": [
  {
   "cell_type": "code",
   "execution_count": 1,
   "id": "e9d81865",
   "metadata": {},
   "outputs": [
    {
     "name": "stderr",
     "output_type": "stream",
     "text": [
      "Global seed set to 0\n"
     ]
    },
    {
     "data": {
      "text/html": [
       "<pre style=\"white-space:pre;overflow-x:auto;line-height:normal;font-family:Menlo,'DejaVu Sans Mono',consolas,'Courier New',monospace\"><span style=\"color: #808000; text-decoration-color: #808000; font-weight: bold\">ryp2 is not installed. Install with </span><span style=\"color: #008000; text-decoration-color: #008000; font-weight: bold\">pip install rpy2 </span><span style=\"color: #808000; text-decoration-color: #808000; font-weight: bold\">to run tools with R support.</span>\n",
       "</pre>\n"
      ],
      "text/plain": [
       "\u001b[1;33mryp2 is not installed. Install with \u001b[0m\u001b[1;32mpip install rpy2 \u001b[0m\u001b[1;33mto run tools with R support.\u001b[0m\n"
      ]
     },
     "metadata": {},
     "output_type": "display_data"
    },
    {
     "data": {
      "text/html": [
       "<pre style=\"white-space:pre;overflow-x:auto;line-height:normal;font-family:Menlo,'DejaVu Sans Mono',consolas,'Courier New',monospace\"><span style=\"color: #808000; text-decoration-color: #808000; font-weight: bold\">To use sccoda or tasccoda please install ete3 with </span><span style=\"color: #008000; text-decoration-color: #008000; font-weight: bold\">pip install ete3</span>\n",
       "</pre>\n"
      ],
      "text/plain": [
       "\u001b[1;33mTo use sccoda or tasccoda please install ete3 with \u001b[0m\u001b[1;32mpip install ete3\u001b[0m\n"
      ]
     },
     "metadata": {},
     "output_type": "display_data"
    }
   ],
   "source": [
    "import pertpy as pt\n",
    "import scanpy as sc\n",
    "import pandas as pd\n",
    "import numpy as np\n",
    "from sklearn.linear_model import LinearRegression\n",
    "from sklearn.model_selection import train_test_split\n",
    "from sklearn.metrics import mean_squared_error, r2_score\n",
    "import matplotlib.pyplot as plt\n",
    "import random"
   ]
  },
  {
   "cell_type": "code",
   "execution_count": 2,
   "id": "32880fea",
   "metadata": {},
   "outputs": [],
   "source": [
    "# read anndata\n",
    "adata = pt.dt.mcfarland_2020()\n",
    "# create metadata object\n",
    "pt_metadata = pt.tl.CellLineMetaData()"
   ]
  },
  {
   "cell_type": "code",
   "execution_count": 3,
   "id": "72690c81",
   "metadata": {},
   "outputs": [],
   "source": [
    "# subset the anndata (memory issue)\n",
    "adata = adata[:5000, :]"
   ]
  },
  {
   "cell_type": "code",
   "execution_count": 4,
   "id": "7d3695ab",
   "metadata": {},
   "outputs": [
    {
     "data": {
      "text/plain": [
       "AnnData object with n_obs × n_vars = 5000 × 32738\n",
       "    obs: 'DepMap_ID', 'cancer', 'cell_det_rate', 'cell_line', 'cell_quality', 'channel', 'disease', 'dose_unit', 'dose_value', 'doublet_CL1', 'doublet_CL2', 'doublet_GMM_prob', 'doublet_dev_imp', 'doublet_z_margin', 'hash_assignment', 'hash_tag', 'num_SNPs', 'organism', 'percent.mito', 'perturbation', 'perturbation_type', 'sex', 'singlet_ID', 'singlet_dev', 'singlet_dev_z', 'singlet_margin', 'singlet_z_margin', 'time', 'tissue_type', 'tot_reads', 'nperts', 'ngenes', 'ncounts', 'percent_mito', 'percent_ribo', 'chembl-ID', 'cell_line_name', 'stripped_cell_line_name', 'CCLE_Name', 'alias', 'COSMICID', 'source', 'RRID', 'WTSI_Master_Cell_ID', 'sample_collection_site', 'primary_or_metastasis', 'primary_disease', 'Subtype', 'age', 'Sanger_Model_ID', 'depmap_public_comments', 'lineage', 'lineage_subtype', 'lineage_sub_subtype', 'lineage_molecular_subtype', 'default_growth_pattern', 'model_manipulation', 'model_manipulation_details', 'patient_id', 'parent_depmap_id', 'Cellosaurus_NCIt_disease', 'Cellosaurus_NCIt_id', 'Cellosaurus_issues'\n",
       "    var: 'ensembl_id', 'ncounts', 'ncells'"
      ]
     },
     "execution_count": 4,
     "metadata": {},
     "output_type": "execute_result"
    }
   ],
   "source": [
    "pt_metadata.annotate_cell_lines(adata)"
   ]
  },
  {
   "cell_type": "code",
   "execution_count": 5,
   "id": "75824fbf",
   "metadata": {},
   "outputs": [
    {
     "data": {
      "text/html": [
       "<pre style=\"white-space:pre;overflow-x:auto;line-height:normal;font-family:Menlo,'DejaVu Sans Mono',consolas,'Courier New',monospace\"><span style=\"color: #808000; text-decoration-color: #808000; font-weight: bold\">Following </span><span style=\"color: #808000; text-decoration-color: #808000; font-weight: bold\">44</span><span style=\"color: #808000; text-decoration-color: #808000; font-weight: bold\"> identifiers can not be found in the drug response data for GDSC1, their corresponding meta data are NA</span>\n",
       "<span style=\"color: #808000; text-decoration-color: #808000; font-weight: bold\">values. Please check it again:</span>\n",
       "- Hs 766T\n",
       "- CJM\n",
       "- LNCaP clone FGC\n",
       "- SW579\n",
       "- MIA PaCa-<span style=\"color: #008080; text-decoration-color: #008080; font-weight: bold\">2</span>\n",
       "- HCC-<span style=\"color: #008080; text-decoration-color: #008080; font-weight: bold\">1195</span>\n",
       "- SNU-<span style=\"color: #008080; text-decoration-color: #008080; font-weight: bold\">1041</span>\n",
       "- COLO <span style=\"color: #008080; text-decoration-color: #008080; font-weight: bold\">668</span>\n",
       "- DMS <span style=\"color: #008080; text-decoration-color: #008080; font-weight: bold\">273</span>\n",
       "- OAW42\n",
       "- <span style=\"color: #008080; text-decoration-color: #008080; font-weight: bold\">786</span>-O\n",
       "- Hep 3B2.<span style=\"color: #008080; text-decoration-color: #008080; font-weight: bold\">1</span>-<span style=\"color: #008080; text-decoration-color: #008080; font-weight: bold\">7</span>\n",
       "- NCI-H2126\n",
       "- DV-<span style=\"color: #008080; text-decoration-color: #008080; font-weight: bold\">90</span>\n",
       "- ACC-MESO-<span style=\"color: #008080; text-decoration-color: #008080; font-weight: bold\">1</span>\n",
       "- MDA-MB-435S\n",
       "- Panc <span style=\"color: #008080; text-decoration-color: #008080; font-weight: bold\">04.03</span>\n",
       "- Li-<span style=\"color: #008080; text-decoration-color: #008080; font-weight: bold\">7</span>\n",
       "- JHH-<span style=\"color: #008080; text-decoration-color: #008080; font-weight: bold\">5</span>\n",
       "- SW <span style=\"color: #008080; text-decoration-color: #008080; font-weight: bold\">480</span>\n",
       "- IGROV1\n",
       "- GP2d\n",
       "- 22Rv1\n",
       "- SNU-<span style=\"color: #008080; text-decoration-color: #008080; font-weight: bold\">1214</span>\n",
       "- SNU-<span style=\"color: #008080; text-decoration-color: #008080; font-weight: bold\">1105</span>\n",
       "- LMSU\n",
       "- A-<span style=\"color: #008080; text-decoration-color: #008080; font-weight: bold\">375</span>\n",
       "- COV434\n",
       "- Hs <span style=\"color: #008080; text-decoration-color: #008080; font-weight: bold\">852.</span>T\n",
       "- JHOM-<span style=\"color: #008080; text-decoration-color: #008080; font-weight: bold\">1</span>\n",
       "- SW <span style=\"color: #008080; text-decoration-color: #008080; font-weight: bold\">900</span>\n",
       "- KNS-<span style=\"color: #008080; text-decoration-color: #008080; font-weight: bold\">81</span>\n",
       "- NCI-H322\n",
       "- TUHR4TKB\n",
       "- KNS-<span style=\"color: #008080; text-decoration-color: #008080; font-weight: bold\">60</span>\n",
       "- RH-<span style=\"color: #008080; text-decoration-color: #008080; font-weight: bold\">30</span>\n",
       "- TEN\n",
       "- SNU-<span style=\"color: #008080; text-decoration-color: #008080; font-weight: bold\">685</span>\n",
       "- LUDLU-<span style=\"color: #008080; text-decoration-color: #008080; font-weight: bold\">1</span>\n",
       "- PA-TU-8988S\n",
       "- SNU-<span style=\"color: #008080; text-decoration-color: #008080; font-weight: bold\">410</span>\n",
       "- HEC-<span style=\"color: #008080; text-decoration-color: #008080; font-weight: bold\">1</span>-B\n",
       "- SNU-<span style=\"color: #008080; text-decoration-color: #008080; font-weight: bold\">245</span>\n",
       "- Malme-3M\n",
       "</pre>\n"
      ],
      "text/plain": [
       "\u001b[1;33mFollowing \u001b[0m\u001b[1;33m44\u001b[0m\u001b[1;33m identifiers can not be found in the drug response data for GDSC1, their corresponding meta data are NA\u001b[0m\n",
       "\u001b[1;33mvalues. Please check it again:\u001b[0m\n",
       "- Hs 766T\n",
       "- CJM\n",
       "- LNCaP clone FGC\n",
       "- SW579\n",
       "- MIA PaCa-\u001b[1;36m2\u001b[0m\n",
       "- HCC-\u001b[1;36m1195\u001b[0m\n",
       "- SNU-\u001b[1;36m1041\u001b[0m\n",
       "- COLO \u001b[1;36m668\u001b[0m\n",
       "- DMS \u001b[1;36m273\u001b[0m\n",
       "- OAW42\n",
       "- \u001b[1;36m786\u001b[0m-O\n",
       "- Hep 3B2.\u001b[1;36m1\u001b[0m-\u001b[1;36m7\u001b[0m\n",
       "- NCI-H2126\n",
       "- DV-\u001b[1;36m90\u001b[0m\n",
       "- ACC-MESO-\u001b[1;36m1\u001b[0m\n",
       "- MDA-MB-435S\n",
       "- Panc \u001b[1;36m04.03\u001b[0m\n",
       "- Li-\u001b[1;36m7\u001b[0m\n",
       "- JHH-\u001b[1;36m5\u001b[0m\n",
       "- SW \u001b[1;36m480\u001b[0m\n",
       "- IGROV1\n",
       "- GP2d\n",
       "- 22Rv1\n",
       "- SNU-\u001b[1;36m1214\u001b[0m\n",
       "- SNU-\u001b[1;36m1105\u001b[0m\n",
       "- LMSU\n",
       "- A-\u001b[1;36m375\u001b[0m\n",
       "- COV434\n",
       "- Hs \u001b[1;36m852.\u001b[0mT\n",
       "- JHOM-\u001b[1;36m1\u001b[0m\n",
       "- SW \u001b[1;36m900\u001b[0m\n",
       "- KNS-\u001b[1;36m81\u001b[0m\n",
       "- NCI-H322\n",
       "- TUHR4TKB\n",
       "- KNS-\u001b[1;36m60\u001b[0m\n",
       "- RH-\u001b[1;36m30\u001b[0m\n",
       "- TEN\n",
       "- SNU-\u001b[1;36m685\u001b[0m\n",
       "- LUDLU-\u001b[1;36m1\u001b[0m\n",
       "- PA-TU-8988S\n",
       "- SNU-\u001b[1;36m410\u001b[0m\n",
       "- HEC-\u001b[1;36m1\u001b[0m-B\n",
       "- SNU-\u001b[1;36m245\u001b[0m\n",
       "- Malme-3M\n"
      ]
     },
     "metadata": {},
     "output_type": "display_data"
    },
    {
     "data": {
      "text/plain": [
       "AnnData object with n_obs × n_vars = 5000 × 32738\n",
       "    obs: 'DepMap_ID', 'cancer', 'cell_det_rate', 'cell_line', 'cell_quality', 'channel', 'disease', 'dose_unit', 'dose_value', 'doublet_CL1', 'doublet_CL2', 'doublet_GMM_prob', 'doublet_dev_imp', 'doublet_z_margin', 'hash_assignment', 'hash_tag', 'num_SNPs', 'organism', 'percent.mito', 'perturbation', 'perturbation_type', 'sex', 'singlet_ID', 'singlet_dev', 'singlet_dev_z', 'singlet_margin', 'singlet_z_margin', 'time', 'tissue_type', 'tot_reads', 'nperts', 'ngenes', 'ncounts', 'percent_mito', 'percent_ribo', 'chembl-ID', 'cell_line_name', 'stripped_cell_line_name', 'CCLE_Name', 'alias', 'COSMICID', 'source', 'RRID', 'WTSI_Master_Cell_ID', 'sample_collection_site', 'primary_or_metastasis', 'primary_disease', 'Subtype', 'age', 'Sanger_Model_ID', 'depmap_public_comments', 'lineage', 'lineage_subtype', 'lineage_sub_subtype', 'lineage_molecular_subtype', 'default_growth_pattern', 'model_manipulation', 'model_manipulation_details', 'patient_id', 'parent_depmap_id', 'Cellosaurus_NCIt_disease', 'Cellosaurus_NCIt_id', 'Cellosaurus_issues', 'drug_name', 'IC50'\n",
       "    var: 'ensembl_id', 'ncounts', 'ncells'"
      ]
     },
     "execution_count": 5,
     "metadata": {},
     "output_type": "execute_result"
    }
   ],
   "source": [
    "pt_metadata.annotate_from_gdsc(adata)"
   ]
  },
  {
   "cell_type": "code",
   "execution_count": 6,
   "id": "27d59cca",
   "metadata": {},
   "outputs": [
    {
     "data": {
      "text/html": [
       "<pre style=\"white-space:pre;overflow-x:auto;line-height:normal;font-family:Menlo,'DejaVu Sans Mono',consolas,'Courier New',monospace\">There are <span style=\"color: #008080; text-decoration-color: #008080; font-weight: bold\">98</span> identifiers in `adata.obs`.\n",
       "</pre>\n"
      ],
      "text/plain": [
       "There are \u001b[1;36m98\u001b[0m identifiers in `adata.obs`.\n"
      ]
     },
     "metadata": {},
     "output_type": "display_data"
    },
    {
     "data": {
      "text/html": [
       "<pre style=\"white-space:pre;overflow-x:auto;line-height:normal;font-family:Menlo,'DejaVu Sans Mono',consolas,'Courier New',monospace\"><span style=\"color: #808000; text-decoration-color: #808000; font-weight: bold\">Following </span><span style=\"color: #808000; text-decoration-color: #808000; font-weight: bold\">18</span><span style=\"color: #808000; text-decoration-color: #808000; font-weight: bold\"> identifiers can't be found in bulk RNA expression data. </span>\n",
       "</pre>\n"
      ],
      "text/plain": [
       "\u001b[1;33mFollowing \u001b[0m\u001b[1;33m18\u001b[0m\u001b[1;33m identifiers can't be found in bulk RNA expression data. \u001b[0m\n"
      ]
     },
     "metadata": {},
     "output_type": "display_data"
    },
    {
     "data": {
      "text/html": [
       "<pre style=\"white-space:pre;overflow-x:auto;line-height:normal;font-family:Menlo,'DejaVu Sans Mono',consolas,'Courier New',monospace\">Resulting in NA values for their corresponding metadata. Please check again: \n",
       "- DMS <span style=\"color: #008080; text-decoration-color: #008080; font-weight: bold\">273</span>\n",
       "- IGROV1\n",
       "- OAW42\n",
       "- <span style=\"color: #008080; text-decoration-color: #008080; font-weight: bold\">786</span>-O\n",
       "- Hs 766T\n",
       "- Hep 3B2.<span style=\"color: #008080; text-decoration-color: #008080; font-weight: bold\">1</span>-<span style=\"color: #008080; text-decoration-color: #008080; font-weight: bold\">7</span>\n",
       "- 22Rv1\n",
       "- RH-<span style=\"color: #008080; text-decoration-color: #008080; font-weight: bold\">30</span>\n",
       "- A-<span style=\"color: #008080; text-decoration-color: #008080; font-weight: bold\">375</span>\n",
       "- Panc <span style=\"color: #008080; text-decoration-color: #008080; font-weight: bold\">04.03</span>\n",
       "- Hs <span style=\"color: #008080; text-decoration-color: #008080; font-weight: bold\">852.</span>T\n",
       "- LNCaP clone FGC\n",
       "- SW <span style=\"color: #008080; text-decoration-color: #008080; font-weight: bold\">900</span>\n",
       "- MIA PaCa-<span style=\"color: #008080; text-decoration-color: #008080; font-weight: bold\">2</span>\n",
       "- NCI-H322\n",
       "- HCC-<span style=\"color: #008080; text-decoration-color: #008080; font-weight: bold\">1195</span>\n",
       "- SW <span style=\"color: #008080; text-decoration-color: #008080; font-weight: bold\">480</span>\n",
       "- COLO <span style=\"color: #008080; text-decoration-color: #008080; font-weight: bold\">668</span>\n",
       "</pre>\n"
      ],
      "text/plain": [
       "Resulting in NA values for their corresponding metadata. Please check again: \n",
       "- DMS \u001b[1;36m273\u001b[0m\n",
       "- IGROV1\n",
       "- OAW42\n",
       "- \u001b[1;36m786\u001b[0m-O\n",
       "- Hs 766T\n",
       "- Hep 3B2.\u001b[1;36m1\u001b[0m-\u001b[1;36m7\u001b[0m\n",
       "- 22Rv1\n",
       "- RH-\u001b[1;36m30\u001b[0m\n",
       "- A-\u001b[1;36m375\u001b[0m\n",
       "- Panc \u001b[1;36m04.03\u001b[0m\n",
       "- Hs \u001b[1;36m852.\u001b[0mT\n",
       "- LNCaP clone FGC\n",
       "- SW \u001b[1;36m900\u001b[0m\n",
       "- MIA PaCa-\u001b[1;36m2\u001b[0m\n",
       "- NCI-H322\n",
       "- HCC-\u001b[1;36m1195\u001b[0m\n",
       "- SW \u001b[1;36m480\u001b[0m\n",
       "- COLO \u001b[1;36m668\u001b[0m\n"
      ]
     },
     "metadata": {},
     "output_type": "display_data"
    },
    {
     "data": {
      "text/plain": [
       "AnnData object with n_obs × n_vars = 5000 × 32738\n",
       "    obs: 'DepMap_ID', 'cancer', 'cell_det_rate', 'cell_line', 'cell_quality', 'channel', 'disease', 'dose_unit', 'dose_value', 'doublet_CL1', 'doublet_CL2', 'doublet_GMM_prob', 'doublet_dev_imp', 'doublet_z_margin', 'hash_assignment', 'hash_tag', 'num_SNPs', 'organism', 'percent.mito', 'perturbation', 'perturbation_type', 'sex', 'singlet_ID', 'singlet_dev', 'singlet_dev_z', 'singlet_margin', 'singlet_z_margin', 'time', 'tissue_type', 'tot_reads', 'nperts', 'ngenes', 'ncounts', 'percent_mito', 'percent_ribo', 'chembl-ID', 'cell_line_name', 'stripped_cell_line_name', 'CCLE_Name', 'alias', 'COSMICID', 'source', 'RRID', 'WTSI_Master_Cell_ID', 'sample_collection_site', 'primary_or_metastasis', 'primary_disease', 'Subtype', 'age', 'Sanger_Model_ID', 'depmap_public_comments', 'lineage', 'lineage_subtype', 'lineage_sub_subtype', 'lineage_molecular_subtype', 'default_growth_pattern', 'model_manipulation', 'model_manipulation_details', 'patient_id', 'parent_depmap_id', 'Cellosaurus_NCIt_disease', 'Cellosaurus_NCIt_id', 'Cellosaurus_issues', 'drug_name', 'IC50'\n",
       "    var: 'ensembl_id', 'ncounts', 'ncells'\n",
       "    obsm: 'bulk_rna_expression_broad'"
      ]
     },
     "execution_count": 6,
     "metadata": {},
     "output_type": "execute_result"
    }
   ],
   "source": [
    "pt_metadata.annotate_bulk_rna_expression(adata)"
   ]
  },
  {
   "cell_type": "code",
   "execution_count": 7,
   "id": "f61d5eae",
   "metadata": {},
   "outputs": [],
   "source": [
    "# speed up runtime, convert pd.dataframe to nparray\n",
    "adata.obsm['bulk_rna_expression_broad'] = adata.obsm['bulk_rna_expression_broad'].values"
   ]
  },
  {
   "cell_type": "code",
   "execution_count": 8,
   "id": "strategic-colombia",
   "metadata": {},
   "outputs": [],
   "source": [
    "# subset to data where bulk rna expression and viability is not na\n",
    "viability = adata.obs.IC50.values\n",
    "not_na_viability = np.where(~np.isnan(viability))[0]\n",
    "not_na_bulk = np.all(~np.isnan(adata.obsm['bulk_rna_expression_broad']), axis=1)\n",
    "not_na_bulk= np.where(not_na_bulk)[0]\n",
    "not_na_both = np.intersect1d(not_na_bulk, not_na_viability)\n",
    "not_na_bulk_array = adata.obsm['bulk_rna_expression_broad'][not_na_both]\n",
    "not_na_viability_array = viability[not_na_both]"
   ]
  },
  {
   "cell_type": "code",
   "execution_count": 9,
   "id": "d3596023",
   "metadata": {},
   "outputs": [],
   "source": [
    "data_train, data_test, label_train, label_test = train_test_split(not_na_bulk_array, \n",
    "                                                                  not_na_viability_array, test_size=0.20, random_state=42)\n",
    "#data_test, data_val, label_test, label_val = train_test_split(data_test, label_test, test_size=0.5, random_state=42)"
   ]
  },
  {
   "cell_type": "code",
   "execution_count": 10,
   "id": "f54ab516",
   "metadata": {},
   "outputs": [
    {
     "data": {
      "text/html": [
       "<style>#sk-container-id-1 {color: black;background-color: white;}#sk-container-id-1 pre{padding: 0;}#sk-container-id-1 div.sk-toggleable {background-color: white;}#sk-container-id-1 label.sk-toggleable__label {cursor: pointer;display: block;width: 100%;margin-bottom: 0;padding: 0.3em;box-sizing: border-box;text-align: center;}#sk-container-id-1 label.sk-toggleable__label-arrow:before {content: \"▸\";float: left;margin-right: 0.25em;color: #696969;}#sk-container-id-1 label.sk-toggleable__label-arrow:hover:before {color: black;}#sk-container-id-1 div.sk-estimator:hover label.sk-toggleable__label-arrow:before {color: black;}#sk-container-id-1 div.sk-toggleable__content {max-height: 0;max-width: 0;overflow: hidden;text-align: left;background-color: #f0f8ff;}#sk-container-id-1 div.sk-toggleable__content pre {margin: 0.2em;color: black;border-radius: 0.25em;background-color: #f0f8ff;}#sk-container-id-1 input.sk-toggleable__control:checked~div.sk-toggleable__content {max-height: 200px;max-width: 100%;overflow: auto;}#sk-container-id-1 input.sk-toggleable__control:checked~label.sk-toggleable__label-arrow:before {content: \"▾\";}#sk-container-id-1 div.sk-estimator input.sk-toggleable__control:checked~label.sk-toggleable__label {background-color: #d4ebff;}#sk-container-id-1 div.sk-label input.sk-toggleable__control:checked~label.sk-toggleable__label {background-color: #d4ebff;}#sk-container-id-1 input.sk-hidden--visually {border: 0;clip: rect(1px 1px 1px 1px);clip: rect(1px, 1px, 1px, 1px);height: 1px;margin: -1px;overflow: hidden;padding: 0;position: absolute;width: 1px;}#sk-container-id-1 div.sk-estimator {font-family: monospace;background-color: #f0f8ff;border: 1px dotted black;border-radius: 0.25em;box-sizing: border-box;margin-bottom: 0.5em;}#sk-container-id-1 div.sk-estimator:hover {background-color: #d4ebff;}#sk-container-id-1 div.sk-parallel-item::after {content: \"\";width: 100%;border-bottom: 1px solid gray;flex-grow: 1;}#sk-container-id-1 div.sk-label:hover label.sk-toggleable__label {background-color: #d4ebff;}#sk-container-id-1 div.sk-serial::before {content: \"\";position: absolute;border-left: 1px solid gray;box-sizing: border-box;top: 0;bottom: 0;left: 50%;z-index: 0;}#sk-container-id-1 div.sk-serial {display: flex;flex-direction: column;align-items: center;background-color: white;padding-right: 0.2em;padding-left: 0.2em;position: relative;}#sk-container-id-1 div.sk-item {position: relative;z-index: 1;}#sk-container-id-1 div.sk-parallel {display: flex;align-items: stretch;justify-content: center;background-color: white;position: relative;}#sk-container-id-1 div.sk-item::before, #sk-container-id-1 div.sk-parallel-item::before {content: \"\";position: absolute;border-left: 1px solid gray;box-sizing: border-box;top: 0;bottom: 0;left: 50%;z-index: -1;}#sk-container-id-1 div.sk-parallel-item {display: flex;flex-direction: column;z-index: 1;position: relative;background-color: white;}#sk-container-id-1 div.sk-parallel-item:first-child::after {align-self: flex-end;width: 50%;}#sk-container-id-1 div.sk-parallel-item:last-child::after {align-self: flex-start;width: 50%;}#sk-container-id-1 div.sk-parallel-item:only-child::after {width: 0;}#sk-container-id-1 div.sk-dashed-wrapped {border: 1px dashed gray;margin: 0 0.4em 0.5em 0.4em;box-sizing: border-box;padding-bottom: 0.4em;background-color: white;}#sk-container-id-1 div.sk-label label {font-family: monospace;font-weight: bold;display: inline-block;line-height: 1.2em;}#sk-container-id-1 div.sk-label-container {text-align: center;}#sk-container-id-1 div.sk-container {/* jupyter's `normalize.less` sets `[hidden] { display: none; }` but bootstrap.min.css set `[hidden] { display: none !important; }` so we also need the `!important` here to be able to override the default hidden behavior on the sphinx rendered scikit-learn.org. See: https://github.com/scikit-learn/scikit-learn/issues/21755 */display: inline-block !important;position: relative;}#sk-container-id-1 div.sk-text-repr-fallback {display: none;}</style><div id=\"sk-container-id-1\" class=\"sk-top-container\"><div class=\"sk-text-repr-fallback\"><pre>LinearRegression()</pre><b>In a Jupyter environment, please rerun this cell to show the HTML representation or trust the notebook. <br />On GitHub, the HTML representation is unable to render, please try loading this page with nbviewer.org.</b></div><div class=\"sk-container\" hidden><div class=\"sk-item\"><div class=\"sk-estimator sk-toggleable\"><input class=\"sk-toggleable__control sk-hidden--visually\" id=\"sk-estimator-id-1\" type=\"checkbox\" checked><label for=\"sk-estimator-id-1\" class=\"sk-toggleable__label sk-toggleable__label-arrow\">LinearRegression</label><div class=\"sk-toggleable__content\"><pre>LinearRegression()</pre></div></div></div></div></div>"
      ],
      "text/plain": [
       "LinearRegression()"
      ]
     },
     "execution_count": 10,
     "metadata": {},
     "output_type": "execute_result"
    }
   ],
   "source": [
    "arc_witch = LinearRegression()\n",
    "arc_witch.fit(data_train, label_train)"
   ]
  },
  {
   "cell_type": "code",
   "execution_count": 11,
   "id": "6b99f50d",
   "metadata": {},
   "outputs": [],
   "source": [
    "viability_predicted = arc_witch.predict(data_test)"
   ]
  },
  {
   "cell_type": "code",
   "execution_count": 12,
   "id": "094d96d4",
   "metadata": {},
   "outputs": [
    {
     "name": "stdout",
     "output_type": "stream",
     "text": [
      "Mean squared error: 0.00\n",
      "Coefficient of determination: 1.00\n"
     ]
    },
    {
     "data": {
      "image/png": "[encoded data removed]",
      "text/plain": [
       "<Figure size 640x480 with 1 Axes>"
      ]
     },
     "metadata": {},
     "output_type": "display_data"
    }
   ],
   "source": [
    "# The coefficients\n",
    "# print(\"Coefficients: \\n\", arc_witch.coef_)\n",
    "# The mean squared error\n",
    "print(\"Mean squared error: %.2f\" % mean_squared_error(label_test, viability_predicted))\n",
    "# The coefficient of determination: 1 is perfect prediction\n",
    "print(\"Coefficient of determination: %.2f\" % r2_score(label_test, viability_predicted))\n",
    "\n",
    "# Visualisation\n",
    "plt.scatter(label_test, viability_predicted, color=\"blue\")\n",
    "plt.xticks(())\n",
    "plt.yticks(())\n",
    "plt.show()"
   ]
  }
 ],
 "metadata": {
  "kernelspec": {
   "display_name": "Python 3 (ipykernel)",
   "language": "python",
   "name": "python3"
  },
  "language_info": {
   "codemirror_mode": {
    "name": "ipython",
    "version": 3
   },
   "file_extension": ".py",
   "mimetype": "text/x-python",
   "name": "python",
   "nbconvert_exporter": "python",
   "pygments_lexer": "ipython3",
   "version": "3.9.15"
  }
 },
 "nbformat": 4,
 "nbformat_minor": 5
}
