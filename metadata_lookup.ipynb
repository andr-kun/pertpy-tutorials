{
 "cells": [
  {
   "cell_type": "code",
   "execution_count": 1,
   "id": "e9d81865",
   "metadata": {},
   "outputs": [
    {
     "name": "stderr",
     "output_type": "stream",
     "text": [
      "Global seed set to 0\n"
     ]
    },
    {
     "data": {
      "text/html": [
       "<pre style=\"white-space:pre;overflow-x:auto;line-height:normal;font-family:Menlo,'DejaVu Sans Mono',consolas,'Courier New',monospace\"><span style=\"color: #808000; text-decoration-color: #808000; font-weight: bold\">ryp2 is not installed. Install with </span><span style=\"color: #008000; text-decoration-color: #008000; font-weight: bold\">pip install rpy2 </span><span style=\"color: #808000; text-decoration-color: #808000; font-weight: bold\">to run tools with R support.</span>\n",
       "</pre>\n"
      ],
      "text/plain": [
       "\u001b[1;33mryp2 is not installed. Install with \u001b[0m\u001b[1;32mpip install rpy2 \u001b[0m\u001b[1;33mto run tools with R support.\u001b[0m\n"
      ]
     },
     "metadata": {},
     "output_type": "display_data"
    },
    {
     "data": {
      "text/html": [
       "<pre style=\"white-space:pre;overflow-x:auto;line-height:normal;font-family:Menlo,'DejaVu Sans Mono',consolas,'Courier New',monospace\"><span style=\"color: #808000; text-decoration-color: #808000; font-weight: bold\">To use sccoda or tasccoda please install ete3 with </span><span style=\"color: #008000; text-decoration-color: #008000; font-weight: bold\">pip install ete3</span>\n",
       "</pre>\n"
      ],
      "text/plain": [
       "\u001b[1;33mTo use sccoda or tasccoda please install ete3 with \u001b[0m\u001b[1;32mpip install ete3\u001b[0m\n"
      ]
     },
     "metadata": {},
     "output_type": "display_data"
    }
   ],
   "source": [
    "import pertpy as pt\n",
    "import scanpy as sc\n",
    "import pandas as pd"
   ]
  },
  {
   "attachments": {},
   "cell_type": "markdown",
   "id": "fe4a34ac",
   "metadata": {},
   "source": [
    "This notebook is mainly used to discore the CellLineMetaData.lookup function in pertpy. In general, the lookup object with following functions:\n",
    "- Summarize the metadata in the database, e.g. the number of cell lines, the number of genes/proteins measured\n",
    "- Give an overview of the possible reference_id (cell line identifiers in the metadata)\n",
    "- Given a list of unique query_id (cell line identifiers in the adata.obs) for the cell, return the number of matched identifiers in the metadata"
   ]
  },
  {
   "cell_type": "code",
   "execution_count": 2,
   "id": "theoretical-diameter",
   "metadata": {},
   "outputs": [
    {
     "data": {
      "text/plain": [
       "AnnData object with n_obs × n_vars = 5374 × 6329\n",
       "    obs: 'nCount_RNA', 'nFeature_RNA', 'cellQ', 'gender', 'location', 'clinical.status', 'cell.subtypes', 'pathology', 'origin', 'subset'\n",
       "    var: 'name'"
      ]
     },
     "execution_count": 2,
     "metadata": {},
     "output_type": "execute_result"
    }
   ],
   "source": [
    "# here we use two adata as example\n",
    "adata_dialogue = pt.dt.dialogue_example() \n",
    "adata_dialogue"
   ]
  },
  {
   "cell_type": "code",
   "execution_count": 3,
   "id": "b19b63ad",
   "metadata": {},
   "outputs": [],
   "source": [
    "adata_dialogue.obs['cell_line_name'] = 'MCF7'"
   ]
  },
  {
   "cell_type": "code",
   "execution_count": 4,
   "id": "d6511ef8",
   "metadata": {},
   "outputs": [
    {
     "data": {
      "text/plain": [
       "AnnData object with n_obs × n_vars = 182875 × 32738\n",
       "    obs: 'DepMap_ID', 'cancer', 'cell_det_rate', 'cell_line', 'cell_quality', 'channel', 'disease', 'dose_unit', 'dose_value', 'doublet_CL1', 'doublet_CL2', 'doublet_GMM_prob', 'doublet_dev_imp', 'doublet_z_margin', 'hash_assignment', 'hash_tag', 'num_SNPs', 'organism', 'percent.mito', 'perturbation', 'perturbation_type', 'sex', 'singlet_ID', 'singlet_dev', 'singlet_dev_z', 'singlet_margin', 'singlet_z_margin', 'time', 'tissue_type', 'tot_reads', 'nperts', 'ngenes', 'ncounts', 'percent_mito', 'percent_ribo', 'chembl-ID'\n",
       "    var: 'ensembl_id', 'ncounts', 'ncells'"
      ]
     },
     "execution_count": 4,
     "metadata": {},
     "output_type": "execute_result"
    }
   ],
   "source": [
    "adata_mc = pt.dt.mcfarland_2020()\n",
    "adata_mc"
   ]
  },
  {
   "cell_type": "code",
   "execution_count": 5,
   "id": "cardiac-precipitation",
   "metadata": {},
   "outputs": [],
   "source": [
    "# create the metadata object\n",
    "pt_metadata = pt.tl.CellLineMetaData()"
   ]
  },
  {
   "cell_type": "code",
   "execution_count": 6,
   "id": "b04428d7",
   "metadata": {},
   "outputs": [],
   "source": [
    "# In order to annotate cell line metadata, we can create a LookUp object specific for CellLineMetaData by calling lookup()\n",
    "# During initialisation, the object generates a namedtuple for each type of metadata.\n",
    "# It summarizes the available meta data for the specified source and the available reference id which we can use in the meta data\n",
    "cl_lookup = pt_metadata.lookup()"
   ]
  },
  {
   "cell_type": "code",
   "execution_count": 7,
   "id": "542cb36c",
   "metadata": {},
   "outputs": [
    {
     "data": {
      "text/plain": [
       "cell_lines(depmap=cell_line_annotation(n_cell_line=1840, cell_line=array(['ACH-000016', 'ACH-000032', 'ACH-000033', ..., 'ACH-002395',\n",
       "       'ACH-002396', 'ACH-002397'], dtype=object), n_metadata=29, metadata=array(['DepMap_ID', 'cell_line_name', 'stripped_cell_line_name',\n",
       "       'CCLE_Name', 'alias', 'COSMICID', 'sex', 'source', 'RRID',\n",
       "       'WTSI_Master_Cell_ID', 'sample_collection_site',\n",
       "       'primary_or_metastasis', 'primary_disease', 'Subtype', 'age',\n",
       "       'Sanger_Model_ID', 'depmap_public_comments', 'lineage',\n",
       "       'lineage_subtype', 'lineage_sub_subtype',\n",
       "       'lineage_molecular_subtype', 'default_growth_pattern',\n",
       "       'model_manipulation', 'model_manipulation_details', 'patient_id',\n",
       "       'parent_depmap_id', 'Cellosaurus_NCIt_disease',\n",
       "       'Cellosaurus_NCIt_id', 'Cellosaurus_issues'], dtype=object), reference_id=['DepMap_ID', 'cell_line_name', 'stripped_cell_line_name', 'CCLE_Name'], reference_id_example='DepMap_ID: ACH-000016 | cell_line_name: SLR 21 | stripped_cell_line_name: SLR21 | CCLE_Name: SLR21_KIDNEY', default_parameter={'cell_line_source': 'DepMap', 'query_id': 'DepMap_ID', 'reference_id': 'DepMap_ID', 'cell_line_information': 'None'}), cancerrxgene=cell_line_annotation(n_cell_line=978, cell_line=array(['22RV1', '2313287', '42MGBA', '451LU', '5637', '639V', '647V',\n",
       "       '697', '769P', '7860', '8305C', '8505C', '8MGBA', 'A101D', 'A172',\n",
       "       'A204', 'A2058', 'A253', 'A2780', 'A375', 'A388', 'A3KAW', 'A427',\n",
       "       'A431', 'A498', 'A4FUK', 'A549', 'A673', 'A704', 'ABC1', 'ACHN',\n",
       "       'AGS', 'ALLPO', 'ALLSIL', 'AM38', 'AMO1', 'AN3CA', 'ARH77', 'ASH3',\n",
       "       'ASPC1', 'ATN1', 'AU565', 'BALL1', 'BB30HNC', 'BB49HNC', 'BB65RCC',\n",
       "       'BC1', 'BC3', 'BCPAP', 'BE13', 'BE2M17', 'BECKER', 'BEN',\n",
       "       'BFTC905', 'BFTC909', 'BHT101', 'BHY', 'BICR10', 'BICR22',\n",
       "       'BICR31', 'BICR78', 'BL41', 'BONNA12', 'BPH1', 'BT20', 'BT474',\n",
       "       'BT483', 'BT549', 'BV173', 'BXPC3', 'C2BBE1', 'C32', 'C33A', 'C3A',\n",
       "       'C4I', 'CA46', 'CA922', 'CADOES1', 'CAKI1', 'CAL120', 'CAL12T',\n",
       "       'CAL148', 'CAL27', 'CAL29', 'CAL33', 'CAL39', 'CAL51', 'CAL54',\n",
       "       'CAL62', 'CAL72', 'CAL78', 'CAL851', 'CALU3', 'CALU6', 'CAMA1',\n",
       "       'CAOV3', 'CAOV4', 'CAPAN1', 'CAPAN2', 'CAR1', 'CAS1', 'CASKI',\n",
       "       'CCK81', 'CCRFCEM', 'CESS', 'CFPAC1', 'CGTHW1', 'CHAGOK1', 'CHL1',\n",
       "       'CHP126', 'CHP134', 'CHP212', 'CHSA0011', 'CHSA0108', 'CHSA8926',\n",
       "       'CL11', 'CMK', 'CMLT1', 'COLO205', 'COLO320HSR', 'COLO668',\n",
       "       'COLO678', 'COLO679', 'COLO680N', 'COLO684', 'COLO783', 'COLO792',\n",
       "       'COLO800', 'COLO824', 'COLO829', 'CORL105', 'CORL23', 'CORL279',\n",
       "       'CORL303', 'CORL311', 'CORL32', 'CORL321', 'CORL88', 'CORL95',\n",
       "       'CP50MELB', 'CP66MEL', 'CP67MEL', 'CPCN', 'CROAP2', 'CS1', 'CTB1',\n",
       "       'CTV1', 'CW2', 'D245MG', 'D247MG', 'D263MG', 'D283MED', 'D336MG',\n",
       "       'D392MG', 'D423MG', 'D502MG', 'D542MG', 'D566MG', 'DANG', 'DAOY',\n",
       "       'DAUDI', 'DB', 'DBTRG05MG', 'DEL', 'DETROIT562', 'DG75', 'DIFI',\n",
       "       'DJM1', 'DKMG', 'DMS114', 'DMS273', 'DMS53', 'DMS79', 'DND41',\n",
       "       'DOHH2', 'DOK', 'DOTC24510', 'DOV13', 'DSH1', 'DU145', 'DU4475',\n",
       "       'EB2', 'EB3', 'EBC1', 'ECC10', 'ECC12', 'ECGI10', 'EFM19',\n",
       "       'EFM192A', 'EFO21', 'EFO27', 'EHEB', 'EJM', 'EKVX', 'EM2',\n",
       "       'EMCBAC1', 'EMCBAC2', 'EN', 'EOL1CELL', 'EPLC272H', 'ES1', 'ES2',\n",
       "       'ES4', 'ES5', 'ES6', 'ES7', 'ES8', 'ESO26', 'ESO51', 'ESS1',\n",
       "       'ETK1', 'EVSAT', 'EW1', 'EW11', 'EW12', 'EW13', 'EW16', 'EW18',\n",
       "       'EW22', 'EW24', 'EW3', 'EW7', 'FADU', 'FARAGE', 'FLO1', 'FTC133',\n",
       "       'FU97', 'FUOV1', 'G292CLONEA141B1', 'G361', 'G401', 'G402', 'GA10',\n",
       "       'GAK', 'GAMG', 'GB1', 'GCIY', 'GCT', 'GDM1', 'GI1', 'GIMEN',\n",
       "       'GMEL', 'GOTO', 'GP5D', 'GRANTA519', 'GRST', 'H3255', 'H4', 'H9',\n",
       "       'HA7RCC', 'HAL01', 'HARA', 'HC1', 'HCC1143', 'HCC1187', 'HCC1395',\n",
       "       'HCC1419', 'HCC1428', 'HCC15', 'HCC1500', 'HCC1569', 'HCC1599',\n",
       "       'HCC1806', 'HCC1937', 'HCC1954', 'HCC202', 'HCC2157', 'HCC2218',\n",
       "       'HCC2998', 'HCC33', 'HCC366', 'HCC38', 'HCC44', 'HCC70', 'HCC78',\n",
       "       'HCC827', 'HCE4', 'HCT116', 'HCT15', 'HDLM2', 'HDQP1', 'HEC1',\n",
       "       'HEL', 'HELA', 'HEMCSS', 'HEP3B217', 'HEY', 'HGC27', 'HH', 'HL60',\n",
       "       'HLE', 'HMVII', 'HO1N1', 'HO1U1', 'HOP62', 'HOP92', 'HOS', 'HPAC',\n",
       "       'HPAFII', 'HS445', 'HS578T', 'HS633T', 'HS683', 'HS746T', 'HS766T',\n",
       "       'HS939T', 'HS940T', 'HSC2', 'HSC3', 'HSC39', 'HSC4', 'HT',\n",
       "       'HT1080', 'HT115', 'HT1197', 'HT1376', 'HT144', 'HT29', 'HT3',\n",
       "       'HT55', 'HTCC3', 'HUCCT1', 'HUH1', 'HUH7', 'HUO3N1', 'HUO9',\n",
       "       'HUPT3', 'HUPT4', 'HUTU80', 'IALM', 'IGR1', 'IGR37', 'IGROV1',\n",
       "       'IHH4', 'IM9', 'IM95', 'IMR5', 'IPC298', 'ISTMEL1', 'ISTMES1',\n",
       "       'ISTSL1', 'ISTSL2', 'J82', 'JAR', 'JEG3', 'JEKO1', 'JHH1', 'JHH2',\n",
       "       'JHH4', 'JHH6', 'JHH7', 'JHOS2', 'JHOS3', 'JHOS4', 'JHU011',\n",
       "       'JHU022', 'JHU029', 'JIMT1', 'JIYOYEP2003', 'JJN3', 'JM1', 'JSC1',\n",
       "       'JURKAT', 'JURLMK1', 'JVM2', 'JVM3', 'K2', 'K5', 'K562', 'KALS1',\n",
       "       'KARPAS1106P', 'KARPAS231', 'KARPAS299', 'KARPAS422', 'KARPAS45',\n",
       "       'KARPAS620', 'KASUMI1', 'KATOIII', 'KCL22', 'KE37', 'KELLY', 'KG1',\n",
       "       'KGN', 'KINGS1', 'KLE', 'KM12', 'KMH2', 'KMH2', 'KMOE2', 'KMRC1',\n",
       "       'KMRC20', 'KMS11', 'KMS12BM', 'KNS42', 'KNS62', 'KNS81FD', 'KON',\n",
       "       'KOPN8', 'KOSC2', 'KP1N', 'KP2', 'KP3', 'KP4', 'KPNRTBM1', 'KPNYN',\n",
       "       'KPNYS', 'KS1', 'KU1919', 'KU812', 'KURAMOCHI', 'KY821', 'KYAE1',\n",
       "       'KYM1', 'KYSE140', 'KYSE150', 'KYSE180', 'KYSE220', 'KYSE270',\n",
       "       'KYSE410', 'KYSE450', 'KYSE50', 'KYSE510', 'KYSE520', 'KYSE70',\n",
       "       'L1236', 'L363', 'L428', 'L540', 'LAMA84', 'LAN6', 'LB1047RCC',\n",
       "       'LB2241RCC', 'LB2518MEL', 'LB373MELD', 'LB647SCLC', 'LB771HNC',\n",
       "       'LB831BLC', 'LB996RCC', 'LC1SQ', 'LC2AD', 'LC41', 'LCLC103H',\n",
       "       'LCLC97TM1', 'LK2', 'LN18', 'LN229', 'LN405', 'LNCAPCLONEFGC',\n",
       "       'LNZTA3WT4', 'LOUCY', 'LOUNH91', 'LOVO', 'LOXIMVI', 'LP1',\n",
       "       'LS1034', 'LS123', 'LS180', 'LS411N', 'LS513', 'LU134A', 'LU135',\n",
       "       'LU139', 'LU165', 'LU65', 'LU99A', 'LXF289', 'M059J', 'M14',\n",
       "       'MC116', 'MCF7', 'MCIXC', 'MDAMB157', 'MDAMB175VII', 'MDAMB231',\n",
       "       'MDAMB330', 'MDAMB361', 'MDAMB415', 'MDAMB436', 'MDAMB453',\n",
       "       'MDAMB468', 'MDST8', 'ME1', 'ME180', 'MEG01', 'MELHO', 'MELJUSO',\n",
       "       'MESSA', 'MEWO', 'MFE280', 'MFE296', 'MFE319', 'MFHINO', 'MFM223',\n",
       "       'MG63', 'MHHCALL2', 'MHHCALL4', 'MHHES1', 'MHHNB11', 'MHHPREB1',\n",
       "       'MIAPACA2', 'MKN1', 'MKN28', 'MKN45', 'MKN7', 'ML1', 'ML2', 'MLMA',\n",
       "       'MM1S', 'MMACSF', 'MN60', 'MOGGCCM', 'MOGGUVW', 'MOLM13', 'MOLM16',\n",
       "       'MOLP8', 'MOLT13', 'MOLT16', 'MOLT4', 'MONOMAC6', 'MOT', 'MPP89',\n",
       "       'MRKNU1', 'MS1', 'MS751', 'MSTO211H', 'MV411', 'MYM12', 'MZ1PC',\n",
       "       'MZ2MEL', 'MZ7MEL', 'NALM6', 'NAMALWA', 'NB(TU)110', 'NB1', 'NB10',\n",
       "       'NB12', 'NB13', 'NB14', 'NB17', 'NB4', 'NB5', 'NB6', 'NB69', 'NB7',\n",
       "       'NCC010', 'NCC021', 'NCCIT', 'NCIH1048', 'NCIH1092', 'NCIH1105',\n",
       "       'NCIH1155', 'NCIH128', 'NCIH1299', 'NCIH1304', 'NCIH1341',\n",
       "       'NCIH1355', 'NCIH1435', 'NCIH1436', 'NCIH1437', 'NCIH146',\n",
       "       'NCIH1563', 'NCIH1568', 'NCIH1573', 'NCIH1581', 'NCIH1623',\n",
       "       'NCIH1648', 'NCIH1650', 'NCIH1651', 'NCIH1666', 'NCIH1688',\n",
       "       'NCIH1693', 'NCIH1694', 'NCIH1703', 'NCIH1734', 'NCIH1755',\n",
       "       'NCIH1770', 'NCIH1781', 'NCIH1792', 'NCIH1793', 'NCIH1836',\n",
       "       'NCIH1838', 'NCIH1869', 'NCIH187', 'NCIH1876', 'NCIH1915',\n",
       "       'NCIH1944', 'NCIH196', 'NCIH1963', 'NCIH1975', 'NCIH1993',\n",
       "       'NCIH2009', 'NCIH2023', 'NCIH2029', 'NCIH2030', 'NCIH2052',\n",
       "       'NCIH2066', 'NCIH2081', 'NCIH2085', 'NCIH2087', 'NCIH209',\n",
       "       'NCIH211', 'NCIH2110', 'NCIH2122', 'NCIH2135', 'NCIH2141',\n",
       "       'NCIH2170', 'NCIH2171', 'NCIH2172', 'NCIH2196', 'NCIH2227',\n",
       "       'NCIH2228', 'NCIH226', 'NCIH2291', 'NCIH23', 'NCIH2342',\n",
       "       'NCIH2347', 'NCIH2369', 'NCIH2373', 'NCIH2405', 'NCIH2444',\n",
       "       'NCIH2452', 'NCIH2461', 'NCIH250', 'NCIH2591', 'NCIH2595',\n",
       "       'NCIH2722', 'NCIH2731', 'NCIH2795', 'NCIH28', 'NCIH2803',\n",
       "       'NCIH2804', 'NCIH2810', 'NCIH2818', 'NCIH2869', 'NCIH290',\n",
       "       'NCIH292', 'NCIH3118', 'NCIH3122', 'NCIH322M', 'NCIH345',\n",
       "       'NCIH358', 'NCIH441', 'NCIH446', 'NCIH460', 'NCIH508', 'NCIH510A',\n",
       "       'NCIH513', 'NCIH520', 'NCIH522', 'NCIH524', 'NCIH526', 'NCIH596',\n",
       "       'NCIH64', 'NCIH647', 'NCIH650', 'NCIH660', 'NCIH661', 'NCIH69',\n",
       "       'NCIH716', 'NCIH720', 'NCIH727', 'NCIH740', 'NCIH747', 'NCIH748',\n",
       "       'NCIH810', 'NCIH82', 'NCIH835', 'NCIH838', 'NCIH841', 'NCIH847',\n",
       "       'NCIH929', 'NCIN87', 'NEC8', 'NH12', 'NK92MI', 'NKM1', 'NMCG1',\n",
       "       'NO10', 'NO11', 'NOMO1', 'NOS1', 'NTERA2CLD1', 'NUDUL1', 'NUGC3',\n",
       "       'NUGC4', 'NY', 'OACM51', 'OACP4C', 'OAW28', 'OAW42', 'OC314',\n",
       "       'OCIAML2', 'OCIAML3', 'OCIAML5', 'OCILY19', 'OCILY7', 'OCIM1',\n",
       "       'OCUBM', 'OCUM1', 'OE19', 'OE21', 'OE33', 'OMC1', 'ONS76', 'OPM2',\n",
       "       'OSC19', 'OSC20', 'OSRC2', 'OV17R', 'OV56', 'OV7', 'OV90',\n",
       "       'OVCA420', 'OVCA433', 'OVCAR3', 'OVCAR4', 'OVCAR5', 'OVCAR8',\n",
       "       'OVISE', 'OVK18', 'OVKATE', 'OVMIU', 'OVTOKO', 'P12ICHIKAWA',\n",
       "       'P30OHK', 'P31FUJ', 'P32ISH', 'PA1', 'PANC0203', 'PANC0327',\n",
       "       'PANC0403', 'PANC0813', 'PANC1005', 'PATU8902', 'PATU8988T',\n",
       "       'PC14', 'PC3', 'PC3_[JPC3]', 'PCI15A', 'PCI30', 'PCI38', 'PCI4B',\n",
       "       'PCI6A', 'PECAPJ15', 'PEO1', 'PF382', 'PFSK1', 'PL21', 'PL4',\n",
       "       'PSN1', 'PWR1E', 'QGP1', 'QIMRWIL', 'RAJI', 'RAMOS2G64C10',\n",
       "       'RCC10RGB', 'RCCAB', 'RCCER', 'RCCFG2', 'RCCJF', 'RCCJW', 'RCCMF',\n",
       "       'RCHACV', 'RCK8', 'RCM1', 'RD', 'REH', 'RERFGC1B', 'RERFLCKJ',\n",
       "       'RERFLCMS', 'RERFLCSQ1', 'RF48', 'RH1', 'RH18', 'RH41', 'RKN',\n",
       "       'RKO', 'RL', 'RL952', 'RMGI', 'RO82W1', 'ROS50', 'RPMI6666',\n",
       "       'RPMI7951', 'RPMI8226', 'RPMI8402', 'RPMI8866', 'RS411', 'RT112',\n",
       "       'RT4', 'RVH421', 'RXF393', 'SAOS2', 'SAS', 'SAT', 'SBC1', 'SBC3',\n",
       "       'SBC5', 'SC1', 'SCC15', 'SCC25', 'SCC3', 'SCC4', 'SCC9', 'SCC90',\n",
       "       'SCH', 'SF126', 'SF268', 'SF295', 'SF539', 'SH4', 'SHP77', 'SIGM5',\n",
       "       'SIHA', 'SIMA', 'SISO', 'SJRH30', 'SJSA1', 'SKCO1', 'SKES1',\n",
       "       'SKGIIIA', 'SKGT2', 'SKGT4', 'SKHEP1', 'SKLMS1', 'SKLU1', 'SKM1',\n",
       "       'SKMEL1', 'SKMEL2', 'SKMEL24', 'SKMEL28', 'SKMEL3', 'SKMEL30',\n",
       "       'SKMEL31', 'SKMEL5', 'SKMES1', 'SKMG1', 'SKMM2', 'SKN', 'SKN3',\n",
       "       'SKNAS', 'SKNDZ', 'SKNFI', 'SKNSH', 'SKOV3', 'SKPNDW', 'SKUT1',\n",
       "       'SLVL', 'SN12C', 'SNB75', 'SNGM', 'SNU1', 'SNU1040', 'SNU16',\n",
       "       'SNU175', 'SNU283', 'SNU387', 'SNU398', 'SNU407', 'SNU423',\n",
       "       'SNU449', 'SNU475', 'SNU5', 'SNU61', 'SNU81', 'SNUC1', 'SNUC2B',\n",
       "       'SNUC5', 'SR', 'ST486', 'STS0421', 'SU8686', 'SUDHL1', 'SUDHL10',\n",
       "       'SUDHL16', 'SUDHL4', 'SUDHL5', 'SUDHL6', 'SUDHL8', 'SUIT2',\n",
       "       'SUPB15', 'SUPB8', 'SUPHD1', 'SUPM2', 'SUPT1', 'SW1088', 'SW1116',\n",
       "       'SW1271', 'SW13', 'SW1417', 'SW1463', 'SW156', 'SW1573', 'SW1710',\n",
       "       'SW1783', 'SW1990', 'SW48', 'SW620', 'SW626', 'SW684', 'SW756',\n",
       "       'SW780', 'SW837', 'SW872', 'SW948', 'SW954', 'SW962', 'SW982',\n",
       "       'T24', 'T47D', 'T84', 'T98G', 'TALL1', 'TC71', 'TCCSUP', 'TCYIK',\n",
       "       'TE1', 'TE10', 'TE11', 'TE12', 'TE15', 'TE4', 'TE441T', 'TE5',\n",
       "       'TE6', 'TE8', 'TE9', 'TGBC11TKB', 'TGBC1TKB', 'TGBC24TKB', 'TGW',\n",
       "       'THP1', 'TK', 'TK10', 'TMK1', 'TOV112D', 'TOV21G', 'TT', 'TT',\n",
       "       'TT2609C02', 'TUR', 'TYKNU', 'U031', 'U118MG', 'U251', 'U266',\n",
       "       'U2OS', 'U698M', 'U87MG', 'UACC257', 'UACC62', 'UACC812',\n",
       "       'UACC893', 'UCH2', 'UMC11', 'UMUC3', 'UWB1289', 'VAESBJ', 'VAL',\n",
       "       'VCAP', 'VMRCLCD', 'VMRCMELG', 'VMRCRCW', 'VMRCRCZ', 'WIL2NS',\n",
       "       'WM115', 'WM1552C', 'WM278', 'WM35', 'WM793B', 'WSUDLCL2',\n",
       "       'WSUNHL', 'YAPC', 'YH13', 'YKG1', 'YMB1E', 'YT', 'ZR7530'],\n",
       "      dtype=object), n_metadata=9, metadata=array(['stripped_cell_line_name', 'Tissue sub-type', 'Tissue', 'Model ID',\n",
       "       'cell_line_name', 'COSMIC ID', 'TCGA Classfication', 'GDSC1',\n",
       "       'GDSC2'], dtype=object), reference_id=['cell_line_name', 'stripped_cell_line_name', 'Model ID', 'COSMIC ID'], reference_id_example='cell_line_name: SNU-283 | stripped_cell_line_name: SNU283 | Model ID: SIDM00215 | COSMIC ID: 1659929', default_parameter={'query_id': 'stripped_cell_line_name', 'reference_id': 'stripped_cell_line_name', 'cell_line_information': 'None'}))"
      ]
     },
     "execution_count": 7,
     "metadata": {},
     "output_type": "execute_result"
    }
   ],
   "source": [
    "# For cell line annotation\n",
    "cl_lookup.cell_lines"
   ]
  },
  {
   "cell_type": "code",
   "execution_count": 8,
   "id": "48b47079",
   "metadata": {},
   "outputs": [
    {
     "data": {
      "text/plain": [
       "cell_line_annotation(n_cell_line=1840, cell_line=array(['ACH-000016', 'ACH-000032', 'ACH-000033', ..., 'ACH-002395',\n",
       "       'ACH-002396', 'ACH-002397'], dtype=object), n_metadata=29, metadata=array(['DepMap_ID', 'cell_line_name', 'stripped_cell_line_name',\n",
       "       'CCLE_Name', 'alias', 'COSMICID', 'sex', 'source', 'RRID',\n",
       "       'WTSI_Master_Cell_ID', 'sample_collection_site',\n",
       "       'primary_or_metastasis', 'primary_disease', 'Subtype', 'age',\n",
       "       'Sanger_Model_ID', 'depmap_public_comments', 'lineage',\n",
       "       'lineage_subtype', 'lineage_sub_subtype',\n",
       "       'lineage_molecular_subtype', 'default_growth_pattern',\n",
       "       'model_manipulation', 'model_manipulation_details', 'patient_id',\n",
       "       'parent_depmap_id', 'Cellosaurus_NCIt_disease',\n",
       "       'Cellosaurus_NCIt_id', 'Cellosaurus_issues'], dtype=object), reference_id=['DepMap_ID', 'cell_line_name', 'stripped_cell_line_name', 'CCLE_Name'], reference_id_example='DepMap_ID: ACH-000016 | cell_line_name: SLR 21 | stripped_cell_line_name: SLR21 | CCLE_Name: SLR21_KIDNEY', default_parameter={'cell_line_source': 'DepMap', 'query_id': 'DepMap_ID', 'reference_id': 'DepMap_ID', 'cell_line_information': 'None'})"
      ]
     },
     "execution_count": 8,
     "metadata": {},
     "output_type": "execute_result"
    }
   ],
   "source": [
    "# Since there are two different cell lines, cl_lookup.cell_lines contains both depmap and cancerrxgene\n",
    "cl_lookup.cell_lines.depmap"
   ]
  },
  {
   "cell_type": "code",
   "execution_count": 9,
   "id": "d967ae21",
   "metadata": {},
   "outputs": [
    {
     "data": {
      "text/plain": [
       "1840"
      ]
     },
     "execution_count": 9,
     "metadata": {},
     "output_type": "execute_result"
    }
   ],
   "source": [
    "# use dot accessor \n",
    "cl_lookup.cell_lines.depmap.n_cell_line"
   ]
  },
  {
   "cell_type": "code",
   "execution_count": 10,
   "id": "5dcdb504",
   "metadata": {},
   "outputs": [
    {
     "data": {
      "text/plain": [
       "29"
      ]
     },
     "execution_count": 10,
     "metadata": {},
     "output_type": "execute_result"
    }
   ],
   "source": [
    "cl_lookup.cell_lines.depmap.n_metadata"
   ]
  },
  {
   "cell_type": "code",
   "execution_count": 11,
   "id": "387825be",
   "metadata": {},
   "outputs": [
    {
     "data": {
      "text/plain": [
       "978"
      ]
     },
     "execution_count": 11,
     "metadata": {},
     "output_type": "execute_result"
    }
   ],
   "source": [
    "cl_lookup.cell_lines.cancerrxgene.n_cell_line"
   ]
  },
  {
   "cell_type": "code",
   "execution_count": 12,
   "id": "50c3d68b",
   "metadata": {},
   "outputs": [
    {
     "data": {
      "text/plain": [
       "['cell_line_name', 'stripped_cell_line_name', 'Model ID', 'COSMIC ID']"
      ]
     },
     "execution_count": 12,
     "metadata": {},
     "output_type": "execute_result"
    }
   ],
   "source": [
    "cl_lookup.cell_lines.cancerrxgene.reference_id"
   ]
  },
  {
   "cell_type": "code",
   "execution_count": 13,
   "id": "7ecc2798",
   "metadata": {},
   "outputs": [
    {
     "data": {
      "text/plain": [
       "'cell_line_name: SNU-283 | stripped_cell_line_name: SNU283 | Model ID: SIDM00215 | COSMIC ID: 1659929'"
      ]
     },
     "execution_count": 13,
     "metadata": {},
     "output_type": "execute_result"
    }
   ],
   "source": [
    "cl_lookup.cell_lines.cancerrxgene.reference_id_example"
   ]
  },
  {
   "cell_type": "code",
   "execution_count": 14,
   "id": "4337c2d1",
   "metadata": {},
   "outputs": [
    {
     "data": {
      "text/plain": [
       "{'cell_line_source': 'DepMap',\n",
       " 'query_id': 'DepMap_ID',\n",
       " 'reference_id': 'DepMap_ID',\n",
       " 'cell_line_information': 'None'}"
      ]
     },
     "execution_count": 14,
     "metadata": {},
     "output_type": "execute_result"
    }
   ],
   "source": [
    "cl_lookup.cell_lines.depmap.default_parameter"
   ]
  },
  {
   "cell_type": "code",
   "execution_count": 15,
   "id": "9979c151",
   "metadata": {},
   "outputs": [
    {
     "data": {
      "text/html": [
       "<pre style=\"white-space:pre;overflow-x:auto;line-height:normal;font-family:Menlo,'DejaVu Sans Mono',consolas,'Courier New',monospace\"><span style=\"color: #008080; text-decoration-color: #008080; font-weight: bold\">0</span> cell lines are not found in the metadata.\n",
       "</pre>\n"
      ],
      "text/plain": [
       "\u001b[1;36m0\u001b[0m cell lines are not found in the metadata.\n"
      ]
     },
     "metadata": {},
     "output_type": "display_data"
    },
    {
     "data": {
      "text/html": [
       "<pre style=\"white-space:pre;overflow-x:auto;line-height:normal;font-family:Menlo,'DejaVu Sans Mono',consolas,'Courier New',monospace\"><span style=\"color: #008080; text-decoration-color: #008080; font-weight: bold\">1</span> cell lines are found! \n",
       "</pre>\n"
      ],
      "text/plain": [
       "\u001b[1;36m1\u001b[0m cell lines are found! \n"
      ]
     },
     "metadata": {},
     "output_type": "display_data"
    }
   ],
   "source": [
    "# As default, the function is named after available_{metadata}. \n",
    "# you can also give a list of unique query ids to test how many cell lines are matched in the metad data\n",
    "# Sometimes the result is different depending on the identifier and the source of cell line annotation you choose\n",
    "cl_lookup.available_cell_lines(query_id_list=adata_dialogue.obs['cell_line_name'].unique(), reference_id=\"cell_line_name\") # Default reference_id is DepMap_ID"
   ]
  },
  {
   "cell_type": "code",
   "execution_count": 16,
   "id": "cabdafb8",
   "metadata": {},
   "outputs": [
    {
     "data": {
      "text/html": [
       "<pre style=\"white-space:pre;overflow-x:auto;line-height:normal;font-family:Menlo,'DejaVu Sans Mono',consolas,'Courier New',monospace\"><span style=\"color: #008080; text-decoration-color: #008080; font-weight: bold\">0</span> cell lines are not found in the metadata.\n",
       "</pre>\n"
      ],
      "text/plain": [
       "\u001b[1;36m0\u001b[0m cell lines are not found in the metadata.\n"
      ]
     },
     "metadata": {},
     "output_type": "display_data"
    },
    {
     "data": {
      "text/html": [
       "<pre style=\"white-space:pre;overflow-x:auto;line-height:normal;font-family:Menlo,'DejaVu Sans Mono',consolas,'Courier New',monospace\"><span style=\"color: #008080; text-decoration-color: #008080; font-weight: bold\">209</span> cell lines are found! \n",
       "</pre>\n"
      ],
      "text/plain": [
       "\u001b[1;36m209\u001b[0m cell lines are found! \n"
      ]
     },
     "metadata": {},
     "output_type": "display_data"
    }
   ],
   "source": [
    "cl_lookup.available_cell_lines(query_id_list=adata_mc.obs['DepMap_ID'].unique())"
   ]
  },
  {
   "cell_type": "code",
   "execution_count": 17,
   "id": "d215a724",
   "metadata": {},
   "outputs": [
    {
     "data": {
      "text/html": [
       "<pre style=\"white-space:pre;overflow-x:auto;line-height:normal;font-family:Menlo,'DejaVu Sans Mono',consolas,'Courier New',monospace\"><span style=\"color: #008080; text-decoration-color: #008080; font-weight: bold\">209</span> cell lines are not found in the metadata.\n",
       "</pre>\n"
      ],
      "text/plain": [
       "\u001b[1;36m209\u001b[0m cell lines are not found in the metadata.\n"
      ]
     },
     "metadata": {},
     "output_type": "display_data"
    },
    {
     "data": {
      "text/html": [
       "<pre style=\"white-space:pre;overflow-x:auto;line-height:normal;font-family:Menlo,'DejaVu Sans Mono',consolas,'Courier New',monospace\"><span style=\"color: #008080; text-decoration-color: #008080; font-weight: bold\">0</span> cell lines are found! \n",
       "</pre>\n"
      ],
      "text/plain": [
       "\u001b[1;36m0\u001b[0m cell lines are found! \n"
      ]
     },
     "metadata": {},
     "output_type": "display_data"
    }
   ],
   "source": [
    "# DepMap_ID is not available for Cancerrxgene, stripped_cell_line_name is used as default\n",
    "cl_lookup.available_cell_lines(query_id_list=adata_mc.obs['DepMap_ID'].unique(), cell_line_source=\"Cancerrxgene\")"
   ]
  },
  {
   "cell_type": "code",
   "execution_count": 18,
   "id": "c0e098c5",
   "metadata": {},
   "outputs": [
    {
     "data": {
      "text/plain": [
       "bulk_rna_expression(broad=bulk_rna_annotation(n_cell_line=1406, cell_line=array(['ACH-001113', 'ACH-001289', 'ACH-001339', ..., 'ACH-001858',\n",
       "       'ACH-001997', 'ACH-000052'], dtype=object), n_gene=53970, gene=array(['TSPAN6 (ENSG00000000003)', 'TNMD (ENSG00000000005)',\n",
       "       'DPM1 (ENSG00000000419)', ..., 'ENSG00000288723',\n",
       "       'ENSG00000288724', 'ENSG00000288725'], dtype=object), reference_id='DepMap_ID', reference_id_example='DepMap_ID: ACH-001113', default_parameter={'query_id': 'DepMap_ID', 'cell_line_source': 'broad'}), sanger=bulk_rna_annotation(n_cell_line=1431, cell_line=array(['MEC-1', 'NBsusSR', 'M14', ..., 'HCM-SANG-1095-C25',\n",
       "       'HCM-SANG-1336-C15', 'HCM-SANG-1308-C25'], dtype=object), n_gene=37602, gene=array(['A1BG', 'A1BG-AS1', 'A1CF', ..., 'RSKR', 'SHLD3', 'ATP6V1FNB'],\n",
       "      dtype=object), reference_id='model_name', reference_id_example='model_name: MEC-1', default_parameter={'query_id': 'cell_line_name', 'cell_line_source': 'sanger'}))"
      ]
     },
     "execution_count": 18,
     "metadata": {},
     "output_type": "execute_result"
    }
   ],
   "source": [
    "# We can do the same for the bulk RNA expression annotation, which contains both Broad and Sanger cell line\n",
    "cl_lookup.bulk_rna"
   ]
  },
  {
   "cell_type": "code",
   "execution_count": 19,
   "id": "d3a20274",
   "metadata": {},
   "outputs": [
    {
     "data": {
      "text/plain": [
       "1406"
      ]
     },
     "execution_count": 19,
     "metadata": {},
     "output_type": "execute_result"
    }
   ],
   "source": [
    "cl_lookup.bulk_rna.broad.n_cell_line"
   ]
  },
  {
   "cell_type": "code",
   "execution_count": 20,
   "id": "a29aec74",
   "metadata": {},
   "outputs": [
    {
     "data": {
      "text/plain": [
       "1431"
      ]
     },
     "execution_count": 20,
     "metadata": {},
     "output_type": "execute_result"
    }
   ],
   "source": [
    "cl_lookup.bulk_rna.sanger.n_cell_line"
   ]
  },
  {
   "cell_type": "code",
   "execution_count": 21,
   "id": "81274fe1",
   "metadata": {},
   "outputs": [
    {
     "data": {
      "text/html": [
       "<pre style=\"white-space:pre;overflow-x:auto;line-height:normal;font-family:Menlo,'DejaVu Sans Mono',consolas,'Courier New',monospace\"><span style=\"color: #008080; text-decoration-color: #008080; font-weight: bold\">1</span> cell lines are not found in the metadata.\n",
       "</pre>\n"
      ],
      "text/plain": [
       "\u001b[1;36m1\u001b[0m cell lines are not found in the metadata.\n"
      ]
     },
     "metadata": {},
     "output_type": "display_data"
    },
    {
     "data": {
      "text/html": [
       "<pre style=\"white-space:pre;overflow-x:auto;line-height:normal;font-family:Menlo,'DejaVu Sans Mono',consolas,'Courier New',monospace\"><span style=\"color: #008080; text-decoration-color: #008080; font-weight: bold\">0</span> cell lines are found! \n",
       "</pre>\n"
      ],
      "text/plain": [
       "\u001b[1;36m0\u001b[0m cell lines are found! \n"
      ]
     },
     "metadata": {},
     "output_type": "display_data"
    }
   ],
   "source": [
    "cl_lookup.available_bulk_rna_expression(cell_line_source = \"broad\", query_id_list = adata_dialogue.obs['cell_line_name'].unique())"
   ]
  },
  {
   "cell_type": "code",
   "execution_count": 22,
   "id": "bfcb5a95",
   "metadata": {},
   "outputs": [
    {
     "data": {
      "text/html": [
       "<pre style=\"white-space:pre;overflow-x:auto;line-height:normal;font-family:Menlo,'DejaVu Sans Mono',consolas,'Courier New',monospace\"><span style=\"color: #008080; text-decoration-color: #008080; font-weight: bold\">0</span> cell lines are not found in the metadata.\n",
       "</pre>\n"
      ],
      "text/plain": [
       "\u001b[1;36m0\u001b[0m cell lines are not found in the metadata.\n"
      ]
     },
     "metadata": {},
     "output_type": "display_data"
    },
    {
     "data": {
      "text/html": [
       "<pre style=\"white-space:pre;overflow-x:auto;line-height:normal;font-family:Menlo,'DejaVu Sans Mono',consolas,'Courier New',monospace\"><span style=\"color: #008080; text-decoration-color: #008080; font-weight: bold\">1</span> cell lines are found! \n",
       "</pre>\n"
      ],
      "text/plain": [
       "\u001b[1;36m1\u001b[0m cell lines are found! \n"
      ]
     },
     "metadata": {},
     "output_type": "display_data"
    }
   ],
   "source": [
    "cl_lookup.available_bulk_rna_expression(cell_line_source = \"sanger\",\n",
    "                                       query_id_list = adata_dialogue.obs['cell_line_name'].unique())"
   ]
  },
  {
   "cell_type": "code",
   "execution_count": 23,
   "id": "d976610e",
   "metadata": {},
   "outputs": [
    {
     "data": {
      "text/html": [
       "<pre style=\"white-space:pre;overflow-x:auto;line-height:normal;font-family:Menlo,'DejaVu Sans Mono',consolas,'Courier New',monospace\"><span style=\"color: #008080; text-decoration-color: #008080; font-weight: bold\">1</span> cell lines are not found in the metadata.\n",
       "</pre>\n"
      ],
      "text/plain": [
       "\u001b[1;36m1\u001b[0m cell lines are not found in the metadata.\n"
      ]
     },
     "metadata": {},
     "output_type": "display_data"
    },
    {
     "data": {
      "text/html": [
       "<pre style=\"white-space:pre;overflow-x:auto;line-height:normal;font-family:Menlo,'DejaVu Sans Mono',consolas,'Courier New',monospace\"><span style=\"color: #008080; text-decoration-color: #008080; font-weight: bold\">208</span> cell lines are found! \n",
       "</pre>\n"
      ],
      "text/plain": [
       "\u001b[1;36m208\u001b[0m cell lines are found! \n"
      ]
     },
     "metadata": {},
     "output_type": "display_data"
    }
   ],
   "source": [
    "# For another dataset\n",
    "# If we can not find matched cell lines in the meta data, we can try to annotate cell line metadata though annotate_cell_line to see whether we can get more possible cell line identifiers\n",
    "# In this notebook we only focus on lookup function, so we dont call annotate_cell_line\n",
    "cl_lookup.available_bulk_rna_expression(cell_line_source = \"broad\", query_id_list = adata_mc.obs['DepMap_ID'].unique())"
   ]
  },
  {
   "cell_type": "code",
   "execution_count": 24,
   "id": "ecd2ec62",
   "metadata": {},
   "outputs": [
    {
     "data": {
      "text/plain": [
       "proteomics(n_cell_line=948, cell_line=array(['SK-GT-4', 'JM1', 'GR-ST', 'HeLa', 'CML-T1', 'SW954', 'LB771-HNC',\n",
       "       'huH-1', 'NCCIT', 'Raji', 'KMS-12-BM', 'STS-0421', 'MZ2-MEL',\n",
       "       'NCI-H1435', 'NCI-H1573', 'RF-48', 'U-266', 'MOLT-16', 'DND-41',\n",
       "       'FTC-133', 'PCI-4B', 'HSC-39', 'HLE', 'SK-MEL-2', 'SF539',\n",
       "       'NCI-H2722', 'NCI-H2591', 'UACC-62', 'UACC-257', 'NCI-H522',\n",
       "       '786-0', 'JHU-011', 'HOP-92', 'HT-29', 'NCI-H3122', 'NCI-H226',\n",
       "       'COLO-792', 'COLO-684', 'NCI-H460', 'MCF7', 'CP50-MEL-B',\n",
       "       'LB373-MEL-D', 'LB1047-RCC', 'CP66-MEL', 'EW-16', 'EW-12',\n",
       "       'D-542MG', 'ALL-PO', 'CAS-1', 'SNU-407', 'OC-314', 'GI-ME-N',\n",
       "       'OCUB-M', 'NOS-1', 'NEC8', 'NB69', 'MS-1', 'NB5', 'ES8',\n",
       "       'TGBC24TKB', 'MDA-MB-453', 'EoL-1-cell', 'CTB-1', 'HMV-II',\n",
       "       'LU-165', 'JHOS-4', 'KU812', 'L-363', 'VMRC-RCZ', 'VMRC-LCD',\n",
       "       'MFE-296', 'MFE-280', 'MEL-JUSO', 'ME-1', 'LAMA-84', 'SAT', 'SAS',\n",
       "       'QGP-1', 'SKN-3', 'SKG-IIIa', 'SCH', 'SK-MEL-30', 'SK-GT-2',\n",
       "       'SIMA', 'SCC90', 'YAPC', 'SW1710', 'NB4', 'ML-2', 'OCI-AML2',\n",
       "       'RCH-ACV', 'OCI-LY-19', 'OCI-AML5', 'OVKATE', 'QIMR-WIL', 'PSN1',\n",
       "       'PE-CA-PJ15', 'OV-7', 'TT', 'EBC-1', 'CCK-81', 'Ca9-22', 'ASH-3',\n",
       "       '22RV1', 'BICR78', 'FU97', 'COR-L311', 'COR-L23', 'NCI-H3118',\n",
       "       'DMS-53', 'MOG-G-CCM', 'GP5d', 'ESO26', 'KS-1', 'MKN7', 'OVISE',\n",
       "       'OSC-20', 'no-11', 'NH-12', 'NB(TU)1-10', 'HEL', 'HEC-1', 'IHH-4',\n",
       "       'KNS-42', 'JHH-6', 'MES-SA', 'MDA-MB-468', 'MS751', 'MSTO-211H',\n",
       "       'NCI-H1355', 'NCI-H1155', 'MV-4-11', 'LS-411N', 'Hs-746T',\n",
       "       'Hs-445', 'HT-1376', 'HT-3', 'LS1034', 'JHU-029', 'NCI-H2135',\n",
       "       'NCI-H2122', 'NCI-H2087', 'NCI-H2030', 'NCI-H2347', 'NCI-H2342',\n",
       "       'NCI-H2228', 'NCI-H1651', 'NCI-H1648', 'NCI-H1623', 'NCI-H1975',\n",
       "       'NCI-H1838', 'NCI-H1792', 'LS-123', 'NCI-H716', 'KG-1', 'HCT-15',\n",
       "       'NCI-H1688', 'A375', 'A2058', 'SW1417', 'SW13', 'RCC-ER', 'SW837',\n",
       "       'SW1463', 'GCT', 'G-361', 'HCC1143', 'HCC1569', 'BT-483', 'BC-1',\n",
       "       'A549', 'Caov-4', 'CAMA-1', 'ChaGo-K-1', 'NCI-H510A', 'CAL-62',\n",
       "       'CAL-51', 'CAPAN-1', 'CAL-148', 'CAL-12T', 'CAL-33', 'COLO-783',\n",
       "       'COLO-680N', 'ZR-75-30', 'WM278', 'WM1552C', '23132-87', 'BL-41',\n",
       "       'BHY', 'BEN', 'B-CPAP', 'ALL-SIL', 'WM-115', 'JURL-MK1',\n",
       "       'KYSE-520', 'KYSE-510', 'KYSE-180', 'KYSE-150', 'FLO-1',\n",
       "       'EPLC-272H', 'EFM-19', 'IGR-1', 'HCC-15', 'HC-1', 'VCaP', 'SCC-9',\n",
       "       'SCC-4', 'SCC-15', 'RPMI-7951', 'SK-N-SH', 'SK-N-AS', 'NCI-H727',\n",
       "       'NCI-H69', 'NCI-H660', 'NCI-H647', 'PANC-03-27', 'PANC-02-03',\n",
       "       'OV-90', 'NCI-H838', 'SW1271', 'SW872', 'SW684', 'UMC-11',\n",
       "       'UACC-812', 'SU8686', 'SNU-449', 'LU-99A', 'C3A', 'MM1S',\n",
       "       'OVCAR-3', 'P32-ISH', 'Hs-633T', 'RL95-2', 'DiFi', 'NB13',\n",
       "       'MFH-ino', 'VMRC-RCW', 'GOTO', 'KY821', 'NCI-H146', 'COLO-824',\n",
       "       'NCI-H526', 'SUP-B8', 'MY-M12', 'K052', 'TE-12', 'HCE-4', 'SR',\n",
       "       'T47D', 'NCI-H2373', 'NCI-H2369', 'NCI-H513', 'HCC2998',\n",
       "       'CCRF-CEM', 'K2', 'MOLT-4', 'LB2518-MEL', 'BB65-RCC', 'EW-22',\n",
       "       'EW-18', 'EW-1', 'IST-SL1', 'NB6', 'NB17', 'NB14', 'ES1', 'ES7',\n",
       "       'GI-1', 'ECC12', 'ECC10', 'CHP-126', 'BALL-1', 'LU-135',\n",
       "       'LU-134-A', 'NCI-H2804', 'L-1236', 'TK', 'L-428', 'LAN-6',\n",
       "       'MFM-223', 'LP-1', 'LOUCY', 'P30-OHK', 'SBC-1', 'SBC-3', 'TALL-1',\n",
       "       'MHH-CALL-4', 'SKM-1', 'MHH-PREB-1', 'SU-DHL-10', 'RVH-421',\n",
       "       'RPMI-8402', 'SU-DHL-16', 'SU-DHL-6', 'WSU-DLCL2', 'VAL',\n",
       "       'TT2609-C02', 'TC-71', 'SUP-HD1', 'SU-DHL-8', 'U-698-M', 'RH-1',\n",
       "       'NALM-6', 'MOLT-13', 'MOLM-16', 'OACp4C', 'PF-382', 'PA-TU-8988T',\n",
       "       'OCI-M1', 'OCI-LY7', 'P12-ICHIKAWA', 'MOG-G-UVW', 'COR-L88',\n",
       "       'COR-L321', 'COR-L32', 'COLO-800', 'COR-L95', 'DMS-273', 'DMS-79',\n",
       "       'MEG-01', 'MDA-MB-157', 'H-EMC-SS', 'LK-2', 'KYSE-50', 'KP-N-YN',\n",
       "       'KP-N-RT-BM-1', 'NY', 'NB1', 'KMS-11', 'KMH-2', 'EW-13',\n",
       "       'MDA-MB-436', 'MDA-MB-415', 'IM-9', 'MC116', 'NAMALWA',\n",
       "       'NCI-H1304', 'NCI-H1105', 'Hs-939-T', 'HuTu-80', 'NCI-H1436',\n",
       "       'NCI-H211', 'NCI-H209', 'NCI-H2081', 'NCI-H250', 'NCI-H2405',\n",
       "       'NCI-H2227', 'NCI-H1437', 'NCI-H1770', 'NCI-H1734', 'NCI-H1694',\n",
       "       'NCI-H1693', 'NCI-H1781', 'NCI-H1993', 'NCI-H1963', 'NCI-H1915',\n",
       "       'NCI-H1876', 'HCT-116', 'EB-3', '769-P', 'JiyoyeP-2003',\n",
       "       'RPMI-6666', 'COLO-320-HSR', 'A673', 'GA-10', 'G-292-Clone-A141B1',\n",
       "       'Farage', 'ES-2', 'DMS-114', 'HCC1428', 'HCC1395', 'HCC1187',\n",
       "       'BC-3', 'CA46', 'CHP-212', 'NCI-H441', 'CAL-78', 'CAL-54', 'CL-11',\n",
       "       'DEL', 'CTV-1', 'CPC-N', 'CADO-ES1', 'BT-474', 'AMO-1', '8505C',\n",
       "       'KE-37', 'KCL-22', 'KASUMI-1', 'KARPAS-45', 'KARPAS-422', 'KELLY',\n",
       "       'KARPAS-1106P', 'JVM-2', 'Jurkat', 'KM-H2', 'KMOE-2', 'KOPN-8',\n",
       "       'JIMT-1', 'JEKO-1', 'GRANTA-519', 'IPC-298', 'HCC-33', 'RS4-11',\n",
       "       'RKO', 'SiHa', 'SK-N-FI', 'SK-N-DZ', 'WIL2-NS', 'SK-MES-1',\n",
       "       'SK-ES-1', 'NCI-H748', 'NCI-H720', 'NCI-H650', 'NCI-H64',\n",
       "       'NCI-H524', 'NCI-H520', 'NCI-H929', 'SUP-T1', 'TOV-112D',\n",
       "       'UM-UC-3', 'T24', 'UACC-893', 'IMR-5', 'CHL-1', 'BE2-M17',\n",
       "       'MMAc-SF', 'MC-IXC', 'Ramos-2G6-4C10', 'CGTH-W-1', 'H9', 'YMB-1-E',\n",
       "       'PL4', 'H3255', 'EMC-BAC-2', 'CHSA0108', 'CHSA0011', 'K5',\n",
       "       'SK-OV-3', 'SK-MEL-5', 'SK-MEL-28', 'SF295', 'OVCAR-8', 'OVCAR-5',\n",
       "       'OVCAR-4', 'SN12C', 'U251', 'U031', 'PCI-6A', 'EKVX', 'DU-145',\n",
       "       'BT-549', 'ACHN', 'A498', 'G-MEL', 'CFPAC-1', 'BxPC-3', 'HOP-62',\n",
       "       'MDA-MB-231', 'KM12', 'NB7', 'CHSA8926', 'LB831-BLC', 'HA7-RCC',\n",
       "       'SNU-61', 'CS1', 'D-566MG', 'D-423MG', 'RO82-W-1', 'MPP-89',\n",
       "       'NCC010', 'OS-RC-2', 'TGBC1TKB', 'PCI-15A', 'GCIY', 'ETK-1',\n",
       "       'CW-2', 'COLO-679', 'LC-2-ad', 'KGN', 'JHOS-2', 'NCI-H2803',\n",
       "       'NCI-H2810', 'YH-13', 'VMRC-MELG', 'TYK-nu', 'L-540', 'MEL-HO',\n",
       "       'LXF-289', 'LN-405', 'LCLC-103H', 'TE-5', 'TE-10', 'SNG-M', 'SKN',\n",
       "       'SK-MG-1', 'SF126', 'SCC-3', 'SU-DHL-1', 'SISO', 'RT-112', 'YT',\n",
       "       'SUP-M2', 'OVTOKO', 'OVMIU', 'PEO1', 'OE33', 'OAW-42', 'OAW-28',\n",
       "       'AM-38', 'MIA-PaCa-2', 'COR-L105', 'MZ7-mel', 'NCI-H290',\n",
       "       'NCI-H2818', 'MDA-MB-361', 'HuP-T4', 'ESO51', 'HT55', 'D-392MG',\n",
       "       'GAK', 'Mewo', 'LU-65', 'OSC-19', 'OCUM-1', 'KP-3', 'NUGC-3',\n",
       "       'no-10', 'NMC-G1', 'NOMO-1', 'GB-1', 'HuCCT1', 'HSC-4', 'HSC-3',\n",
       "       'HSC-2', 'HO-1-N-1', 'HuO9', 'KOSC-2', 'KMRC-20', 'KMRC-1',\n",
       "       'KINGS-1', 'KALS-1', 'JHH-7', 'JHH-4', 'JHH-1', 'D-247MG', 'Mo-T',\n",
       "       'ME-180', 'MDA-MB-330', 'MDA-MB-175-VII', 'NCI-H1341', 'NCI-H1299',\n",
       "       'M059J', 'Hs-940-T', 'Hs-766T', 'Hs-683', 'HH', 'HCC70', 'LS-180',\n",
       "       'LNCaP-Clone-FGC', 'LN-18', 'KATOIII', 'J82', 'HT-144',\n",
       "       'NCI-H2085', 'NCI-H2066', 'NCI-H2170', 'NCI-H2452', 'NCI-H2444',\n",
       "       'D-263MG', 'NCI-H2029', 'NCI-H1755', 'NCI-H1703', 'NCI-H1666',\n",
       "       'NCI-H1650', 'NCI-H1563', 'NCI-H1793', 'NCI-H2009', 'NCI-H196',\n",
       "       'NCI-H1944', 'HCC2157', 'NCI-H508', 'NCI-H747', 'T84', 'RCC-MF',\n",
       "       'RCC-JW', 'RCC-JF', 'SW620', 'AGS', 'H4', 'G-401', 'DoTc2-4510',\n",
       "       'DBTRG-05MG', 'HCC1954', 'HCC1500', 'C32', 'AU565', 'AsPC-1',\n",
       "       'AN3-CA', 'COLO-829', 'Calu-6', 'Calu-3', 'NCI-H2172', 'CAL-39',\n",
       "       'CAL-120', 'CAPAN-2', 'DK-MG', 'COLO-678', 'BPH-1', 'OVCA433',\n",
       "       'WM793B', 'WM35', 'DOHH-2', 'BONNA-12', 'BFTC-909', 'BFTC-905',\n",
       "       '639-V', 'KARPAS-299', 'D-245MG', 'KYSE-450', 'KYSE-410',\n",
       "       'KYSE-270', 'EN', 'EJM', 'EFO-27', 'GAMG', 'GDM-1', 'HCC-78',\n",
       "       'HCC-366', 'SH-4', 'SJRH30', 'SK-MEL-24', 'SK-MEL-1', 'SK-LMS-1',\n",
       "       'SK-HEP-1', 'SJSA-1', 'SK-UT-1', 'PWR-1E', 'NCI-H661', 'NCI-H596',\n",
       "       'PFSK-1', 'PANC-10-05', 'PANC-04-03', 'SNU-1', 'SW1088', 'SW982',\n",
       "       'SW1573', 'SW1783', 'SW1990', 'SW626', 'T98G', 'SW962', 'U-CH2',\n",
       "       'TCCSUP', 'U-118-MG', 'SNU-475', 'NK-92MI', 'KNS-81-FD',\n",
       "       'LNZTA3WT4', 'COLO-668', 'KP-N-YS', 'BB30-HNC', 'EW-24', 'EW-7',\n",
       "       'SNU-283', 'IST-SL2', 'ATN-1', 'OVK-18', 'TE-4', 'NB12', 'ES5',\n",
       "       'LU-139', 'JHOS-3', 'MFE-319', 'LOU-NH91', 'RERF-LC-Sq1',\n",
       "       'RERF-GC-1B', 'PC-3_[JPC-3]', 'SC-1', 'WSU-NHL', 'RH-41', 'ML-1',\n",
       "       'NU-DUL-1', 'REH', 'PA-TU-8902', 'OV-56', 'OV-17R', 'OE19',\n",
       "       'RPMI-8866', 'A4-Fuk', 'COR-L303', 'HuP-T3', 'LC4-1', 'KYSE-220',\n",
       "       'KURAMOCHI', 'MLMA', 'MRK-nu-1', 'KP-1N', 'HO-1-u-1', 'HARA',\n",
       "       'KON', 'KNS-62', 'NCI-H1048', 'NCI-H2171', 'NCI-H1568', 'A253',\n",
       "       'RCC-AB', 'Detroit562', 'SW1116', 'LoVo', 'G-402', 'HCC1806',\n",
       "       'Daoy', 'CAL-27', 'DG-75', '8305C', '8-MG-BA', 'DU-4475', 'JAR',\n",
       "       'HCC-827', '697', 'SCC-25', 'NCI-H740', 'NCI-N87', 'VA-ES-BJ',\n",
       "       'SNU-398', 'U-2-OS', 'JEG-3', '451Lu', 'TMK-1', 'PCI-30',\n",
       "       'EMC-BAC-1', 'MZ1-PC', 'BICR31', 'SF268', 'RXF393', 'RPMI-8226',\n",
       "       'PC-3', 'SNB75', 'NCI-H2731', 'NCI-H2595', 'NCI-H2461', 'TK10',\n",
       "       'NCI-H322M', 'JHU-022', 'Hs-578-T', 'NCI-H23', 'LOXIMVI',\n",
       "       'IGROV-1', 'NCI-H2795', 'LB996-RCC', 'LB647-SCLC', 'LB2241-RCC',\n",
       "       'SNU-81', 'EW-3', 'EW-11', 'D-502MG', 'A2780', 'SNU-175',\n",
       "       'IST-MES1', 'IST-MEL1', 'NCC021', 'RCC10RGB', 'PC-14', 'OMC-1',\n",
       "       'MKN45', 'TE-15', 'TGBC11TKB', 'NB10', 'MKN28', 'ES4', 'EC-GI-10',\n",
       "       'DJM-1', 'HGC-27', 'LC-1-sq', 'KP-4', 'IA-LM', 'YKG-1', 'T-T',\n",
       "       'TGW', 'TE-9', 'TE-8', 'TE-6', 'LCLC-97TM1', 'TE-11', 'RMG-I',\n",
       "       'RKN', 'RERF-LC-MS', 'RERF-LC-KJ', 'RCM-1', 'P31-FUJ', 'SBC-5',\n",
       "       'TE-1', 'SUIT-2', 'SLVL', 'MHH-ES-1', 'MHH-NB-11', 'SIG-M5',\n",
       "       'SU-DHL-4', 'ROS-50', 'MOLP-8', 'MOLM-13', 'MN-60', 'OACM5-1',\n",
       "       'PL-21', 'RH-18', 'OPM-2', 'OE21', 'BICR22', 'CaR-1', 'Becker',\n",
       "       'NCI-H292', 'ABC-1', 'A3-KAW', 'HTC-C3', 'SNU-C5', 'COR-L279',\n",
       "       'NCI-H2869', 'MG-63', 'MDST8', 'KYAE-1', 'HT-115', 'DOK', 'KYM-1',\n",
       "       'ONS-76', 'NUGC-4', 'NKM-1', 'KP-2', 'HuO-3N1', 'HuH-7', 'IM-95',\n",
       "       'JHH-2', 'D-336MG', 'NCI-H1092', 'HT', 'HPAC', 'Hep3B2-1-7',\n",
       "       'HCC38', 'HT-1197', 'LS-513', 'LN-229', 'KLE', 'JSC-1',\n",
       "       'NCI-H2141', 'NCI-H2110', 'NCI-H2052', 'NCI-H358', 'NCI-H345',\n",
       "       'NCI-H28', 'NCI-H2291', 'NCI-H1581', 'NCI-H2023', 'NCI-H1836',\n",
       "       'HCC2218', 'SNU-C2B', 'K-562', 'A388', 'A204', 'A172', 'HOS',\n",
       "       '5637', 'A427', 'UWB1.289', 'RCC-FG2', 'COLO-205', 'HT-1080',\n",
       "       'HL-60', 'SW948', 'SW48', 'Daudi', 'RD', 'A704', 'FADU', 'EB2',\n",
       "       'HCC1937', 'HCC1599', 'HCC1419', 'DB', 'D-283MED', 'C-33-A',\n",
       "       'BT-20', 'C-4-I', 'Caov-3', 'CAL-72', 'CAL-29', 'CAKI-1', 'DAN-G',\n",
       "       'CRO-AP2', 'BV-173', 'NCI-H446', 'OVCA420', 'Hey', 'DOV13', 'DSH1',\n",
       "       '42-MG-BA', '647-V', 'BHT-101', 'A431', 'EFM-192A', 'KARPAS-620',\n",
       "       'JVM-3', 'KARPAS-231', 'MONO-MAC-6', 'KYSE-70', 'KYSE-140',\n",
       "       'KU-19-19', 'JJN-3', 'FU-OV-1', 'EVSA-T', 'ESS-1', 'EM-2',\n",
       "       'EFO-21', 'HDQ-P1', 'HDLM-2', 'IGR-37', 'SHP-77', 'Saos-2', 'RT4',\n",
       "       'RL', 'SK-CO-1', 'SK-PN-DW', 'SK-MEL-3', 'SK-LU-1', 'NCI-H810',\n",
       "       'PANC-08-13', 'PA-1', 'SNU-5', 'SNU-16', 'NCI-H847', 'SW780',\n",
       "       'SW156', 'TOV-21G', 'THP-1', 'TE-441-T', 'SW756', 'SUP-B15',\n",
       "       'SNU-387', 'SNU-C1', 'SNU-423', 'NTERA-2-cl-D1', 'TUR', 'C2BBe1',\n",
       "       'BE-13', 'ES6', 'HAL-01', 'SK-MM-2', 'NCI-H82', 'Ca-Ski'],\n",
       "      dtype=object), n_protein=8457, protein=array(['A0A075B6K4', 'A0A075B6N1', 'A0A075B7B8', ..., 'Q9Y6X9', 'Q9Y6Y0',\n",
       "       'Q9Y6Y8'], dtype=object), metadata=array(['uniprot_id', 'model_id', 'model_name', 'protein_intensity',\n",
       "       'zscore', 'symbol'], dtype=object), reference_id=['model_id', 'model_name'], reference_id_example='model_id: SIDM00483 | model_name: SK-GT-4', default_parameter={'query_id': 'cell_line_name', 'reference_id': 'model_name', 'bulk_rna_information': 'read_count', 'protein_information': 'protein_intensity', 'protein_id': 'uniprot_id'})"
      ]
     },
     "execution_count": 24,
     "metadata": {},
     "output_type": "execute_result"
    }
   ],
   "source": [
    "cl_lookup.proteomics"
   ]
  },
  {
   "cell_type": "code",
   "execution_count": 25,
   "id": "1b3649ef",
   "metadata": {},
   "outputs": [
    {
     "data": {
      "text/html": [
       "<pre style=\"white-space:pre;overflow-x:auto;line-height:normal;font-family:Menlo,'DejaVu Sans Mono',consolas,'Courier New',monospace\"><span style=\"color: #000080; text-decoration-color: #000080; font-weight: bold\">0</span><span style=\"color: #000080; text-decoration-color: #000080; font-weight: bold\"> cell lines are not found in the metadata.</span>\n",
       "</pre>\n"
      ],
      "text/plain": [
       "\u001b[1;34m0\u001b[0m\u001b[1;34m cell lines are not found in the metadata.\u001b[0m\n"
      ]
     },
     "metadata": {},
     "output_type": "display_data"
    },
    {
     "data": {
      "text/html": [
       "<pre style=\"white-space:pre;overflow-x:auto;line-height:normal;font-family:Menlo,'DejaVu Sans Mono',consolas,'Courier New',monospace\"><span style=\"color: #808000; text-decoration-color: #808000; font-weight: bold\">1</span><span style=\"color: #808000; text-decoration-color: #808000; font-weight: bold\"> cell lines are found! </span>\n",
       "</pre>\n"
      ],
      "text/plain": [
       "\u001b[1;33m1\u001b[0m\u001b[1;33m cell lines are found! \u001b[0m\n"
      ]
     },
     "metadata": {},
     "output_type": "display_data"
    }
   ],
   "source": [
    "cl_lookup.available_protein_expression(query_id_list = adata_dialogue.obs['cell_line_name'].unique())"
   ]
  },
  {
   "cell_type": "code",
   "execution_count": 26,
   "id": "cff4f310",
   "metadata": {},
   "outputs": [
    {
     "data": {
      "text/html": [
       "<pre style=\"white-space:pre;overflow-x:auto;line-height:normal;font-family:Menlo,'DejaVu Sans Mono',consolas,'Courier New',monospace\"><span style=\"color: #000080; text-decoration-color: #000080; font-weight: bold\">209</span><span style=\"color: #000080; text-decoration-color: #000080; font-weight: bold\"> cell lines are not found in the metadata.</span>\n",
       "</pre>\n"
      ],
      "text/plain": [
       "\u001b[1;34m209\u001b[0m\u001b[1;34m cell lines are not found in the metadata.\u001b[0m\n"
      ]
     },
     "metadata": {},
     "output_type": "display_data"
    },
    {
     "data": {
      "text/html": [
       "<pre style=\"white-space:pre;overflow-x:auto;line-height:normal;font-family:Menlo,'DejaVu Sans Mono',consolas,'Courier New',monospace\"><span style=\"color: #808000; text-decoration-color: #808000; font-weight: bold\">0</span><span style=\"color: #808000; text-decoration-color: #808000; font-weight: bold\"> cell lines are found! </span>\n",
       "</pre>\n"
      ],
      "text/plain": [
       "\u001b[1;33m0\u001b[0m\u001b[1;33m cell lines are found! \u001b[0m\n"
      ]
     },
     "metadata": {},
     "output_type": "display_data"
    }
   ],
   "source": [
    "cl_lookup.available_protein_expression(query_id_list = adata_mc.obs['DepMap_ID'].unique(),\n",
    "                                    reference_id = \"model_id\")"
   ]
  },
  {
   "cell_type": "code",
   "execution_count": 27,
   "id": "a5de4ebd",
   "metadata": {},
   "outputs": [
    {
     "data": {
      "text/plain": [
       "drug_response_annotation(n_cell_line=970, cell_line=array(['22RV1', '23132-87', '42-MG-BA', '451Lu', '5637', '639-V', '647-V',\n",
       "       '697', '769-P', '786-0', '8-MG-BA', '8305C', '8505C', 'A101D',\n",
       "       'A172', 'A204', 'A2058', 'A253', 'A2780', 'A3-KAW', 'A375', 'A388',\n",
       "       'A4-Fuk', 'A427', 'A431', 'A498', 'A549', 'A673', 'A704', 'ABC-1',\n",
       "       'ACHN', 'AGS', 'ALL-PO', 'ALL-SIL', 'AM-38', 'AMO-1', 'AN3-CA',\n",
       "       'ARH-77', 'ASH-3', 'ATN-1', 'AU565', 'AsPC-1', 'B-CPAP', 'BALL-1',\n",
       "       'BB30-HNC', 'BB49-HNC', 'BB65-RCC', 'BC-1', 'BC-3', 'BE-13',\n",
       "       'BE2-M17', 'BEN', 'BFTC-905', 'BFTC-909', 'BHT-101', 'BHY',\n",
       "       'BICR10', 'BICR22', 'BICR31', 'BICR78', 'BL-41', 'BPH-1', 'BT-20',\n",
       "       'BT-474', 'BT-483', 'BT-549', 'BV-173', 'Becker', 'BxPC-3',\n",
       "       'C-33-A', 'C-4-I', 'C2BBe1', 'C32', 'C3A', 'CA46', 'CADO-ES1',\n",
       "       'CAKI-1', 'CAL-120', 'CAL-12T', 'CAL-148', 'CAL-27', 'CAL-29',\n",
       "       'CAL-33', 'CAL-39', 'CAL-51', 'CAL-54', 'CAL-62', 'CAL-72',\n",
       "       'CAL-78', 'CAL-85-1', 'CAMA-1', 'CAPAN-1', 'CAPAN-2', 'CAS-1',\n",
       "       'CCK-81', 'CCRF-CEM', 'CESS', 'CFPAC-1', 'CGTH-W-1', 'CHL-1',\n",
       "       'CHP-126', 'CHP-134', 'CHP-212', 'CHSA0011', 'CHSA0108',\n",
       "       'CHSA8926', 'CL-11', 'CMK', 'CML-T1', 'COLO-205', 'COLO-320-HSR',\n",
       "       'COLO-668', 'COLO-678', 'COLO-679', 'COLO-680N', 'COLO-684',\n",
       "       'COLO-783', 'COLO-792', 'COLO-800', 'COLO-824', 'COLO-829',\n",
       "       'COR-L105', 'COR-L23', 'COR-L279', 'COR-L303', 'COR-L311',\n",
       "       'COR-L32', 'COR-L321', 'COR-L88', 'COR-L95', 'CP50-MEL-B',\n",
       "       'CP66-MEL', 'CP67-MEL', 'CPC-N', 'CRO-AP2', 'CS1', 'CTB-1',\n",
       "       'CTV-1', 'CW-2', 'Ca-Ski', 'Ca9-22', 'CaR-1', 'Calu-3', 'Calu-6',\n",
       "       'Caov-3', 'Caov-4', 'ChaGo-K-1', 'D-247MG', 'D-263MG', 'D-283MED',\n",
       "       'D-336MG', 'D-392MG', 'D-423MG', 'D-502MG', 'D-542MG', 'D-566MG',\n",
       "       'DAN-G', 'DB', 'DBTRG-05MG', 'DEL', 'DG-75', 'DJM-1', 'DK-MG',\n",
       "       'DMS-114', 'DMS-273', 'DMS-53', 'DMS-79', 'DND-41', 'DOHH-2',\n",
       "       'DOK', 'DOV13', 'DSH1', 'DU-145', 'DU-4475', 'Daoy', 'Daudi',\n",
       "       'Detroit562', 'DiFi', 'DoTc2-4510', 'EB-3', 'EB2', 'EBC-1',\n",
       "       'EC-GI-10', 'ECC10', 'ECC12', 'EFM-19', 'EFM-192A', 'EFO-21',\n",
       "       'EFO-27', 'EHEB', 'EJM', 'EKVX', 'EM-2', 'EMC-BAC-1', 'EMC-BAC-2',\n",
       "       'EN', 'EPLC-272H', 'ES-2', 'ES1', 'ES4', 'ES5', 'ES6', 'ES7',\n",
       "       'ES8', 'ESO26', 'ESO51', 'ESS-1', 'ETK-1', 'EVSA-T', 'EW-1',\n",
       "       'EW-11', 'EW-12', 'EW-13', 'EW-16', 'EW-18', 'EW-22', 'EW-24',\n",
       "       'EW-3', 'EW-7', 'EoL-1-cell', 'FADU', 'FLO-1', 'FTC-133',\n",
       "       'FU-OV-1', 'FU97', 'Farage', 'G-292-Clone-A141B1', 'G-361',\n",
       "       'G-401', 'G-402', 'G-MEL', 'GA-10', 'GAK', 'GAMG', 'GB-1', 'GCIY',\n",
       "       'GCT', 'GDM-1', 'GI-1', 'GI-ME-N', 'GOTO', 'GP5d', 'GR-ST',\n",
       "       'GRANTA-519', 'H-EMC-SS', 'H3255', 'H4', 'H9', 'HA7-RCC', 'HAL-01',\n",
       "       'HARA', 'HC-1', 'HCC-15', 'HCC-33', 'HCC-366', 'HCC-44', 'HCC-78',\n",
       "       'HCC-827', 'HCC1143', 'HCC1187', 'HCC1395', 'HCC1419', 'HCC1428',\n",
       "       'HCC1500', 'HCC1569', 'HCC1599', 'HCC1806', 'HCC1937', 'HCC1954',\n",
       "       'HCC202', 'HCC2157', 'HCC2218', 'HCC2998', 'HCC38', 'HCC70',\n",
       "       'HCE-4', 'HCT-116', 'HCT-15', 'HDLM-2', 'HDQ-P1', 'HEC-1', 'HEL',\n",
       "       'HGC-27', 'HH', 'HL-60', 'HLE', 'HMV-II', 'HO-1-N-1', 'HO-1-u-1',\n",
       "       'HOP-62', 'HOP-92', 'HOS', 'HPAC', 'HPAF-II', 'HSC-2', 'HSC-3',\n",
       "       'HSC-39', 'HSC-4', 'HT', 'HT-1080', 'HT-115', 'HT-1197', 'HT-1376',\n",
       "       'HT-144', 'HT-29', 'HT-3', 'HT55', 'HTC-C3', 'HeLa', 'Hep3B2-1-7',\n",
       "       'Hey', 'Hs-445', 'Hs-578-T', 'Hs-633T', 'Hs-683', 'Hs-746T',\n",
       "       'Hs-766T', 'Hs-939-T', 'Hs-940-T', 'HuCCT1', 'HuH-7', 'HuO-3N1',\n",
       "       'HuO9', 'HuP-T3', 'HuP-T4', 'HuTu-80', 'IA-LM', 'IGR-1', 'IGR-37',\n",
       "       'IGROV-1', 'IHH-4', 'IM-9', 'IM-95', 'IMR-5', 'IPC-298',\n",
       "       'IST-MEL1', 'IST-MES1', 'IST-SL1', 'IST-SL2', 'J82', 'JAR',\n",
       "       'JEG-3', 'JEKO-1', 'JHH-1', 'JHH-2', 'JHH-4', 'JHH-6', 'JHH-7',\n",
       "       'JHOS-2', 'JHOS-3', 'JHOS-4', 'JHU-011', 'JHU-022', 'JHU-029',\n",
       "       'JIMT-1', 'JJN-3', 'JM1', 'JSC-1', 'JURL-MK1', 'JVM-2', 'JVM-3',\n",
       "       'JiyoyeP-2003', 'Jurkat', 'K-562', 'K2', 'K5', 'KALS-1',\n",
       "       'KARPAS-1106P', 'KARPAS-231', 'KARPAS-299', 'KARPAS-422',\n",
       "       'KARPAS-45', 'KARPAS-620', 'KASUMI-1', 'KATOIII', 'KCL-22',\n",
       "       'KE-37', 'KELLY', 'KG-1', 'KGN', 'KINGS-1', 'KLE', 'KM-H2', 'KM12',\n",
       "       'KMH-2', 'KMOE-2', 'KMRC-1', 'KMRC-20', 'KMS-11', 'KMS-12-BM',\n",
       "       'KNS-42', 'KNS-62', 'KNS-81-FD', 'KON', 'KOPN-8', 'KOSC-2',\n",
       "       'KP-1N', 'KP-2', 'KP-3', 'KP-4', 'KP-N-RT-BM-1', 'KP-N-YN',\n",
       "       'KP-N-YS', 'KS-1', 'KU-19-19', 'KU812', 'KURAMOCHI', 'KY821',\n",
       "       'KYAE-1', 'KYM-1', 'KYSE-140', 'KYSE-150', 'KYSE-180', 'KYSE-220',\n",
       "       'KYSE-270', 'KYSE-410', 'KYSE-450', 'KYSE-50', 'KYSE-510',\n",
       "       'KYSE-520', 'KYSE-70', 'L-1236', 'L-363', 'L-428', 'L-540',\n",
       "       'LAMA-84', 'LAN-6', 'LB1047-RCC', 'LB2241-RCC', 'LB2518-MEL',\n",
       "       'LB373-MEL-D', 'LB647-SCLC', 'LB771-HNC', 'LB831-BLC', 'LB996-RCC',\n",
       "       'LC-1-sq', 'LC-2-ad', 'LC4-1', 'LCLC-103H', 'LCLC-97TM1', 'LK-2',\n",
       "       'LN-18', 'LN-229', 'LN-405', 'LNCaP-Clone-FGC', 'LNZTA3WT4',\n",
       "       'LOU-NH91', 'LOUCY', 'LOXIMVI', 'LP-1', 'LS-1034', 'LS-123',\n",
       "       'LS-180', 'LS-411N', 'LS-513', 'LU-134-A', 'LU-135', 'LU-139',\n",
       "       'LU-165', 'LU-65', 'LU-99A', 'LXF-289', 'LoVo', 'M059J', 'M14',\n",
       "       'MC-IXC', 'MC116', 'MCF7', 'MDA-MB-157', 'MDA-MB-175-VII',\n",
       "       'MDA-MB-231', 'MDA-MB-330', 'MDA-MB-361', 'MDA-MB-415',\n",
       "       'MDA-MB-436', 'MDA-MB-453', 'MDA-MB-468', 'MDST8', 'ME-1',\n",
       "       'ME-180', 'MEG-01', 'MEL-HO', 'MEL-JUSO', 'MES-SA', 'MFE-280',\n",
       "       'MFE-296', 'MFE-319', 'MFH-ino', 'MFM-223', 'MG-63', 'MHH-CALL-2',\n",
       "       'MHH-ES-1', 'MHH-NB-11', 'MHH-PREB-1', 'MIA-PaCa-2', 'MKN1',\n",
       "       'MKN28', 'MKN45', 'MKN7', 'ML-1', 'ML-2', 'MLMA', 'MM1S',\n",
       "       'MMAc-SF', 'MN-60', 'MOG-G-CCM', 'MOG-G-UVW', 'MOLM-13', 'MOLM-16',\n",
       "       'MOLP-8', 'MOLT-13', 'MOLT-16', 'MOLT-4', 'MONO-MAC-6', 'MPP-89',\n",
       "       'MRK-nu-1', 'MS-1', 'MS751', 'MSTO-211H', 'MV-4-11', 'MY-M12',\n",
       "       'MZ1-PC', 'MZ2-MEL', 'MZ7-mel', 'Mewo', 'Mo-T', 'NALM-6',\n",
       "       'NAMALWA', 'NB(TU)1-10', 'NB1', 'NB10', 'NB12', 'NB13', 'NB14',\n",
       "       'NB17', 'NB4', 'NB5', 'NB6', 'NB69', 'NB7', 'NCC010', 'NCC021',\n",
       "       'NCCIT', 'NCI-H1048', 'NCI-H1092', 'NCI-H1105', 'NCI-H1155',\n",
       "       'NCI-H128', 'NCI-H1299', 'NCI-H1304', 'NCI-H1341', 'NCI-H1355',\n",
       "       'NCI-H1435', 'NCI-H1436', 'NCI-H1437', 'NCI-H146', 'NCI-H1563',\n",
       "       'NCI-H1568', 'NCI-H1573', 'NCI-H1581', 'NCI-H1623', 'NCI-H1648',\n",
       "       'NCI-H1650', 'NCI-H1651', 'NCI-H1666', 'NCI-H1688', 'NCI-H1693',\n",
       "       'NCI-H1694', 'NCI-H1703', 'NCI-H1734', 'NCI-H1755', 'NCI-H1770',\n",
       "       'NCI-H1781', 'NCI-H1792', 'NCI-H1793', 'NCI-H1836', 'NCI-H1838',\n",
       "       'NCI-H1869', 'NCI-H187', 'NCI-H1876', 'NCI-H1915', 'NCI-H1944',\n",
       "       'NCI-H196', 'NCI-H1963', 'NCI-H1975', 'NCI-H1993', 'NCI-H2009',\n",
       "       'NCI-H2023', 'NCI-H2029', 'NCI-H2030', 'NCI-H2052', 'NCI-H2066',\n",
       "       'NCI-H2081', 'NCI-H2085', 'NCI-H2087', 'NCI-H209', 'NCI-H211',\n",
       "       'NCI-H2110', 'NCI-H2122', 'NCI-H2135', 'NCI-H2141', 'NCI-H2170',\n",
       "       'NCI-H2171', 'NCI-H2172', 'NCI-H2196', 'NCI-H2227', 'NCI-H2228',\n",
       "       'NCI-H226', 'NCI-H2291', 'NCI-H23', 'NCI-H2342', 'NCI-H2347',\n",
       "       'NCI-H2369', 'NCI-H2373', 'NCI-H2405', 'NCI-H2444', 'NCI-H2452',\n",
       "       'NCI-H2461', 'NCI-H250', 'NCI-H2591', 'NCI-H2595', 'NCI-H2722',\n",
       "       'NCI-H2731', 'NCI-H2795', 'NCI-H28', 'NCI-H2803', 'NCI-H2804',\n",
       "       'NCI-H2810', 'NCI-H2818', 'NCI-H2869', 'NCI-H290', 'NCI-H292',\n",
       "       'NCI-H3118', 'NCI-H3122', 'NCI-H322M', 'NCI-H345', 'NCI-H358',\n",
       "       'NCI-H441', 'NCI-H446', 'NCI-H460', 'NCI-H508', 'NCI-H510A',\n",
       "       'NCI-H513', 'NCI-H520', 'NCI-H522', 'NCI-H524', 'NCI-H526',\n",
       "       'NCI-H596', 'NCI-H64', 'NCI-H647', 'NCI-H650', 'NCI-H661',\n",
       "       'NCI-H69', 'NCI-H716', 'NCI-H720', 'NCI-H727', 'NCI-H747',\n",
       "       'NCI-H748', 'NCI-H810', 'NCI-H82', 'NCI-H835', 'NCI-H838',\n",
       "       'NCI-H841', 'NCI-H847', 'NCI-H929', 'NCI-N87', 'NEC8', 'NH-12',\n",
       "       'NK-92MI', 'NKM-1', 'NMC-G1', 'NOMO-1', 'NOS-1', 'NTERA-2-cl-D1',\n",
       "       'NU-DUL-1', 'NUGC-3', 'NUGC-4', 'NY', 'OACM5-1', 'OACp4C',\n",
       "       'OAW-28', 'OAW-42', 'OC-314', 'OCI-AML2', 'OCI-AML3', 'OCI-AML5',\n",
       "       'OCI-LY-19', 'OCI-LY7', 'OCI-M1', 'OCUB-M', 'OCUM-1', 'OE19',\n",
       "       'OE21', 'OE33', 'OMC-1', 'ONS-76', 'OPM-2', 'OS-RC-2', 'OSC-19',\n",
       "       'OSC-20', 'OV-17R', 'OV-56', 'OV-7', 'OV-90', 'OVCA420', 'OVCA433',\n",
       "       'OVCAR-3', 'OVCAR-4', 'OVCAR-5', 'OVCAR-8', 'OVISE', 'OVK-18',\n",
       "       'OVKATE', 'OVMIU', 'OVTOKO', 'P12-ICHIKAWA', 'P30-OHK', 'P31-FUJ',\n",
       "       'P32-ISH', 'PA-1', 'PA-TU-8902', 'PA-TU-8988T', 'PANC-02-03',\n",
       "       'PANC-03-27', 'PANC-04-03', 'PANC-08-13', 'PANC-10-05', 'PC-14',\n",
       "       'PC-3', 'PC-3_[JPC-3]', 'PCI-15A', 'PCI-30', 'PCI-38', 'PCI-4B',\n",
       "       'PCI-6A', 'PE-CA-PJ15', 'PEO1', 'PF-382', 'PFSK-1', 'PL-21', 'PL4',\n",
       "       'PSN1', 'PWR-1E', 'QGP-1', 'QIMR-WIL', 'RC-K8', 'RCC-AB', 'RCC-ER',\n",
       "       'RCC-FG2', 'RCC-JF', 'RCC-JW', 'RCC-MF', 'RCC10RGB', 'RCH-ACV',\n",
       "       'RCM-1', 'RD', 'REH', 'RERF-GC-1B', 'RERF-LC-KJ', 'RERF-LC-MS',\n",
       "       'RERF-LC-Sq1', 'RF-48', 'RH-1', 'RH-18', 'RH-41', 'RKN', 'RKO',\n",
       "       'RL', 'RL95-2', 'RMG-I', 'RO82-W-1', 'ROS-50', 'RPMI-6666',\n",
       "       'RPMI-7951', 'RPMI-8226', 'RPMI-8402', 'RPMI-8866', 'RS4-11',\n",
       "       'RT-112', 'RT4', 'RVH-421', 'RXF393', 'Raji', 'Ramos-2G6-4C10',\n",
       "       'SAS', 'SAT', 'SBC-1', 'SBC-3', 'SBC-5', 'SC-1', 'SCC-15',\n",
       "       'SCC-25', 'SCC-3', 'SCC-4', 'SCC-9', 'SCC90', 'SCH', 'SF126',\n",
       "       'SF268', 'SF295', 'SF539', 'SH-4', 'SHP-77', 'SIG-M5', 'SIMA',\n",
       "       'SISO', 'SJRH30', 'SJSA-1', 'SK-CO-1', 'SK-ES-1', 'SK-GT-2',\n",
       "       'SK-GT-4', 'SK-HEP-1', 'SK-LMS-1', 'SK-LU-1', 'SK-MEL-1',\n",
       "       'SK-MEL-2', 'SK-MEL-24', 'SK-MEL-28', 'SK-MEL-3', 'SK-MEL-30',\n",
       "       'SK-MEL-31', 'SK-MEL-5', 'SK-MES-1', 'SK-MG-1', 'SK-MM-2',\n",
       "       'SK-N-AS', 'SK-N-DZ', 'SK-N-FI', 'SK-N-SH', 'SK-OV-3', 'SK-PN-DW',\n",
       "       'SK-UT-1', 'SKG-IIIa', 'SKM-1', 'SKN', 'SKN-3', 'SLVL', 'SN12C',\n",
       "       'SNB75', 'SNG-M', 'SNU-1', 'SNU-1040', 'SNU-16', 'SNU-175',\n",
       "       'SNU-387', 'SNU-398', 'SNU-407', 'SNU-423', 'SNU-449', 'SNU-475',\n",
       "       'SNU-5', 'SNU-61', 'SNU-81', 'SNU-C1', 'SNU-C2B', 'SNU-C5', 'SR',\n",
       "       'ST486', 'STS-0421', 'SU-DHL-1', 'SU-DHL-10', 'SU-DHL-16',\n",
       "       'SU-DHL-4', 'SU-DHL-5', 'SU-DHL-6', 'SU-DHL-8', 'SU8686', 'SUIT-2',\n",
       "       'SUP-B15', 'SUP-B8', 'SUP-HD1', 'SUP-M2', 'SUP-T1', 'SW1088',\n",
       "       'SW1116', 'SW1271', 'SW13', 'SW1417', 'SW1463', 'SW156', 'SW1573',\n",
       "       'SW1710', 'SW1783', 'SW1990', 'SW48', 'SW620', 'SW626', 'SW684',\n",
       "       'SW756', 'SW780', 'SW837', 'SW872', 'SW948', 'SW954', 'SW962',\n",
       "       'SW982', 'Saos-2', 'SiHa', 'T-T', 'T24', 'T47D', 'T84', 'T98G',\n",
       "       'TC-71', 'TC-YIK', 'TCCSUP', 'TE-1', 'TE-10', 'TE-11', 'TE-12',\n",
       "       'TE-15', 'TE-4', 'TE-441-T', 'TE-5', 'TE-6', 'TE-8', 'TE-9',\n",
       "       'TGBC11TKB', 'TGBC1TKB', 'TGBC24TKB', 'TGW', 'THP-1', 'TK', 'TK10',\n",
       "       'TMK-1', 'TOV-112D', 'TOV-21G', 'TT', 'TT2609-C02', 'TUR',\n",
       "       'TYK-nu', 'U-118-MG', 'U-2-OS', 'U-266', 'U-698-M', 'U-87-MG',\n",
       "       'U031', 'U251', 'UACC-257', 'UACC-62', 'UACC-812', 'UACC-893',\n",
       "       'UM-UC-3', 'UMC-11', 'UWB1.289', 'VA-ES-BJ', 'VAL', 'VCaP',\n",
       "       'VMRC-LCD', 'VMRC-MELG', 'VMRC-RCW', 'VMRC-RCZ', 'WIL2-NS',\n",
       "       'WM-115', 'WM1552C', 'WM278', 'WM35', 'WM793B', 'WSU-DLCL2',\n",
       "       'WSU-NHL', 'YAPC', 'YH-13', 'YKG-1', 'YMB-1-E', 'YT', 'ZR-75-30',\n",
       "       'huH-1', 'no-10', 'no-11'], dtype=object), n_drug=378, drug_name=array(['(5Z)-7-Oxozeaenol', '5-Fluorouracil', '965-D2', '993-D2',\n",
       "       'A-83-01', 'ACY-1215', 'AGI-6780', 'AICA Ribonucleotide',\n",
       "       'AKT inhibitor VIII', 'AR-42', 'ARRY-520', 'AS601245', 'AS605240',\n",
       "       'AST-1306', 'AT-7519', 'AT7867', 'AZ20', 'AZD1208', 'AZD1332',\n",
       "       'AZD1480', 'AZD2014', 'AZD3514', 'AZD4547', 'AZD4877', 'AZD5438',\n",
       "       'AZD5582', 'AZD6094', 'AZD6482', 'AZD6738', 'AZD7762', 'AZD7969',\n",
       "       'AZD8055', 'AZD8186', 'AZD8835', 'AZD8931', 'Afatinib',\n",
       "       'Alectinib', 'Alisertib', 'Amuvatinib', 'Apitolisib', 'Ara-G',\n",
       "       'Avagacestat', 'Axitinib', 'BAM7', 'BAY ACCi', 'BAY AKT1',\n",
       "       'BAY-61-3606', 'BAY-HDAC11_1', 'BAY-HDAC11_2', 'BAY-HDAC11_4',\n",
       "       'BAY-MPS-combo 2 (paclitaxel 1 uM)',\n",
       "       'BAY-MPS-combo-1 (paclitaxel 5 uM)', 'BAY-MPS1', 'BIBF-1120',\n",
       "       'BIX02189', 'BMS-345541', 'BMS-536924', 'BMS-754807', 'BPTES',\n",
       "       'BX-912', 'BX795', 'Belinostat', 'Bexarotene', 'Bicalutamide',\n",
       "       'Bleomycin', 'Bleomycin (10 uM)', 'Bleomycin (50 uM)', 'Bosutinib',\n",
       "       'Brivanib, BMS-540215', 'Bryostatin 1', 'C-75',\n",
       "       'CAP-232, TT-232, TLN-232', 'CAY10566', 'CAY10603', 'CCT-018159',\n",
       "       'CCT007093', 'CCT245232', 'CCT245467', 'CD532', 'CHIR-99021',\n",
       "       'CI-1033', 'CI-1040', 'CP466722', 'CP724714', 'CPI-613',\n",
       "       'CRT0105446', 'CRT0105950', 'CRT0160829', 'CUDC-101', 'CX-5461',\n",
       "       'Cabozantinib', 'Capivasertib', 'Cetuximab', 'Cisplatin',\n",
       "       'Cytarabine', 'DMOG', 'Dabrafenib', 'Dacinostat', 'Dactolisib',\n",
       "       'Daporinad', 'Docetaxel', 'Doramapimod', 'Doxorubicin',\n",
       "       'Dyrk1b_0191', 'EHT-1864', 'ETP-45835', 'Elesclomol', 'Embelin',\n",
       "       'Enzastaurin', 'EphB4_9721', 'Epothilone B', 'Etoposide',\n",
       "       'FEN1_3940', 'FGFR_0939', 'FGFR_3831', 'FH535', 'FR-180204',\n",
       "       'FS106', 'FS112', 'FTI-277', 'FTY-720', 'FY012', 'FY026', 'FY069',\n",
       "       'Fedratinib', 'Flavopiridol', 'Foretinib', 'Fulvestrant', 'GSK-J4',\n",
       "       'GSK1059615', 'GSK1070916', 'GSK1904529A', 'GSK269962A',\n",
       "       'GSK429286A', 'GSK650394', 'GSK690693', 'GW-2580', 'GW441756',\n",
       "       'Gefitinib', 'Gemcitabine', 'Genentech Cpd 10', 'HG-5-113-01',\n",
       "       'HG-5-88-01', 'HG6-64-1', 'I-BET-151', 'I-BET-762', 'I-CBP112',\n",
       "       'IAP_5620', 'IAP_7638', 'IC-87114', 'ICL1100013', 'IGFR_3801',\n",
       "       'IMD-0354', 'IOX2', 'IPA-3', 'Idelalisib', 'Ispinesib Mesylate',\n",
       "       'JAK1_3715', 'JAK3_7406', 'JNJ38877605', 'JNK Inhibitor VIII',\n",
       "       'JNK-9L', 'JQ1', 'JQ12', 'JW-7-24-1', 'KIN001-042', 'KIN001-236',\n",
       "       'KIN001-244', 'KIN001-260', 'KIN001-266', 'KIN001-270', 'KU-55933',\n",
       "       'KU-60019', 'Kobe2602', 'LCL161', 'LDN-193189', 'LFM-A13',\n",
       "       'LGK974', 'LIMK1 inhibitor BMS4', 'Lenalidomide', 'Lestaurtinib',\n",
       "       'Linifanib', 'Linsitinib', 'Luminespib', 'MCT1_6447', 'MCT4_1422',\n",
       "       'MIM1', 'MK-2206', 'MPS-1-IN-1', 'Masitinib',\n",
       "       'MetAP2 Inhibitor, A832234', 'Methotrexate', 'Midostaurin',\n",
       "       'Mirin', 'Mitomycin-C', 'Motesanib', 'N22899-6-C1', 'N23918-95-7',\n",
       "       'N24798-49-A1', 'NG-25', 'NPK76-II-72-1', 'NSC-207895',\n",
       "       'NSC-87877', 'NSC319726', 'NU7441', 'NVP-BHG712', 'Navitoclax',\n",
       "       'Nilotinib', 'Nutlin-3a (-)', 'OSI-027', 'OSI-930', 'OSU-03012',\n",
       "       'Obatoclax Mesylate', 'Olaparib', 'Omipalisib', 'PAC-1',\n",
       "       'PARP_0108', 'PARP_9482', 'PARP_9495', 'PD0325901', 'PD173074',\n",
       "       'PF-00299804', 'PF-4708671', 'PF-562271', 'PFI-1', 'PFI-3',\n",
       "       'PHA-793887', 'PI-103', 'PI3Ka_4409', 'PIK-93', 'PLK_6522',\n",
       "       'PLX-4720', 'Palbociclib', 'Panobinostat', 'Pazopanib',\n",
       "       'Pelitinib', 'Pemetrexed', 'Pevonedistat', 'Phenformin',\n",
       "       'Pictilisib', 'Pilaralisib', 'Piperlongumine', 'Ponatinib',\n",
       "       'QL-VIII-58', 'QL-X-138', 'QL-XI-92', 'QL-XII-47', 'QL-XII-61',\n",
       "       'QS11', 'Quizartinib', 'RAF_9304', 'RO-3306', 'RU-SKI 43',\n",
       "       'Refametinib', 'Rucaparib', 'Ruxolitinib', 'SB216763', 'SB505124',\n",
       "       'SB52334', 'SB590885', 'SGC0946', 'SL0101', 'SN-38', 'SNX-2112',\n",
       "       'STF-62247', 'SU11274', 'Selisistat', 'Selumetinib',\n",
       "       'Sepantronium bromide', 'Serdemetan', 'Shikonin',\n",
       "       'Sphingosine Kinase 1 Inhibitor II', 'T0901317', 'TAK-715',\n",
       "       'TANK_1366', 'THZ-2-102-1', 'THZ-2-49', 'TL-1-85', 'TL-2-105',\n",
       "       'TPCA-1', 'TTK_3146', 'TW 37', 'TWS119', 'Talazoparib',\n",
       "       'Tamoxifen', 'Tanespimycin', 'Temozolomide', 'Temsirolimus',\n",
       "       'Tenovin-6', 'Thapsigargin', 'Tipifarnib', 'Tivozanib', 'Torin 2',\n",
       "       'Trametinib', 'Tretinoin', 'Trichostatin A', 'Tubastatin A',\n",
       "       'UNC0638', 'UNC0642', 'UNC1215', 'VNLG/124', 'VX-11e', 'VX-702',\n",
       "       'Veliparib', 'Venotoclax', 'Vinblastine', 'Vinorelbine',\n",
       "       'Vismodegib', 'Vorinostat', 'Voxtalisib', 'WHI-P97', 'WYE-125132',\n",
       "       'WZ3105', 'Wee1 Inhibitor', 'Wnt-C59', 'XAV939', 'XMD11-85h',\n",
       "       'XMD13-2', 'XMD14-99', 'XMD15-27', 'XMD8-92', 'Y-39983',\n",
       "       'YK-4-279', 'YM201636', 'ZG-10', 'ZL049', 'ZL109', 'ZM447439',\n",
       "       'ZSTK474', 'Zibotentan', 'eEF2K Inhibitor, A-484954',\n",
       "       'kb NB 142-70', 'rTRAIL', 'FMK', 'A-443654', 'A-770041', 'AZ628',\n",
       "       'BI-2536', 'BMS-509744', 'Bortezomib', 'CGP-082996', 'CGP-60474',\n",
       "       'CMK', 'Crizotinib', 'Cyclopamine', 'Dasatinib', 'Entinostat',\n",
       "       'Erlotinib', 'GNF-2', 'GSK319347A', 'GW843682X', 'Imatinib',\n",
       "       'JW-7-52-1', 'Lapatinib', 'MG-132', 'NVP-TAE684', 'PHA-665752',\n",
       "       'Paclitaxel', 'Parthenolide', 'Pyrimethamine', 'Rapamycin',\n",
       "       'S-Trityl-L-cysteine', 'Salubrinal', 'Saracatinib', 'Seliciclib',\n",
       "       'Sorafenib', 'Sunitinib', 'TGX221', 'Tozasertib', 'WH-4-023',\n",
       "       'WZ-1-84', 'XMD8-85', 'Z-LLNle-CHO', 'HG-6-71-01', 'THZ-1-87',\n",
       "       'THZ-2-98-01', 'XMD11-50', 'torin2'], dtype=object), metadata=array(['cosmic_id', 'cell_line_name', 'sanger_model_id', 'drug_id',\n",
       "       'drug_name', 'ln_ic50', 'auc'], dtype=object), reference_id=['cell_line_name', 'sanger_model_id', 'cosmic_id'], reference_id_example='cell_line_name: ES5 | sanger_model_id: SIDM00263 | cosmic_id: 684057', default_parameter={'gdsc_dataset': '1', 'query_id': 'cell_line_name', 'reference_id': 'cell_line_name', 'query_perturbation': 'perturbation', 'reference_perturbation': 'drug_name'})"
      ]
     },
     "execution_count": 27,
     "metadata": {},
     "output_type": "execute_result"
    }
   ],
   "source": [
    "cl_lookup.drug_response.gdsc1"
   ]
  },
  {
   "cell_type": "code",
   "execution_count": 28,
   "id": "48099cac",
   "metadata": {},
   "outputs": [
    {
     "data": {
      "text/plain": [
       "drug_response_annotation(n_cell_line=969, cell_line=array(['22RV1', '23132-87', '42-MG-BA', '451Lu', '5637', '639-V', '647-V',\n",
       "       '697', '769-P', '786-0', '8-MG-BA', '8305C', '8505C', 'A101D',\n",
       "       'A172', 'A204', 'A2058', 'A253', 'A2780', 'A3-KAW', 'A375', 'A388',\n",
       "       'A4-Fuk', 'A427', 'A431', 'A498', 'A549', 'A673', 'A704', 'ABC-1',\n",
       "       'ACHN', 'AGS', 'ALL-PO', 'ALL-SIL', 'AM-38', 'AMO-1', 'AN3-CA',\n",
       "       'ARH-77', 'ASH-3', 'ATN-1', 'AU565', 'AsPC-1', 'B-CPAP', 'BALL-1',\n",
       "       'BB30-HNC', 'BB49-HNC', 'BB65-RCC', 'BC-1', 'BC-3', 'BE-13',\n",
       "       'BE2-M17', 'BEN', 'BFTC-905', 'BFTC-909', 'BHT-101', 'BHY',\n",
       "       'BICR10', 'BICR22', 'BICR31', 'BICR78', 'BL-41', 'BONNA-12',\n",
       "       'BPH-1', 'BT-20', 'BT-474', 'BT-483', 'BT-549', 'BV-173', 'Becker',\n",
       "       'BxPC-3', 'C-33-A', 'C-4-I', 'C2BBe1', 'C32', 'C3A', 'CA46',\n",
       "       'CADO-ES1', 'CAKI-1', 'CAL-120', 'CAL-12T', 'CAL-148', 'CAL-27',\n",
       "       'CAL-29', 'CAL-33', 'CAL-39', 'CAL-51', 'CAL-54', 'CAL-62',\n",
       "       'CAL-72', 'CAL-78', 'CAL-85-1', 'CAMA-1', 'CAPAN-1', 'CAPAN-2',\n",
       "       'CAS-1', 'CCK-81', 'CCRF-CEM', 'CESS', 'CFPAC-1', 'CGTH-W-1',\n",
       "       'CHL-1', 'CHP-126', 'CHP-134', 'CHP-212', 'CHSA0011', 'CHSA0108',\n",
       "       'CHSA8926', 'CL-11', 'CML-T1', 'COLO-205', 'COLO-320-HSR',\n",
       "       'COLO-668', 'COLO-678', 'COLO-679', 'COLO-680N', 'COLO-684',\n",
       "       'COLO-783', 'COLO-792', 'COLO-800', 'COLO-824', 'COLO-829',\n",
       "       'COR-L105', 'COR-L23', 'COR-L279', 'COR-L303', 'COR-L311',\n",
       "       'COR-L32', 'COR-L321', 'COR-L88', 'COR-L95', 'CP50-MEL-B',\n",
       "       'CP66-MEL', 'CPC-N', 'CRO-AP2', 'CS1', 'CTB-1', 'CTV-1', 'CW-2',\n",
       "       'Ca-Ski', 'Ca9-22', 'CaR-1', 'Calu-3', 'Calu-6', 'Caov-3',\n",
       "       'Caov-4', 'ChaGo-K-1', 'D-245MG', 'D-247MG', 'D-263MG', 'D-283MED',\n",
       "       'D-336MG', 'D-392MG', 'D-423MG', 'D-502MG', 'D-542MG', 'D-566MG',\n",
       "       'DAN-G', 'DB', 'DBTRG-05MG', 'DEL', 'DG-75', 'DJM-1', 'DK-MG',\n",
       "       'DMS-114', 'DMS-273', 'DMS-53', 'DMS-79', 'DND-41', 'DOHH-2',\n",
       "       'DOK', 'DOV13', 'DSH1', 'DU-145', 'DU-4475', 'Daoy', 'Daudi',\n",
       "       'Detroit562', 'DiFi', 'DoTc2-4510', 'EB-3', 'EB2', 'EBC-1',\n",
       "       'EC-GI-10', 'ECC10', 'ECC12', 'EFM-19', 'EFM-192A', 'EFO-21',\n",
       "       'EFO-27', 'EJM', 'EKVX', 'EM-2', 'EMC-BAC-1', 'EMC-BAC-2', 'EN',\n",
       "       'EPLC-272H', 'ES-2', 'ES1', 'ES4', 'ES5', 'ES6', 'ES7', 'ES8',\n",
       "       'ESO26', 'ESO51', 'ESS-1', 'ETK-1', 'EVSA-T', 'EW-1', 'EW-11',\n",
       "       'EW-12', 'EW-13', 'EW-16', 'EW-18', 'EW-22', 'EW-24', 'EW-3',\n",
       "       'EW-7', 'EoL-1-cell', 'FADU', 'FLO-1', 'FTC-133', 'FU-OV-1',\n",
       "       'FU97', 'Farage', 'G-292-Clone-A141B1', 'G-361', 'G-401', 'G-402',\n",
       "       'G-MEL', 'GA-10', 'GAK', 'GAMG', 'GB-1', 'GCIY', 'GCT', 'GDM-1',\n",
       "       'GI-1', 'GI-ME-N', 'GOTO', 'GP5d', 'GR-ST', 'GRANTA-519',\n",
       "       'H-EMC-SS', 'H3255', 'H4', 'H9', 'HA7-RCC', 'HAL-01', 'HARA',\n",
       "       'HC-1', 'HCC-15', 'HCC-33', 'HCC-366', 'HCC-44', 'HCC-78',\n",
       "       'HCC-827', 'HCC1143', 'HCC1187', 'HCC1395', 'HCC1419', 'HCC1428',\n",
       "       'HCC1500', 'HCC1569', 'HCC1599', 'HCC1806', 'HCC1937', 'HCC1954',\n",
       "       'HCC202', 'HCC2157', 'HCC2218', 'HCC2998', 'HCC38', 'HCC70',\n",
       "       'HCE-4', 'HCT-116', 'HCT-15', 'HDLM-2', 'HDQ-P1', 'HEC-1', 'HEL',\n",
       "       'HGC-27', 'HH', 'HL-60', 'HLE', 'HMV-II', 'HO-1-N-1', 'HO-1-u-1',\n",
       "       'HOP-62', 'HOP-92', 'HOS', 'HPAC', 'HPAF-II', 'HSC-2', 'HSC-3',\n",
       "       'HSC-39', 'HSC-4', 'HT', 'HT-1080', 'HT-115', 'HT-1197', 'HT-1376',\n",
       "       'HT-144', 'HT-29', 'HT-3', 'HT55', 'HTC-C3', 'HeLa', 'Hep3B2-1-7',\n",
       "       'Hey', 'Hs-445', 'Hs-578-T', 'Hs-633T', 'Hs-683', 'Hs-746T',\n",
       "       'Hs-766T', 'Hs-939-T', 'Hs-940-T', 'HuCCT1', 'HuH-7', 'HuO-3N1',\n",
       "       'HuO9', 'HuP-T3', 'HuP-T4', 'HuTu-80', 'IA-LM', 'IGR-1', 'IGR-37',\n",
       "       'IGROV-1', 'IHH-4', 'IM-9', 'IM-95', 'IMR-5', 'IPC-298',\n",
       "       'IST-MEL1', 'IST-MES1', 'IST-SL1', 'IST-SL2', 'J82', 'JAR',\n",
       "       'JEG-3', 'JEKO-1', 'JHH-1', 'JHH-2', 'JHH-4', 'JHH-6', 'JHH-7',\n",
       "       'JHOS-2', 'JHOS-3', 'JHOS-4', 'JHU-011', 'JHU-022', 'JHU-029',\n",
       "       'JIMT-1', 'JJN-3', 'JM1', 'JSC-1', 'JURL-MK1', 'JVM-2', 'JVM-3',\n",
       "       'JiyoyeP-2003', 'Jurkat', 'K-562', 'K2', 'K5', 'KALS-1',\n",
       "       'KARPAS-1106P', 'KARPAS-231', 'KARPAS-299', 'KARPAS-422',\n",
       "       'KARPAS-45', 'KARPAS-620', 'KASUMI-1', 'KATOIII', 'KCL-22',\n",
       "       'KE-37', 'KELLY', 'KG-1', 'KGN', 'KINGS-1', 'KLE', 'KM-H2', 'KM12',\n",
       "       'KMH-2', 'KMOE-2', 'KMRC-1', 'KMRC-20', 'KMS-11', 'KMS-12-BM',\n",
       "       'KNS-42', 'KNS-62', 'KNS-81-FD', 'KON', 'KOPN-8', 'KOSC-2',\n",
       "       'KP-1N', 'KP-2', 'KP-3', 'KP-4', 'KP-N-RT-BM-1', 'KP-N-YN',\n",
       "       'KP-N-YS', 'KS-1', 'KU-19-19', 'KU812', 'KURAMOCHI', 'KY821',\n",
       "       'KYAE-1', 'KYM-1', 'KYSE-140', 'KYSE-150', 'KYSE-180', 'KYSE-220',\n",
       "       'KYSE-270', 'KYSE-410', 'KYSE-450', 'KYSE-50', 'KYSE-510',\n",
       "       'KYSE-520', 'KYSE-70', 'L-1236', 'L-363', 'L-428', 'L-540',\n",
       "       'LAMA-84', 'LAN-6', 'LB1047-RCC', 'LB2241-RCC', 'LB2518-MEL',\n",
       "       'LB373-MEL-D', 'LB647-SCLC', 'LB771-HNC', 'LB831-BLC', 'LB996-RCC',\n",
       "       'LC-1-sq', 'LC-2-ad', 'LC4-1', 'LCLC-103H', 'LCLC-97TM1', 'LK-2',\n",
       "       'LN-18', 'LN-229', 'LN-405', 'LNCaP-Clone-FGC', 'LNZTA3WT4',\n",
       "       'LOU-NH91', 'LOUCY', 'LOXIMVI', 'LP-1', 'LS-1034', 'LS-123',\n",
       "       'LS-180', 'LS-411N', 'LS-513', 'LU-134-A', 'LU-135', 'LU-139',\n",
       "       'LU-165', 'LU-65', 'LU-99A', 'LXF-289', 'LoVo', 'M059J', 'M14',\n",
       "       'MC-IXC', 'MC116', 'MCF7', 'MDA-MB-157', 'MDA-MB-175-VII',\n",
       "       'MDA-MB-231', 'MDA-MB-330', 'MDA-MB-361', 'MDA-MB-415',\n",
       "       'MDA-MB-436', 'MDA-MB-453', 'MDA-MB-468', 'MDST8', 'ME-1',\n",
       "       'ME-180', 'MEG-01', 'MEL-HO', 'MEL-JUSO', 'MES-SA', 'MFE-280',\n",
       "       'MFE-296', 'MFE-319', 'MFH-ino', 'MFM-223', 'MG-63', 'MHH-CALL-2',\n",
       "       'MHH-CALL-4', 'MHH-ES-1', 'MHH-NB-11', 'MHH-PREB-1', 'MIA-PaCa-2',\n",
       "       'MKN1', 'MKN28', 'MKN45', 'MKN7', 'ML-1', 'ML-2', 'MLMA', 'MM1S',\n",
       "       'MMAc-SF', 'MN-60', 'MOG-G-CCM', 'MOG-G-UVW', 'MOLM-13', 'MOLM-16',\n",
       "       'MOLP-8', 'MOLT-13', 'MOLT-16', 'MOLT-4', 'MONO-MAC-6', 'MPP-89',\n",
       "       'MRK-nu-1', 'MS-1', 'MS751', 'MSTO-211H', 'MV-4-11', 'MY-M12',\n",
       "       'MZ1-PC', 'MZ2-MEL', 'MZ7-mel', 'Mewo', 'Mo-T', 'NALM-6',\n",
       "       'NAMALWA', 'NB(TU)1-10', 'NB1', 'NB10', 'NB12', 'NB13', 'NB14',\n",
       "       'NB17', 'NB4', 'NB5', 'NB6', 'NB69', 'NB7', 'NCC010', 'NCC021',\n",
       "       'NCCIT', 'NCI-H1048', 'NCI-H1092', 'NCI-H1105', 'NCI-H1155',\n",
       "       'NCI-H1299', 'NCI-H1341', 'NCI-H1355', 'NCI-H1435', 'NCI-H1436',\n",
       "       'NCI-H1437', 'NCI-H146', 'NCI-H1563', 'NCI-H1568', 'NCI-H1573',\n",
       "       'NCI-H1581', 'NCI-H1623', 'NCI-H1648', 'NCI-H1650', 'NCI-H1651',\n",
       "       'NCI-H1666', 'NCI-H1688', 'NCI-H1693', 'NCI-H1694', 'NCI-H1703',\n",
       "       'NCI-H1734', 'NCI-H1755', 'NCI-H1770', 'NCI-H1781', 'NCI-H1792',\n",
       "       'NCI-H1793', 'NCI-H1836', 'NCI-H1838', 'NCI-H1869', 'NCI-H1876',\n",
       "       'NCI-H1915', 'NCI-H1944', 'NCI-H196', 'NCI-H1963', 'NCI-H1975',\n",
       "       'NCI-H1993', 'NCI-H2009', 'NCI-H2023', 'NCI-H2029', 'NCI-H2030',\n",
       "       'NCI-H2052', 'NCI-H2066', 'NCI-H2081', 'NCI-H2085', 'NCI-H2087',\n",
       "       'NCI-H209', 'NCI-H211', 'NCI-H2110', 'NCI-H2122', 'NCI-H2135',\n",
       "       'NCI-H2141', 'NCI-H2170', 'NCI-H2171', 'NCI-H2172', 'NCI-H2196',\n",
       "       'NCI-H2227', 'NCI-H2228', 'NCI-H226', 'NCI-H2291', 'NCI-H23',\n",
       "       'NCI-H2342', 'NCI-H2347', 'NCI-H2369', 'NCI-H2373', 'NCI-H2405',\n",
       "       'NCI-H2444', 'NCI-H2452', 'NCI-H2461', 'NCI-H250', 'NCI-H2591',\n",
       "       'NCI-H2595', 'NCI-H2722', 'NCI-H2731', 'NCI-H2795', 'NCI-H28',\n",
       "       'NCI-H2803', 'NCI-H2804', 'NCI-H2810', 'NCI-H2818', 'NCI-H2869',\n",
       "       'NCI-H290', 'NCI-H292', 'NCI-H3118', 'NCI-H3122', 'NCI-H322M',\n",
       "       'NCI-H345', 'NCI-H358', 'NCI-H441', 'NCI-H446', 'NCI-H460',\n",
       "       'NCI-H508', 'NCI-H510A', 'NCI-H513', 'NCI-H520', 'NCI-H522',\n",
       "       'NCI-H524', 'NCI-H526', 'NCI-H596', 'NCI-H64', 'NCI-H647',\n",
       "       'NCI-H650', 'NCI-H660', 'NCI-H661', 'NCI-H69', 'NCI-H716',\n",
       "       'NCI-H720', 'NCI-H727', 'NCI-H740', 'NCI-H747', 'NCI-H748',\n",
       "       'NCI-H810', 'NCI-H82', 'NCI-H835', 'NCI-H838', 'NCI-H841',\n",
       "       'NCI-H847', 'NCI-H929', 'NCI-N87', 'NEC8', 'NH-12', 'NK-92MI',\n",
       "       'NKM-1', 'NMC-G1', 'NOMO-1', 'NOS-1', 'NTERA-2-cl-D1', 'NU-DUL-1',\n",
       "       'NUGC-3', 'NUGC-4', 'NY', 'OACM5-1', 'OACp4C', 'OAW-28', 'OAW-42',\n",
       "       'OC-314', 'OCI-AML2', 'OCI-AML3', 'OCI-AML5', 'OCI-LY-19',\n",
       "       'OCI-LY7', 'OCI-M1', 'OCUB-M', 'OCUM-1', 'OE19', 'OE21', 'OE33',\n",
       "       'OMC-1', 'ONS-76', 'OPM-2', 'OS-RC-2', 'OSC-19', 'OSC-20',\n",
       "       'OV-17R', 'OV-56', 'OV-7', 'OV-90', 'OVCA420', 'OVCA433',\n",
       "       'OVCAR-3', 'OVCAR-4', 'OVCAR-5', 'OVCAR-8', 'OVISE', 'OVK-18',\n",
       "       'OVKATE', 'OVMIU', 'OVTOKO', 'P12-ICHIKAWA', 'P30-OHK', 'P31-FUJ',\n",
       "       'P32-ISH', 'PA-1', 'PA-TU-8902', 'PA-TU-8988T', 'PANC-02-03',\n",
       "       'PANC-03-27', 'PANC-04-03', 'PANC-08-13', 'PANC-10-05', 'PC-14',\n",
       "       'PC-3', 'PC-3_[JPC-3]', 'PCI-15A', 'PCI-30', 'PCI-4B', 'PCI-6A',\n",
       "       'PE-CA-PJ15', 'PEO1', 'PF-382', 'PFSK-1', 'PL-21', 'PL4', 'PSN1',\n",
       "       'PWR-1E', 'QGP-1', 'QIMR-WIL', 'RC-K8', 'RCC-AB', 'RCC-ER',\n",
       "       'RCC-FG2', 'RCC-JF', 'RCC-JW', 'RCC-MF', 'RCC10RGB', 'RCH-ACV',\n",
       "       'RCM-1', 'RD', 'REH', 'RERF-GC-1B', 'RERF-LC-KJ', 'RERF-LC-MS',\n",
       "       'RERF-LC-Sq1', 'RF-48', 'RH-1', 'RH-18', 'RH-41', 'RKN', 'RKO',\n",
       "       'RL', 'RL95-2', 'RMG-I', 'RO82-W-1', 'ROS-50', 'RPMI-6666',\n",
       "       'RPMI-7951', 'RPMI-8226', 'RPMI-8402', 'RPMI-8866', 'RS4-11',\n",
       "       'RT-112', 'RT4', 'RVH-421', 'RXF393', 'Raji', 'Ramos-2G6-4C10',\n",
       "       'SAS', 'SAT', 'SBC-1', 'SBC-3', 'SBC-5', 'SCC-15', 'SCC-25',\n",
       "       'SCC-3', 'SCC-4', 'SCC-9', 'SCC90', 'SCH', 'SF126', 'SF268',\n",
       "       'SF295', 'SF539', 'SH-4', 'SHP-77', 'SIG-M5', 'SIMA', 'SISO',\n",
       "       'SJRH30', 'SJSA-1', 'SK-CO-1', 'SK-ES-1', 'SK-GT-2', 'SK-GT-4',\n",
       "       'SK-HEP-1', 'SK-LMS-1', 'SK-LU-1', 'SK-MEL-1', 'SK-MEL-2',\n",
       "       'SK-MEL-24', 'SK-MEL-28', 'SK-MEL-3', 'SK-MEL-30', 'SK-MEL-31',\n",
       "       'SK-MEL-5', 'SK-MES-1', 'SK-MG-1', 'SK-MM-2', 'SK-N-AS', 'SK-N-DZ',\n",
       "       'SK-N-FI', 'SK-N-SH', 'SK-OV-3', 'SK-PN-DW', 'SK-UT-1', 'SKG-IIIa',\n",
       "       'SKM-1', 'SKN', 'SKN-3', 'SLVL', 'SN12C', 'SNB75', 'SNG-M',\n",
       "       'SNU-1', 'SNU-1040', 'SNU-16', 'SNU-175', 'SNU-283', 'SNU-387',\n",
       "       'SNU-398', 'SNU-407', 'SNU-423', 'SNU-449', 'SNU-5', 'SNU-61',\n",
       "       'SNU-81', 'SNU-C1', 'SNU-C2B', 'SNU-C5', 'SR', 'ST486', 'STS-0421',\n",
       "       'SU-DHL-1', 'SU-DHL-10', 'SU-DHL-16', 'SU-DHL-4', 'SU-DHL-5',\n",
       "       'SU-DHL-6', 'SU-DHL-8', 'SU8686', 'SUIT-2', 'SUP-B15', 'SUP-B8',\n",
       "       'SUP-HD1', 'SUP-M2', 'SUP-T1', 'SW1088', 'SW1116', 'SW1271',\n",
       "       'SW13', 'SW1417', 'SW1463', 'SW156', 'SW1573', 'SW1710', 'SW1783',\n",
       "       'SW1990', 'SW48', 'SW620', 'SW626', 'SW684', 'SW756', 'SW780',\n",
       "       'SW837', 'SW872', 'SW948', 'SW954', 'SW962', 'SW982', 'Saos-2',\n",
       "       'SiHa', 'T-T', 'T24', 'T47D', 'T84', 'T98G', 'TALL-1', 'TC-71',\n",
       "       'TC-YIK', 'TCCSUP', 'TE-1', 'TE-10', 'TE-11', 'TE-12', 'TE-15',\n",
       "       'TE-4', 'TE-441-T', 'TE-5', 'TE-6', 'TE-8', 'TE-9', 'TGBC11TKB',\n",
       "       'TGBC1TKB', 'TGBC24TKB', 'TGW', 'THP-1', 'TK', 'TK10', 'TMK-1',\n",
       "       'TOV-112D', 'TOV-21G', 'TT', 'TT2609-C02', 'TUR', 'TYK-nu',\n",
       "       'U-118-MG', 'U-2-OS', 'U-266', 'U-698-M', 'U-87-MG', 'U-CH2',\n",
       "       'U031', 'U251', 'UACC-257', 'UACC-62', 'UACC-812', 'UACC-893',\n",
       "       'UM-UC-3', 'UMC-11', 'UWB1.289', 'VA-ES-BJ', 'VAL', 'VCaP',\n",
       "       'VMRC-LCD', 'VMRC-MELG', 'VMRC-RCW', 'VMRC-RCZ', 'WIL2-NS',\n",
       "       'WM-115', 'WM1552C', 'WM278', 'WM35', 'WM793B', 'WSU-DLCL2',\n",
       "       'WSU-NHL', 'YAPC', 'YH-13', 'YKG-1', 'YMB-1-E', 'YT', 'ZR-75-30',\n",
       "       'huH-1', 'no-10', 'no-11'], dtype=object), n_drug=286, drug_name=array(['123138', '123829', '150412', '5-Fluorouracil', '5-azacytidine',\n",
       "       '50869', '615590', '630600', '667880', '720427', '729189',\n",
       "       '741909', '743380', '765771', '776928', 'A-366', 'ABT737',\n",
       "       'AGI-5198', 'AGI-6780', 'AGK2', 'AMG-319', 'AT13148', 'AZ6102',\n",
       "       'AZ960', 'AZD1208', 'AZD1332', 'AZD2014', 'AZD3759', 'AZD4547',\n",
       "       'AZD5153', 'AZD5363', 'AZD5438', 'AZD5582', 'AZD5991', 'AZD6738',\n",
       "       'AZD7762', 'AZD8055', 'AZD8186', 'Acetalax', 'Afatinib',\n",
       "       'Afuresertib', 'Alisertib', 'Alpelisib', 'Avagacestat', 'Axitinib',\n",
       "       'BDF00022089a', 'BDILV000379a', 'BDOCA000347a', 'BDP-00009066',\n",
       "       'BEN', 'BI-2536', 'BIBR-1532', 'BMS-345541', 'BMS-536924',\n",
       "       'BMS-754807', 'BPD-00008900', 'Bleomycin', 'Bleomycin (50 uM)',\n",
       "       'Bortezomib', 'Bosutinib', 'Bromosporine', 'Buparlisib',\n",
       "       'CCT007093', 'CDK9_5038', 'CDK9_5576', 'CPI-637', 'CT7033-2',\n",
       "       'CZC24832', 'Camptothecin', 'Cediranib', 'Cisplatin', 'Crizotinib',\n",
       "       'Cyclophosphamide', 'Cytarabine', 'Dabrafenib', 'Dacarbazine',\n",
       "       'Dactinomycin', 'Dactolisib', 'Daporinad', 'Dasatinib',\n",
       "       'Dihydrorotenone', 'Dinaciclib', 'Docetaxel', 'Doramapimod',\n",
       "       'EHT-1864', 'EPZ004777', 'EPZ5676', 'ERK_2440', 'ERK_6604',\n",
       "       'Eg5_9814', 'Elephantin', 'Entinostat', 'Entospletinib',\n",
       "       'Epirubicin', 'Erlotinib', 'Fludarabine', 'Foretinib',\n",
       "       'Fulvestrant', 'GDC0810', 'GNE-317', 'GSK-LSD1', 'GSK-LSD1-2HCl ',\n",
       "       'GSK1904529A', 'GSK2110183B', 'GSK2256098C', 'GSK2276186C',\n",
       "       'GSK2578215A', 'GSK2606414', 'GSK2801', 'GSK2830371',\n",
       "       'GSK2830371A', 'GSK3337463A', 'GSK343', 'GSK591', 'GSK626616AC',\n",
       "       'GW441756', 'Gallibiscoquinazole', 'Gefitinib', 'Gemcitabine',\n",
       "       'HKMTI-1-005', 'I-BET-762', 'I-BRD9', 'IAP_5620', 'ICL-SIRT078',\n",
       "       'IGF1R_3801', 'IRAK4_4710', 'IWP-2', 'Ibrutinib', 'Ipatasertib',\n",
       "       'Irinotecan', 'JAK1_8709', 'JAK_8517', 'JNK Inhibitor VIII', 'JQ1',\n",
       "       'KRAS (G12C) Inhibitor-12', 'KU-55933', 'L-Oxonoreleagnine',\n",
       "       'LCL161', 'LGK974', 'LJI308', 'LMB_AB1', 'LMB_AB2', 'LMB_AB3',\n",
       "       'LMP744', 'LY2109761', 'Lapatinib', 'Leflunomide', 'Lenalidomide',\n",
       "       'Lestaurtinib', 'Linsitinib', 'Luminespib', 'MG-132', 'MIM1',\n",
       "       'MIRA-1', 'MK-1775', 'MK-2206', 'MK-8776', 'ML323', 'MN-64',\n",
       "       'Methotrexate', 'Mirin', 'Mitoxantrone', 'Motesanib',\n",
       "       'Mycophenolic acid', 'N-acetyl cysteine', 'N25720-51-A1',\n",
       "       'N27922-53-1', 'N29087-69-1', 'N30652-18-1', 'NU7441',\n",
       "       'NVP-ADW742', 'Navitoclax', 'Nelarabine', 'Nilotinib', 'Niraparib',\n",
       "       'Nutlin-3a (-)', 'OF-1', 'OSI-027', 'OTX015', 'Obatoclax Mesylate',\n",
       "       'Olaparib', 'Osimertinib', 'Oxaliplatin', 'P22077', 'PAK_5339',\n",
       "       'PBD-288', 'PCI-34051', 'PD0325901', 'PD173074', 'PFI-1', 'PFI3',\n",
       "       'PLX-4720', 'POMHEX', 'PRIMA-1MET', 'PRT062607', 'Paclitaxel',\n",
       "       'Palbociclib', 'Pevonedistat', 'Picolinici-acid', 'Pictilisib',\n",
       "       'Podophyllotoxin bromide', 'Pyridostatin', 'RO-3306', 'RVX-208',\n",
       "       'Rapamycin', 'Refametinib', 'Ribociclib', 'Romidepsin',\n",
       "       'Rucaparib', 'Ruxolitinib', 'SB216763', 'SB590885', 'SCH772984',\n",
       "       'SGC-CBP30', 'SGC0946', 'SN-38', 'Sabutoclax', 'Sapitinib',\n",
       "       'Savolitinib', 'Schweinfurthin A', 'Selumetinib',\n",
       "       'Sepantronium bromide', 'Serdemetan', 'Sinularin', 'Sorafenib',\n",
       "       'Staurosporine', 'TAF1_5496', 'THR-101', 'THR-102', 'THR-103',\n",
       "       'TW 37', 'Talazoparib', 'Tamoxifen', 'Tanespimycin', 'Taselisib',\n",
       "       'Telomerase Inhibitor IX', 'Temozolomide', 'Temsirolimus',\n",
       "       'Teniposide', 'Topotecan', 'Trametinib', 'ULK1_4989', 'UMI-77',\n",
       "       'UNC0379', 'UNC0638', 'Ulixertinib', 'Uprosertib', 'VE-822',\n",
       "       'VE821', 'VSP34_8731', 'VTP-A', 'VTP-B', 'VX-11e', 'Veliparib',\n",
       "       'Venetoclax', 'Vinblastine', 'Vinorelbine', 'Vismodegib',\n",
       "       'Vorinostat', 'WEHI-539', 'WIKI4', 'WZ4003', 'Wee1 Inhibitor',\n",
       "       'Wnt-C59', 'XAV939', 'YK-4-279', 'ZM447439', 'Zoledronate',\n",
       "       'alpha-lipoic acid', 'ascorbate (vitamin C)', 'glutathione',\n",
       "       'Remodelin', 'AZD6482', 'BX795', 'Bicalutamide', 'CCT-018159',\n",
       "       'CHIR-99021', 'Elesclomol', 'GSK269962A', 'IOX2', 'PF-4708671',\n",
       "       'Piperlongumine', 'SB505124', 'SL0101', 'Tozasertib', 'Tretinoin'],\n",
       "      dtype=object), metadata=array(['cosmic_id', 'cell_line_name', 'sanger_model_id', 'drug_id',\n",
       "       'drug_name', 'ln_ic50', 'auc'], dtype=object), reference_id=['cell_line_name', 'sanger_model_id', 'cosmic_id'], reference_id_example='cell_line_name: PFSK-1 | sanger_model_id: SIDM01132 | cosmic_id: 683667', default_parameter={'gdsc_dataset': '1', 'query_id': 'cell_line_name', 'reference_id': 'cell_line_name', 'query_perturbation': 'perturbation', 'reference_perturbation': 'drug_name'})"
      ]
     },
     "execution_count": 28,
     "metadata": {},
     "output_type": "execute_result"
    }
   ],
   "source": [
    "cl_lookup.drug_response.gdsc2"
   ]
  },
  {
   "cell_type": "code",
   "execution_count": 29,
   "id": "da079cfa",
   "metadata": {},
   "outputs": [
    {
     "data": {
      "text/html": [
       "<pre style=\"white-space:pre;overflow-x:auto;line-height:normal;font-family:Menlo,'DejaVu Sans Mono',consolas,'Courier New',monospace\"><span style=\"color: #008080; text-decoration-color: #008080; font-weight: bold\">0</span> cell lines are not found in the metadata.\n",
       "</pre>\n"
      ],
      "text/plain": [
       "\u001b[1;36m0\u001b[0m cell lines are not found in the metadata.\n"
      ]
     },
     "metadata": {},
     "output_type": "display_data"
    },
    {
     "data": {
      "text/html": [
       "<pre style=\"white-space:pre;overflow-x:auto;line-height:normal;font-family:Menlo,'DejaVu Sans Mono',consolas,'Courier New',monospace\"><span style=\"color: #008080; text-decoration-color: #008080; font-weight: bold\">1</span> cell lines are found! \n",
       "</pre>\n"
      ],
      "text/plain": [
       "\u001b[1;36m1\u001b[0m cell lines are found! \n"
      ]
     },
     "metadata": {},
     "output_type": "display_data"
    }
   ],
   "source": [
    "cl_lookup.available_drug_response(query_id_list=adata_dialogue.obs['cell_line_name'].unique())"
   ]
  }
 ],
 "metadata": {
  "kernelspec": {
   "display_name": "Python 3 (ipykernel)",
   "language": "python",
   "name": "python3"
  },
  "language_info": {
   "codemirror_mode": {
    "name": "ipython",
    "version": 3
   },
   "file_extension": ".py",
   "mimetype": "text/x-python",
   "name": "python",
   "nbconvert_exporter": "python",
   "pygments_lexer": "ipython3",
   "version": "3.9.15"
  }
 },
 "nbformat": 4,
 "nbformat_minor": 5
}
