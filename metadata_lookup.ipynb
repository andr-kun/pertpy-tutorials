{
 "cells": [
  {
   "cell_type": "code",
   "execution_count": 1,
   "id": "e9d81865",
   "metadata": {},
   "outputs": [
    {
     "name": "stderr",
     "output_type": "stream",
     "text": [
      "Global seed set to 0\n"
     ]
    },
    {
     "data": {
      "text/html": [
       "<pre style=\"white-space:pre;overflow-x:auto;line-height:normal;font-family:Menlo,'DejaVu Sans Mono',consolas,'Courier New',monospace\"><span style=\"color: #808000; text-decoration-color: #808000; font-weight: bold\">ryp2 is not installed. Install with </span><span style=\"color: #008000; text-decoration-color: #008000; font-weight: bold\">pip install rpy2 </span><span style=\"color: #808000; text-decoration-color: #808000; font-weight: bold\">to run tools with R support.</span>\n",
       "</pre>\n"
      ],
      "text/plain": [
       "\u001b[1;33mryp2 is not installed. Install with \u001b[0m\u001b[1;32mpip install rpy2 \u001b[0m\u001b[1;33mto run tools with R support.\u001b[0m\n"
      ]
     },
     "metadata": {},
     "output_type": "display_data"
    },
    {
     "data": {
      "text/html": [
       "<pre style=\"white-space:pre;overflow-x:auto;line-height:normal;font-family:Menlo,'DejaVu Sans Mono',consolas,'Courier New',monospace\"><span style=\"color: #808000; text-decoration-color: #808000; font-weight: bold\">To use sccoda or tasccoda please install ete3 with </span><span style=\"color: #008000; text-decoration-color: #008000; font-weight: bold\">pip install ete3</span>\n",
       "</pre>\n"
      ],
      "text/plain": [
       "\u001b[1;33mTo use sccoda or tasccoda please install ete3 with \u001b[0m\u001b[1;32mpip install ete3\u001b[0m\n"
      ]
     },
     "metadata": {},
     "output_type": "display_data"
    }
   ],
   "source": [
    "import pertpy as pt\n",
    "import scanpy as sc\n",
    "import pandas as pd"
   ]
  },
  {
   "attachments": {},
   "cell_type": "markdown",
   "id": "fe4a34ac",
   "metadata": {},
   "source": [
    "This notebook is mainly used to discore the CellLineMetaData.lookup function in pertpy. In general, the lookup object with following functions:\n",
    "- Summarize the metadata in the database, e.g. the number of cell lines, the number of genes/proteins measured\n",
    "- Give an overview of the possible reference_id (cell line identifiers in the metadata)\n",
    "- Given a list of unique query_id (cell line identifiers in the adata.obs) for the cell, return the number of matched identifiers in the metadata"
   ]
  },
  {
   "cell_type": "code",
   "execution_count": 2,
   "id": "theoretical-diameter",
   "metadata": {},
   "outputs": [
    {
     "data": {
      "text/plain": [
       "AnnData object with n_obs × n_vars = 5374 × 6329\n",
       "    obs: 'nCount_RNA', 'nFeature_RNA', 'cellQ', 'gender', 'location', 'clinical.status', 'cell.subtypes', 'pathology', 'origin', 'subset'\n",
       "    var: 'name'"
      ]
     },
     "execution_count": 2,
     "metadata": {},
     "output_type": "execute_result"
    }
   ],
   "source": [
    "# here we use two adata as example\n",
    "adata_dialogue = pt.dt.dialogue_example() \n",
    "adata_dialogue"
   ]
  },
  {
   "cell_type": "code",
   "execution_count": 3,
   "id": "b19b63ad",
   "metadata": {},
   "outputs": [],
   "source": [
    "adata_dialogue.obs['cell_line_name'] = 'MCF7'"
   ]
  },
  {
   "cell_type": "code",
   "execution_count": 4,
   "id": "d6511ef8",
   "metadata": {},
   "outputs": [
    {
     "data": {
      "text/plain": [
       "AnnData object with n_obs × n_vars = 182875 × 32738\n",
       "    obs: 'DepMap_ID', 'cancer', 'cell_det_rate', 'cell_line', 'cell_quality', 'channel', 'disease', 'dose_unit', 'dose_value', 'doublet_CL1', 'doublet_CL2', 'doublet_GMM_prob', 'doublet_dev_imp', 'doublet_z_margin', 'hash_assignment', 'hash_tag', 'num_SNPs', 'organism', 'percent.mito', 'perturbation', 'perturbation_type', 'sex', 'singlet_ID', 'singlet_dev', 'singlet_dev_z', 'singlet_margin', 'singlet_z_margin', 'time', 'tissue_type', 'tot_reads', 'nperts', 'ngenes', 'ncounts', 'percent_mito', 'percent_ribo', 'chembl-ID'\n",
       "    var: 'ensembl_id', 'ncounts', 'ncells'"
      ]
     },
     "execution_count": 4,
     "metadata": {},
     "output_type": "execute_result"
    }
   ],
   "source": [
    "adata_mc = pt.dt.mcfarland_2020()\n",
    "adata_mc"
   ]
  },
  {
   "cell_type": "code",
   "execution_count": 5,
   "id": "cardiac-precipitation",
   "metadata": {},
   "outputs": [],
   "source": [
    "# create the metadata object\n",
    "pt_metadata = pt.tl.CellLineMetaData()"
   ]
  },
  {
   "cell_type": "code",
   "execution_count": 6,
   "id": "b04428d7",
   "metadata": {},
   "outputs": [],
   "source": [
    "# In order to annotate cell line metadata, \n",
    "# we can create a LookUp object specific for CellLineMetaData by calling lookup()\n",
    "cl_lookup = pt_metadata.lookup()"
   ]
  },
  {
   "cell_type": "code",
   "execution_count": 9,
   "id": "9979c151",
   "metadata": {},
   "outputs": [
    {
     "name": "stdout",
     "output_type": "stream",
     "text": [
      "To summarize: in the DepMap cell line annotation you can find: \n",
      "1840 cell lines\n",
      "29 meta data, including \n",
      "- DepMap_ID\n",
      "- cell_line_name\n",
      "- stripped_cell_line_name\n",
      "- CCLE_Name\n",
      "- alias\n",
      "- COSMICID\n",
      "- sex\n",
      "- source\n",
      "- RRID\n",
      "- WTSI_Master_Cell_ID\n",
      "- sample_collection_site\n",
      "- primary_or_metastasis\n",
      "- primary_disease\n",
      "- Subtype\n",
      "- age\n",
      "- Sanger_Model_ID\n",
      "- depmap_public_comments\n",
      "- lineage\n",
      "- lineage_subtype\n",
      "- lineage_sub_subtype\n",
      "- lineage_molecular_subtype\n",
      "- default_growth_pattern\n",
      "- model_manipulation\n",
      "- model_manipulation_details\n",
      "- patient_id\n",
      "- parent_depmap_id\n",
      "- Cellosaurus_NCIt_disease\n",
      "- Cellosaurus_NCIt_id\n",
      "- Cellosaurus_issues\n",
      "Overview of possible cell line reference identifiers: \n",
      "    DepMap_ID cell_line_name stripped_cell_line_name                                    CCLE_Name\n",
      "0  ACH-000016         SLR 21                   SLR21                                 SLR21_KIDNEY\n",
      "1  ACH-000032     MHH-CALL-3                MHHCALL3  MHHCALL3_HAEMATOPOIETIC_AND_LYMPHOID_TISSUE\n",
      "2  ACH-000033      NCI-H1819                NCIH1819                                NCIH1819_LUNG\n",
      "3  ACH-000043       Hs 895.T                  HS895T                            HS895T_FIBROBLAST\n",
      "4  ACH-000049         HEK TE                   HEKTE                                 HEKTE_KIDNEY\n",
      "Default parameters to annotate cell line metadata: \n",
      "- cell_line_source: DepMap\n",
      "- query_id: DepMap_ID\n",
      "- reference_id: DepMap_ID\n",
      "- cell_line_information: None\n"
     ]
    }
   ],
   "source": [
    "# As default, the function is named after the type of meta data to fetch. It has following features:\n",
    "## summarizes the available meta data for the specified source\n",
    "## gives an overview of the available reference id which we can use in the meta data\n",
    "## prints the default parameter of the function\n",
    "cl_lookup.cell_lines()"
   ]
  },
  {
   "cell_type": "code",
   "execution_count": 10,
   "id": "f95446b8",
   "metadata": {},
   "outputs": [
    {
     "name": "stdout",
     "output_type": "stream",
     "text": [
      "To summarize: in the cell line annotation from the project Genomics of Drug Sensitivity in Cancer you can find: \n",
      "978 cell lines\n",
      "9 meta data, including \n",
      "- TCGA Classfication\n",
      "- Model ID\n",
      "- Tissue\n",
      "- COSMIC ID\n",
      "- Tissue sub-type\n",
      "- stripped_cell_line_name\n",
      "- cell_line_name\n",
      "- GDSC1\n",
      "- GDSC2\n",
      "Overview of possible cell line reference identifiers: \n",
      "  cell_line_name stripped_cell_line_name   Model ID  COSMIC ID\n",
      "0        SNU-283                  SNU283  SIDM00215    1659929\n",
      "1     MHH-CALL-4                MHHCALL4  SIDM00376     908133\n",
      "2           SC-1                     SC1  SIDM00400    1331030\n",
      "3          NCCIT                   NCCIT  SIDM00655     908441\n",
      "4       BONNA-12                 BONNA12  SIDM00984     906695\n",
      "Default is to annotate cell line meta data from DepMap database. \n",
      "However, to annotate cell line meta data from the project Genomics of Drug Sensitivity in Cancer, \n",
      "Default parameters are:\n",
      "- query_id: stripped_cell_line_name\n",
      "- reference_id: stripped_cell_line_name\n",
      "- cell_line_information: None\n"
     ]
    }
   ],
   "source": [
    "cl_lookup.cell_lines(cell_line_source = \"Cancerrxgene\")\n",
    "# for Cancerrxgene, we use stripped_cell_line_name as default reference identifier"
   ]
  },
  {
   "cell_type": "code",
   "execution_count": 11,
   "id": "ae4b0f31",
   "metadata": {},
   "outputs": [
    {
     "name": "stdout",
     "output_type": "stream",
     "text": [
      "To summarize: in the DepMap cell line annotation you can find: \n",
      "1840 cell lines\n",
      "29 meta data, including \n",
      "- DepMap_ID\n",
      "- cell_line_name\n",
      "- stripped_cell_line_name\n",
      "- CCLE_Name\n",
      "- alias\n",
      "- COSMICID\n",
      "- sex\n",
      "- source\n",
      "- RRID\n",
      "- WTSI_Master_Cell_ID\n",
      "- sample_collection_site\n",
      "- primary_or_metastasis\n",
      "- primary_disease\n",
      "- Subtype\n",
      "- age\n",
      "- Sanger_Model_ID\n",
      "- depmap_public_comments\n",
      "- lineage\n",
      "- lineage_subtype\n",
      "- lineage_sub_subtype\n",
      "- lineage_molecular_subtype\n",
      "- default_growth_pattern\n",
      "- model_manipulation\n",
      "- model_manipulation_details\n",
      "- patient_id\n",
      "- parent_depmap_id\n",
      "- Cellosaurus_NCIt_disease\n",
      "- Cellosaurus_NCIt_id\n",
      "- Cellosaurus_issues\n",
      "Overview of possible cell line reference identifiers: \n",
      "    DepMap_ID cell_line_name stripped_cell_line_name                                    CCLE_Name\n",
      "0  ACH-000016         SLR 21                   SLR21                                 SLR21_KIDNEY\n",
      "1  ACH-000032     MHH-CALL-3                MHHCALL3  MHHCALL3_HAEMATOPOIETIC_AND_LYMPHOID_TISSUE\n",
      "2  ACH-000033      NCI-H1819                NCIH1819                                NCIH1819_LUNG\n",
      "3  ACH-000043       Hs 895.T                  HS895T                            HS895T_FIBROBLAST\n",
      "4  ACH-000049         HEK TE                   HEKTE                                 HEKTE_KIDNEY\n",
      "Default parameters to annotate cell line metadata: \n",
      "- cell_line_source: DepMap\n",
      "- query_id: DepMap_ID\n",
      "- reference_id: DepMap_ID\n",
      "- cell_line_information: None\n",
      "0 cell lines are not found in the metadata.\n",
      "1 cell lines are found! \n"
     ]
    }
   ],
   "source": [
    "# you can also give a list of unique query ids to test how many cell lines are matched in the metad data\n",
    "# Sometimes the result is different depending on the identifier and the source of cell line annotation you choose\n",
    "cl_lookup.cell_lines(query_id_list=adata_dialogue.obs['cell_line_name'].unique(), reference_id=\"cell_line_name\") # Default reference_id is DepMap_ID"
   ]
  },
  {
   "cell_type": "code",
   "execution_count": 12,
   "id": "cabdafb8",
   "metadata": {},
   "outputs": [
    {
     "name": "stdout",
     "output_type": "stream",
     "text": [
      "To summarize: in the DepMap cell line annotation you can find: \n",
      "1840 cell lines\n",
      "29 meta data, including \n",
      "- DepMap_ID\n",
      "- cell_line_name\n",
      "- stripped_cell_line_name\n",
      "- CCLE_Name\n",
      "- alias\n",
      "- COSMICID\n",
      "- sex\n",
      "- source\n",
      "- RRID\n",
      "- WTSI_Master_Cell_ID\n",
      "- sample_collection_site\n",
      "- primary_or_metastasis\n",
      "- primary_disease\n",
      "- Subtype\n",
      "- age\n",
      "- Sanger_Model_ID\n",
      "- depmap_public_comments\n",
      "- lineage\n",
      "- lineage_subtype\n",
      "- lineage_sub_subtype\n",
      "- lineage_molecular_subtype\n",
      "- default_growth_pattern\n",
      "- model_manipulation\n",
      "- model_manipulation_details\n",
      "- patient_id\n",
      "- parent_depmap_id\n",
      "- Cellosaurus_NCIt_disease\n",
      "- Cellosaurus_NCIt_id\n",
      "- Cellosaurus_issues\n",
      "Overview of possible cell line reference identifiers: \n",
      "    DepMap_ID cell_line_name stripped_cell_line_name                                    CCLE_Name\n",
      "0  ACH-000016         SLR 21                   SLR21                                 SLR21_KIDNEY\n",
      "1  ACH-000032     MHH-CALL-3                MHHCALL3  MHHCALL3_HAEMATOPOIETIC_AND_LYMPHOID_TISSUE\n",
      "2  ACH-000033      NCI-H1819                NCIH1819                                NCIH1819_LUNG\n",
      "3  ACH-000043       Hs 895.T                  HS895T                            HS895T_FIBROBLAST\n",
      "4  ACH-000049         HEK TE                   HEKTE                                 HEKTE_KIDNEY\n",
      "Default parameters to annotate cell line metadata: \n",
      "- cell_line_source: DepMap\n",
      "- query_id: DepMap_ID\n",
      "- reference_id: DepMap_ID\n",
      "- cell_line_information: None\n",
      "0 cell lines are not found in the metadata.\n",
      "209 cell lines are found! \n"
     ]
    }
   ],
   "source": [
    "cl_lookup.cell_lines(query_id_list=adata_mc.obs['DepMap_ID'].unique())"
   ]
  },
  {
   "cell_type": "code",
   "execution_count": 13,
   "id": "d215a724",
   "metadata": {},
   "outputs": [
    {
     "name": "stdout",
     "output_type": "stream",
     "text": [
      "To summarize: in the cell line annotation from the project Genomics of Drug Sensitivity in Cancer you can find: \n",
      "978 cell lines\n",
      "9 meta data, including \n",
      "- TCGA Classfication\n",
      "- Model ID\n",
      "- Tissue\n",
      "- COSMIC ID\n",
      "- Tissue sub-type\n",
      "- stripped_cell_line_name\n",
      "- cell_line_name\n",
      "- GDSC1\n",
      "- GDSC2\n",
      "Overview of possible cell line reference identifiers: \n",
      "  cell_line_name stripped_cell_line_name   Model ID  COSMIC ID\n",
      "0        SNU-283                  SNU283  SIDM00215    1659929\n",
      "1     MHH-CALL-4                MHHCALL4  SIDM00376     908133\n",
      "2           SC-1                     SC1  SIDM00400    1331030\n",
      "3          NCCIT                   NCCIT  SIDM00655     908441\n",
      "4       BONNA-12                 BONNA12  SIDM00984     906695\n",
      "Default is to annotate cell line meta data from DepMap database. \n",
      "However, to annotate cell line meta data from the project Genomics of Drug Sensitivity in Cancer, \n",
      "Default parameters are:\n",
      "- query_id: stripped_cell_line_name\n",
      "- reference_id: stripped_cell_line_name\n",
      "- cell_line_information: None\n",
      "To annotate cell line metadata from Cancerrxgene,  we use `stripped_cell_line_name` as reference indentifier. \n",
      "209 cell lines are not found in the metadata.\n",
      "0 cell lines are found! \n"
     ]
    }
   ],
   "source": [
    "cl_lookup.cell_lines(query_id_list=adata_mc.obs['DepMap_ID'].unique(), cell_line_source=\"Cancerrxgene\")\n",
    "# DepMap_ID is not available for Cancerrxgene, stripped_cell_line_name is used as default"
   ]
  },
  {
   "cell_type": "code",
   "execution_count": 14,
   "id": "c0e098c5",
   "metadata": {},
   "outputs": [
    {
     "name": "stdout",
     "output_type": "stream",
     "text": [
      "To summarize: in the RNA-Seq Data for broad cell line only, you can find: \n",
      "925 cell lines\n",
      "37263 genes\n",
      "5 meta data, including \n",
      "- model_id\n",
      "- model_name\n",
      "- gene_id\n",
      "- read_count\n",
      "- fpkm\n",
      "Overview of possible cell line reference identifiers: \n",
      "    model_id model_name\n",
      "0  SIDM00499      22RV1\n",
      "1  SIDM00499      22RV1\n",
      "2  SIDM00499      22RV1\n",
      "3  SIDM00499      22RV1\n",
      "4  SIDM00499      22RV1\n",
      "Default parameters to annotate bulk RNA expression: \n",
      "- query_id: cell_line_name\n",
      "- reference_id: model_name\n",
      "- cell_line_source: broad\n",
      "- bulk_rna_information: read_count\n"
     ]
    }
   ],
   "source": [
    "# We can do the same for the bulk RNA expression annotation\n",
    "cl_lookup.bulk_rna_expression()"
   ]
  },
  {
   "cell_type": "code",
   "execution_count": 15,
   "id": "d28a00db",
   "metadata": {},
   "outputs": [
    {
     "name": "stdout",
     "output_type": "stream",
     "text": [
      "To summarize: in the RNA-Seq Data for Sanger cell line only, you can find: \n",
      "442 cell lines\n",
      "37263 genes\n",
      "5 meta data, including \n",
      "- model_id\n",
      "- model_name\n",
      "- gene_id\n",
      "- read_count\n",
      "- fpkm\n",
      "Overview of possible cell line reference identifiers: \n",
      "    model_id model_name\n",
      "0  SIDM01240      451Lu\n",
      "1  SIDM01240      451Lu\n",
      "2  SIDM01240      451Lu\n",
      "3  SIDM01240      451Lu\n",
      "4  SIDM01240      451Lu\n",
      "Default parameters to annotate bulk RNA expression: \n",
      "- query_id: cell_line_name\n",
      "- reference_id: model_name\n",
      "- cell_line_source: broad\n",
      "- bulk_rna_information: read_count\n"
     ]
    }
   ],
   "source": [
    "cl_lookup.bulk_rna_expression(cell_line_source=\"sanger\")"
   ]
  },
  {
   "cell_type": "code",
   "execution_count": 16,
   "id": "81274fe1",
   "metadata": {},
   "outputs": [
    {
     "name": "stdout",
     "output_type": "stream",
     "text": [
      "To summarize: in the RNA-Seq Data for broad cell line only, you can find: \n",
      "925 cell lines\n",
      "37263 genes\n",
      "5 meta data, including \n",
      "- model_id\n",
      "- model_name\n",
      "- gene_id\n",
      "- read_count\n",
      "- fpkm\n",
      "Overview of possible cell line reference identifiers: \n",
      "    model_id model_name\n",
      "0  SIDM00499      22RV1\n",
      "1  SIDM00499      22RV1\n",
      "2  SIDM00499      22RV1\n",
      "3  SIDM00499      22RV1\n",
      "4  SIDM00499      22RV1\n",
      "Default parameters to annotate bulk RNA expression: \n",
      "- query_id: cell_line_name\n",
      "- reference_id: model_name\n",
      "- cell_line_source: broad\n",
      "- bulk_rna_information: read_count\n",
      "0 cell lines are not found in the metadata.\n",
      "1 cell lines are found! \n"
     ]
    }
   ],
   "source": [
    "cl_lookup.bulk_rna_expression(cell_line_source = \"broad\",\n",
    "                                       query_id_list = adata_dialogue.obs['cell_line_name'].unique())"
   ]
  },
  {
   "cell_type": "code",
   "execution_count": 17,
   "id": "bfcb5a95",
   "metadata": {},
   "outputs": [
    {
     "name": "stdout",
     "output_type": "stream",
     "text": [
      "To summarize: in the RNA-Seq Data for Sanger cell line only, you can find: \n",
      "442 cell lines\n",
      "37263 genes\n",
      "5 meta data, including \n",
      "- model_id\n",
      "- model_name\n",
      "- gene_id\n",
      "- read_count\n",
      "- fpkm\n",
      "Overview of possible cell line reference identifiers: \n",
      "    model_id model_name\n",
      "0  SIDM01240      451Lu\n",
      "1  SIDM01240      451Lu\n",
      "2  SIDM01240      451Lu\n",
      "3  SIDM01240      451Lu\n",
      "4  SIDM01240      451Lu\n",
      "Default parameters to annotate bulk RNA expression: \n",
      "- query_id: cell_line_name\n",
      "- reference_id: model_name\n",
      "- cell_line_source: broad\n",
      "- bulk_rna_information: read_count\n",
      "1 cell lines are not found in the metadata.\n",
      "0 cell lines are found! \n"
     ]
    }
   ],
   "source": [
    "cl_lookup.bulk_rna_expression(cell_line_source = \"sanger\",\n",
    "                                       query_id_list = adata_dialogue.obs['cell_line_name'].unique())"
   ]
  },
  {
   "cell_type": "code",
   "execution_count": 18,
   "id": "d976610e",
   "metadata": {},
   "outputs": [
    {
     "name": "stdout",
     "output_type": "stream",
     "text": [
      "To summarize: in the RNA-Seq Data for broad cell line only, you can find: \n",
      "925 cell lines\n",
      "37263 genes\n",
      "5 meta data, including \n",
      "- model_id\n",
      "- model_name\n",
      "- gene_id\n",
      "- read_count\n",
      "- fpkm\n",
      "Overview of possible cell line reference identifiers: \n",
      "    model_id model_name\n",
      "0  SIDM00499      22RV1\n",
      "1  SIDM00499      22RV1\n",
      "2  SIDM00499      22RV1\n",
      "3  SIDM00499      22RV1\n",
      "4  SIDM00499      22RV1\n",
      "Default parameters to annotate bulk RNA expression: \n",
      "- query_id: cell_line_name\n",
      "- reference_id: model_name\n",
      "- cell_line_source: broad\n",
      "- bulk_rna_information: read_count\n",
      "209 cell lines are not found in the metadata.\n",
      "0 cell lines are found! \n"
     ]
    }
   ],
   "source": [
    "# For another dataset\n",
    "# we can not find matched cell lines in the meta data\n",
    "# What we can do is to annotate cell line metadata though annotate_cell_line to see whether we can get more possible cell line identifiers\n",
    "# In this notebook we only focus on lookup function, so we dont call annotate_cell_line\n",
    "cl_lookup.bulk_rna_expression(cell_line_source = \"broad\", reference_id = \"model_id\",\n",
    "                                       query_id_list = adata_mc.obs['DepMap_ID'].unique())"
   ]
  },
  {
   "cell_type": "code",
   "execution_count": 19,
   "id": "69993001",
   "metadata": {},
   "outputs": [
    {
     "name": "stdout",
     "output_type": "stream",
     "text": [
      "To summarize: in the proteomics data you can find: \n",
      "948 cell lines\n",
      "8457 proteins\n",
      "6 meta data, including \n",
      "- uniprot_id\n",
      "- model_id\n",
      "- model_name\n",
      "- protein_intensity\n",
      "- zscore\n",
      "- symbol\n",
      "Overview of possible cell line reference identifiers: \n",
      "    model_id model_name\n",
      "0  SIDM00483    SK-GT-4\n",
      "1  SIDM00689        JM1\n",
      "2  SIDM01259      GR-ST\n",
      "3  SIDM00846       HeLa\n",
      "4  SIDM00958     CML-T1\n",
      "Default parameters to annotate protein expression: \n",
      "- query_id: cell_line_name\n",
      "- reference_id: model_name\n",
      "- bulk_rna_information: read_count\n",
      "- protein_information: protein_intensity\n",
      "- protein_id: uniprot_id\n"
     ]
    }
   ],
   "source": [
    "cl_lookup.protein_expression()"
   ]
  },
  {
   "cell_type": "code",
   "execution_count": 20,
   "id": "1b3649ef",
   "metadata": {},
   "outputs": [
    {
     "name": "stdout",
     "output_type": "stream",
     "text": [
      "To summarize: in the proteomics data you can find: \n",
      "948 cell lines\n",
      "8457 proteins\n",
      "6 meta data, including \n",
      "- uniprot_id\n",
      "- model_id\n",
      "- model_name\n",
      "- protein_intensity\n",
      "- zscore\n",
      "- symbol\n",
      "Overview of possible cell line reference identifiers: \n",
      "    model_id model_name\n",
      "0  SIDM00483    SK-GT-4\n",
      "1  SIDM00689        JM1\n",
      "2  SIDM01259      GR-ST\n",
      "3  SIDM00846       HeLa\n",
      "4  SIDM00958     CML-T1\n",
      "Default parameters to annotate protein expression: \n",
      "- query_id: cell_line_name\n",
      "- reference_id: model_name\n",
      "- bulk_rna_information: read_count\n",
      "- protein_information: protein_intensity\n",
      "- protein_id: uniprot_id\n",
      "0 cell lines are not found in the metadata.\n",
      "1 cell lines are found! \n"
     ]
    }
   ],
   "source": [
    "cl_lookup.protein_expression(query_id_list = adata_dialogue.obs['cell_line_name'].unique())"
   ]
  },
  {
   "cell_type": "code",
   "execution_count": 21,
   "id": "cff4f310",
   "metadata": {},
   "outputs": [
    {
     "name": "stdout",
     "output_type": "stream",
     "text": [
      "To summarize: in the proteomics data you can find: \n",
      "948 cell lines\n",
      "8457 proteins\n",
      "6 meta data, including \n",
      "- uniprot_id\n",
      "- model_id\n",
      "- model_name\n",
      "- protein_intensity\n",
      "- zscore\n",
      "- symbol\n",
      "Overview of possible cell line reference identifiers: \n",
      "    model_id model_name\n",
      "0  SIDM00483    SK-GT-4\n",
      "1  SIDM00689        JM1\n",
      "2  SIDM01259      GR-ST\n",
      "3  SIDM00846       HeLa\n",
      "4  SIDM00958     CML-T1\n",
      "Default parameters to annotate protein expression: \n",
      "- query_id: cell_line_name\n",
      "- reference_id: model_name\n",
      "- bulk_rna_information: read_count\n",
      "- protein_information: protein_intensity\n",
      "- protein_id: uniprot_id\n",
      "209 cell lines are not found in the metadata.\n",
      "0 cell lines are found! \n"
     ]
    }
   ],
   "source": [
    "cl_lookup.protein_expression(query_id_list = adata_mc.obs['DepMap_ID'].unique(),\n",
    "                                    reference_id = \"model_id\")"
   ]
  },
  {
   "cell_type": "code",
   "execution_count": 22,
   "id": "d73f4089",
   "metadata": {},
   "outputs": [
    {
     "name": "stdout",
     "output_type": "stream",
     "text": [
      "To summarize: in the CCLE expression data you can find: \n",
      "1406 cell lines\n",
      "19221 genes\n",
      "Only DepMap_ID is allowed to use as `reference_id`\n"
     ]
    }
   ],
   "source": [
    "cl_lookup.ccle_expression()"
   ]
  },
  {
   "cell_type": "code",
   "execution_count": 23,
   "id": "027db3a8",
   "metadata": {},
   "outputs": [
    {
     "name": "stdout",
     "output_type": "stream",
     "text": [
      "To summarize: in the CCLE expression data you can find: \n",
      "1406 cell lines\n",
      "19221 genes\n",
      "Only DepMap_ID is allowed to use as `reference_id`\n",
      "1 cell lines are not found in the metadata.\n",
      "0 cell lines are found! \n"
     ]
    }
   ],
   "source": [
    "cl_lookup.ccle_expression(query_id_list = adata_dialogue.obs['cell_line_name'].unique())"
   ]
  },
  {
   "cell_type": "code",
   "execution_count": 24,
   "id": "9e516848",
   "metadata": {},
   "outputs": [
    {
     "name": "stdout",
     "output_type": "stream",
     "text": [
      "To summarize: in the CCLE expression data you can find: \n",
      "1406 cell lines\n",
      "19221 genes\n",
      "Only DepMap_ID is allowed to use as `reference_id`\n",
      "1 cell lines are not found in the metadata.\n",
      "208 cell lines are found! \n"
     ]
    }
   ],
   "source": [
    "cl_lookup.ccle_expression(query_id_list = adata_mc.obs['DepMap_ID'].unique())"
   ]
  },
  {
   "cell_type": "code",
   "execution_count": 25,
   "id": "60c3a4df",
   "metadata": {},
   "outputs": [
    {
     "name": "stdout",
     "output_type": "stream",
     "text": [
      "To summarize: in the DepMap_Sanger driver gene annotation for intogen genes, you can find: \n",
      "3333 driver genes\n",
      "18 meta data including: \n",
      "- symbol\n",
      "- transcript\n",
      "- cohort\n",
      "- cancer_type\n",
      "- methods\n",
      "- mutations\n",
      "- samples\n",
      "- %_samples_cohort\n",
      "- qvalue_combination\n",
      "- role\n",
      "- cgc_gene\n",
      "- cgc_cancer_gene\n",
      "- domain\n",
      "- 2d_clusters\n",
      "- 3d_clusters\n",
      "- excess_mis\n",
      "- excess_non\n",
      "- excess_spl\n"
     ]
    }
   ],
   "source": [
    "cl_lookup.driver_genes()"
   ]
  },
  {
   "cell_type": "code",
   "execution_count": 26,
   "id": "9aebded4",
   "metadata": {},
   "outputs": [
    {
     "data": {
      "text/plain": [
       "Index(['symbol', 'transcript', 'cohort', 'cancer_type', 'methods', 'mutations',\n",
       "       'samples', '%_samples_cohort', 'qvalue_combination', 'role', 'cgc_gene',\n",
       "       'cgc_cancer_gene', 'domain', '2d_clusters', '3d_clusters', 'excess_mis',\n",
       "       'excess_non', 'excess_spl'],\n",
       "      dtype='object')"
      ]
     },
     "execution_count": 26,
     "metadata": {},
     "output_type": "execute_result"
    }
   ],
   "source": [
    "pt_metadata.driver_gene_intogen.columns"
   ]
  },
  {
   "cell_type": "code",
   "execution_count": 27,
   "id": "25d9947b",
   "metadata": {},
   "outputs": [
    {
     "data": {
      "text/plain": [
       "Index(['Gene Symbol', 'Name', 'Entrez GeneId', 'Genome Location', 'Tier',\n",
       "       'Hallmark', 'Chr Band', 'Somatic', 'Germline', 'Tumour Types(Somatic)',\n",
       "       'Tumour Types(Germline)', 'Cancer Syndrome', 'Tissue Type',\n",
       "       'Molecular Genetics', 'Role in Cancer', 'Mutation Types',\n",
       "       'Translocation Partner', 'Other Germline Mut', 'Other Syndrome',\n",
       "       'Synonyms'],\n",
       "      dtype='object')"
      ]
     },
     "execution_count": 27,
     "metadata": {},
     "output_type": "execute_result"
    }
   ],
   "source": [
    "pt_metadata.driver_gene_cosmic.columns"
   ]
  }
 ],
 "metadata": {
  "kernelspec": {
   "display_name": "Python 3 (ipykernel)",
   "language": "python",
   "name": "python3"
  },
  "language_info": {
   "codemirror_mode": {
    "name": "ipython",
    "version": 3
   },
   "file_extension": ".py",
   "mimetype": "text/x-python",
   "name": "python",
   "nbconvert_exporter": "python",
   "pygments_lexer": "ipython3",
   "version": "3.9.15"
  }
 },
 "nbformat": 4,
 "nbformat_minor": 5
}
